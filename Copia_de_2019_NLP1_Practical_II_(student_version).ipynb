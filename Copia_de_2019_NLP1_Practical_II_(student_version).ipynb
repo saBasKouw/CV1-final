{
  "nbformat": 4,
  "nbformat_minor": 0,
  "metadata": {
    "colab": {
      "name": "Copia de 2019 NLP1 Practical II (student version)",
      "provenance": [],
      "collapsed_sections": [],
      "toc_visible": true,
      "include_colab_link": true
    },
    "kernelspec": {
      "name": "python3",
      "display_name": "Python 3"
    },
    "accelerator": "GPU"
  },
  "cells": [
    {
      "cell_type": "markdown",
      "metadata": {
        "id": "view-in-github",
        "colab_type": "text"
      },
      "source": [
        "<a href=\"https://colab.research.google.com/github/saBasKouw/CV1-final/blob/master/Copia_de_2019_NLP1_Practical_II_(student_version).ipynb\" target=\"_parent\"><img src=\"https://colab.research.google.com/assets/colab-badge.svg\" alt=\"Open In Colab\"/></a>"
      ]
    },
    {
      "cell_type": "markdown",
      "metadata": {
        "id": "jILqpPLlE9r0",
        "colab_type": "text"
      },
      "source": [
        "# Practical 2: Encoding Sentences with Neural Models"
      ]
    },
    {
      "cell_type": "markdown",
      "metadata": {
        "id": "8JXOZ5uhQ8Qq",
        "colab_type": "text"
      },
      "source": [
        "In this practical we will train neural models to encode sentences, after which we can use our sentence representation for a downstream task such as sentiment classification. Rather than simply answering questions, like in the previous lab, **this time you are expected to write a four-page scientific report with your findings**. You will be judged by the quality of your report (see below). In this notebook, we will help you to develop models for your experiments. You do not have to hand in your answers, but please do include a link to a private Github gist with your code in your report as a footnote. \n",
        "\n",
        "### Data set\n",
        "We will make use of the [Stanford Sentiment Treebank](https://nlp.stanford.edu/sentiment/) (SST), which provides sentences, their tree structure, and (fine-grained) sentiment scores.\n",
        "This dataset is different from the one we used in the first practical. \n",
        "Before, a review consisted of several sentences, and we would have one sentiment score for it. Now, a review is a single sentence, for which we get a sentiment score. The special thing about our new data set is that we get a binary parse tree for each sentence, and a sentiment score has been assigned to each node in the tree. (We will look at an example below.)\n",
        "\n",
        "For the first part of this practical we will only make use of the tokens, but in the end we will also exploit the tree-structure that is provided!\n",
        "\n",
        "We will cover the following approaches:\n",
        "\n",
        "- Bag-of-words (BOW)\n",
        "- Continuous bag-of-words (CBOW)\n",
        "- Deep continuous bag-of-words (Deep CBOW)\n",
        "- LSTM\n",
        "- TreeLSTM\n"
      ]
    },
    {
      "cell_type": "markdown",
      "metadata": {
        "id": "bSmmXQoC8ebA",
        "colab_type": "text"
      },
      "source": [
        "### Important: Report \n",
        "\n",
        "The main purpose of this lab is for you to learn how to answer research questions by experimenting and then writing a scientific report.\n",
        "Your grade will be based on the quality of your report, not on the exercises in this notebook.\n",
        "You can find the requirements for the report at the end of this notebook."
      ]
    },
    {
      "cell_type": "markdown",
      "metadata": {
        "id": "YbNKef3lymaj",
        "colab_type": "text"
      },
      "source": [
        "## Preparing the data"
      ]
    },
    {
      "cell_type": "markdown",
      "metadata": {
        "id": "9jxTkpg59FlU",
        "colab_type": "text"
      },
      "source": [
        "Let's first download the data set and take a look."
      ]
    },
    {
      "cell_type": "code",
      "metadata": {
        "id": "WZp53HmMP3F2",
        "colab_type": "code",
        "colab": {}
      },
      "source": [
        "import re\n",
        "import random\n",
        "import time\n",
        "import math\n",
        "import numpy as np\n",
        "import nltk\n",
        "import matplotlib.pyplot as plt\n",
        "plt.style.use('default')"
      ],
      "execution_count": 0,
      "outputs": []
    },
    {
      "cell_type": "code",
      "metadata": {
        "id": "TovFkDTgE_d6",
        "colab_type": "code",
        "outputId": "f17af0ec-be48-43f4-b0d0-1a74996d1791",
        "colab": {
          "base_uri": "https://localhost:8080/",
          "height": 357
        }
      },
      "source": [
        "!wget http://nlp.stanford.edu/sentiment/trainDevTestTrees_PTB.zip\n",
        "!unzip trainDevTestTrees_PTB.zip"
      ],
      "execution_count": 3,
      "outputs": [
        {
          "output_type": "stream",
          "text": [
            "--2019-12-10 20:06:11--  http://nlp.stanford.edu/sentiment/trainDevTestTrees_PTB.zip\n",
            "Resolving nlp.stanford.edu (nlp.stanford.edu)... 171.64.67.140\n",
            "Connecting to nlp.stanford.edu (nlp.stanford.edu)|171.64.67.140|:80... connected.\n",
            "HTTP request sent, awaiting response... 302 Found\n",
            "Location: https://nlp.stanford.edu/sentiment/trainDevTestTrees_PTB.zip [following]\n",
            "--2019-12-10 20:06:11--  https://nlp.stanford.edu/sentiment/trainDevTestTrees_PTB.zip\n",
            "Connecting to nlp.stanford.edu (nlp.stanford.edu)|171.64.67.140|:443... connected.\n",
            "HTTP request sent, awaiting response... 200 OK\n",
            "Length: 789539 (771K) [application/zip]\n",
            "Saving to: ‘trainDevTestTrees_PTB.zip’\n",
            "\n",
            "trainDevTestTrees_P 100%[===================>] 771.03K   418KB/s    in 1.8s    \n",
            "\n",
            "2019-12-10 20:06:13 (418 KB/s) - ‘trainDevTestTrees_PTB.zip’ saved [789539/789539]\n",
            "\n",
            "Archive:  trainDevTestTrees_PTB.zip\n",
            "   creating: trees/\n",
            "  inflating: trees/dev.txt           \n",
            "  inflating: trees/test.txt          \n",
            "  inflating: trees/train.txt         \n"
          ],
          "name": "stdout"
        }
      ]
    },
    {
      "cell_type": "code",
      "metadata": {
        "id": "0IpAphkBO5eW",
        "colab_type": "code",
        "colab": {}
      },
      "source": [
        "# this function reads in a textfile and fixes an issue with \\\\\n",
        "def filereader(path): \n",
        "  with open(path, mode=\"r\", encoding=\"utf-8\") as f:\n",
        "    for line in f:\n",
        "      yield line.strip().replace(\"\\\\\",\"\")"
      ],
      "execution_count": 0,
      "outputs": []
    },
    {
      "cell_type": "code",
      "metadata": {
        "id": "ylkIopm0QJML",
        "colab_type": "code",
        "outputId": "2aa7c245-7591-45d7-8728-6e56c29470a0",
        "colab": {
          "base_uri": "https://localhost:8080/",
          "height": 54
        }
      },
      "source": [
        "# Let's look at a data point.\n",
        "# If you look closely you will find that this is a flattened tree, \n",
        "# with sentiment scores at every node, and words as the leaves.\n",
        "s = next(filereader(\"trees/dev.txt\"))\n",
        "print(s)"
      ],
      "execution_count": 5,
      "outputs": [
        {
          "output_type": "stream",
          "text": [
            "(3 (2 It) (4 (4 (2 's) (4 (3 (2 a) (4 (3 lovely) (2 film))) (3 (2 with) (4 (3 (3 lovely) (2 performances)) (2 (2 by) (2 (2 (2 Buy) (2 and)) (2 Accorsi))))))) (2 .)))\n"
          ],
          "name": "stdout"
        }
      ]
    },
    {
      "cell_type": "code",
      "metadata": {
        "id": "7_U7HTFwdrWt",
        "colab_type": "code",
        "outputId": "363380a4-5581-4d71-a488-f4f02321b15e",
        "colab": {
          "base_uri": "https://localhost:8080/",
          "height": 391
        }
      },
      "source": [
        "# We can use NLTK to print the tree structure more nicely\n",
        "from nltk import Tree\n",
        "from nltk.treeprettyprinter import TreePrettyPrinter\n",
        "tree = Tree.fromstring(s)\n",
        "print(TreePrettyPrinter(tree))"
      ],
      "execution_count": 6,
      "outputs": [
        {
          "output_type": "stream",
          "text": [
            "              3                                                                     \n",
            "  ____________|____________________                                                  \n",
            " |                                 4                                                \n",
            " |        _________________________|______________________________________________   \n",
            " |       4                                                                        | \n",
            " |    ___|______________                                                          |  \n",
            " |   |                  4                                                         | \n",
            " |   |         _________|__________                                               |  \n",
            " |   |        |                    3                                              | \n",
            " |   |        |               _____|______________________                        |  \n",
            " |   |        |              |                            4                       | \n",
            " |   |        |              |            ________________|_______                |  \n",
            " |   |        |              |           |                        2               | \n",
            " |   |        |              |           |                 _______|___            |  \n",
            " |   |        3              |           |                |           2           | \n",
            " |   |    ____|_____         |           |                |        ___|_____      |  \n",
            " |   |   |          4        |           3                |       2         |     | \n",
            " |   |   |     _____|___     |      _____|_______         |    ___|___      |     |  \n",
            " 2   2   2    3         2    2     3             2        2   2       2     2     2 \n",
            " |   |   |    |         |    |     |             |        |   |       |     |     |  \n",
            " It  's  a  lovely     film with lovely     performances  by Buy     and Accorsi  . \n",
            "\n"
          ],
          "name": "stdout"
        }
      ]
    },
    {
      "cell_type": "markdown",
      "metadata": {
        "id": "ekAWKsji9t93",
        "colab_type": "text"
      },
      "source": [
        "You can see the sentiment annotations here **at every node**! 0 is very negative, 4 is very positive. For now, we will only use the sentiment score at the **root node**; this is the score for the complete sentence."
      ]
    },
    {
      "cell_type": "code",
      "metadata": {
        "id": "DKynLm0xPKr2",
        "colab_type": "code",
        "outputId": "fcf6f5a9-2726-4942-9270-102a68bbd505",
        "colab": {
          "base_uri": "https://localhost:8080/",
          "height": 51
        }
      },
      "source": [
        "# Let's first make a function that extracts the tokens (the leaves).\n",
        "\n",
        "def tokens_from_treestring(s):\n",
        "  \"\"\"extract the tokens from a sentiment tree\"\"\"\n",
        "  return re.sub(r\"\\([0-9] |\\)\", \"\", s).split()\n",
        " \n",
        "# let's try it on our example tree\n",
        "tokens = tokens_from_treestring(s)\n",
        "print(tokens)\n",
        "print(len(tokens))"
      ],
      "execution_count": 7,
      "outputs": [
        {
          "output_type": "stream",
          "text": [
            "['It', \"'s\", 'a', 'lovely', 'film', 'with', 'lovely', 'performances', 'by', 'Buy', 'and', 'Accorsi', '.']\n",
            "13\n"
          ],
          "name": "stdout"
        }
      ]
    },
    {
      "cell_type": "markdown",
      "metadata": {
        "id": "B8vFkeqN-NLP",
        "colab_type": "text"
      },
      "source": [
        "> *Warning: you could also parse a treestring using NLTK and ask it to return the leaves, but there seems to be an issue with NLTK not always correctly parsing the input, so do not rely on it.*"
      ]
    },
    {
      "cell_type": "code",
      "metadata": {
        "id": "Akr9K_Mv4dym",
        "colab_type": "code",
        "colab": {}
      },
      "source": [
        "# We will also need the following function, but you can ignore this for now.\n",
        "# It is explained later on.\n",
        "\n",
        "SHIFT = 0\n",
        "REDUCE = 1\n",
        "\n",
        "\n",
        "def transitions_from_treestring(s):\n",
        "  s = re.sub(\"\\([0-5] ([^)]+)\\)\", \"0\", s)\n",
        "  s = re.sub(\"\\)\", \" )\", s)\n",
        "  s = re.sub(\"\\([0-4] \", \"\", s)\n",
        "  s = re.sub(\"\\([0-4] \", \"\", s)\n",
        "  s = re.sub(\"\\)\", \"1\", s)\n",
        "  return list(map(int, s.split()))"
      ],
      "execution_count": 0,
      "outputs": []
    },
    {
      "cell_type": "code",
      "metadata": {
        "id": "mNtPdlwPgRat",
        "colab_type": "code",
        "outputId": "41954e9e-502b-455e-d034-f27d1541a25e",
        "colab": {
          "base_uri": "https://localhost:8080/",
          "height": 68
        }
      },
      "source": [
        "# Now let's first see how large our data sets are.\n",
        "for path in (\"trees/train.txt\", \"trees/dev.txt\", \"trees/test.txt\"):\n",
        "  print(\"{:16s} {:4d}\".format(path, sum(1 for _ in filereader(path))))"
      ],
      "execution_count": 9,
      "outputs": [
        {
          "output_type": "stream",
          "text": [
            "trees/train.txt  8544\n",
            "trees/dev.txt    1101\n",
            "trees/test.txt   2210\n"
          ],
          "name": "stdout"
        }
      ]
    },
    {
      "cell_type": "markdown",
      "metadata": {
        "id": "HexlSqTR_UrY",
        "colab_type": "text"
      },
      "source": [
        "You can see that this data set is not very large! That's probably because it required so much manual annotation. However, it's large enough to train a neural network on.\n",
        "\n",
        "It will be useful to store each data example in an `Example` object,\n",
        "containing everything that we may need for each data point.\n",
        "It will contain the tokens, the tree, the top-level sentiment label, and \n",
        "the transitions (explained later)."
      ]
    },
    {
      "cell_type": "code",
      "metadata": {
        "id": "4I07Hb_-q8wg",
        "colab_type": "code",
        "outputId": "c84bb5ad-db7b-4105-9d87-431ee33b5383",
        "colab": {
          "base_uri": "https://localhost:8080/",
          "height": 85
        }
      },
      "source": [
        "from collections import namedtuple\n",
        "from nltk import Tree\n",
        "\n",
        "# A simple way to define a class is using namedtuple.\n",
        "Example = namedtuple(\"Example\", [\"tokens\", \"tree\", \"label\", \"transitions\"])\n",
        "\n",
        "lens = []\n",
        "def examplereader(path, lower=False):\n",
        "  \"\"\"Returns all examples in a file one by one.\"\"\"\n",
        "  for line in filereader(path):\n",
        "\n",
        "  # here:\n",
        "  # if  len(sentence) > threeshold:\n",
        "  #  do something\n",
        "  # else:\n",
        "  # pass\n",
        "    line = line.lower() if lower else line\n",
        "    tokens = tokens_from_treestring(line)\n",
        "    lens.append(len(tokens))\n",
        "\n",
        "    if len(tokens) >= 18:\n",
        "      continue\n",
        "\n",
        "    tree = Tree.fromstring(line)  # use NLTK's Tree\n",
        "    label = int(line[1])\n",
        "    trans = transitions_from_treestring(line)\n",
        "    yield Example(tokens=tokens, tree=tree, label=label, transitions=trans)\n",
        "  \n",
        "\n",
        "# Let's load the data into memory.\n",
        "LOWER = False  # we will keep the original casing\n",
        "train_data = list(examplereader(\"trees/train.txt\", lower=LOWER))\n",
        "dev_data = list(examplereader(\"trees/dev.txt\", lower=LOWER))\n",
        "test_data = list(examplereader(\"trees/test.txt\", lower=LOWER))\n",
        "\n",
        "print(\"train\", len(train_data))\n",
        "print(\"dev\", len(dev_data))\n",
        "print(\"test\", len(test_data))\n",
        "\n",
        "from collections import Counter\n",
        "import statistics\n",
        "\n",
        "print(statistics.median(lens))\n",
        "\n",
        "# train 8544\n",
        "# dev 1101\n",
        "# test 2210"
      ],
      "execution_count": 59,
      "outputs": [
        {
          "output_type": "stream",
          "text": [
            "train 3962\n",
            "dev 504\n",
            "test 1003\n",
            "18\n"
          ],
          "name": "stdout"
        }
      ]
    },
    {
      "cell_type": "markdown",
      "metadata": {
        "id": "6KM0bDyeVZtP",
        "colab_type": "text"
      },
      "source": [
        "Let's check out an example object."
      ]
    },
    {
      "cell_type": "code",
      "metadata": {
        "id": "J8mwcaZwxP1c",
        "colab_type": "code",
        "outputId": "2ee19dba-92cb-483e-fc10-5feebead541e",
        "colab": {
          "base_uri": "https://localhost:8080/",
          "height": 88
        }
      },
      "source": [
        "example = dev_data[0]\n",
        "print(\"First train example:\", example)\n",
        "print(\"First train example tokens:\", example.tokens)\n",
        "print(\"First train example label:\",  example.label)"
      ],
      "execution_count": 60,
      "outputs": [
        {
          "output_type": "stream",
          "text": [
            "First train example: Example(tokens=['It', \"'s\", 'a', 'lovely', 'film', 'with', 'lovely', 'performances', 'by', 'Buy', 'and', 'Accorsi', '.'], tree=Tree('3', [Tree('2', ['It']), Tree('4', [Tree('4', [Tree('2', [\"'s\"]), Tree('4', [Tree('3', [Tree('2', ['a']), Tree('4', [Tree('3', ['lovely']), Tree('2', ['film'])])]), Tree('3', [Tree('2', ['with']), Tree('4', [Tree('3', [Tree('3', ['lovely']), Tree('2', ['performances'])]), Tree('2', [Tree('2', ['by']), Tree('2', [Tree('2', [Tree('2', ['Buy']), Tree('2', ['and'])]), Tree('2', ['Accorsi'])])])])])])]), Tree('2', ['.'])])]), label=3, transitions=[0, 0, 0, 0, 0, 1, 1, 0, 0, 0, 1, 0, 0, 0, 1, 0, 1, 1, 1, 1, 1, 1, 0, 1, 1])\n",
            "First train example tokens: ['It', \"'s\", 'a', 'lovely', 'film', 'with', 'lovely', 'performances', 'by', 'Buy', 'and', 'Accorsi', '.']\n",
            "First train example label: 3\n"
          ],
          "name": "stdout"
        }
      ]
    },
    {
      "cell_type": "markdown",
      "metadata": {
        "id": "-WDSprDBVcr-",
        "colab_type": "text"
      },
      "source": [
        "#### Vocabulary \n",
        "To work with this data we will need a vocabulary.\n",
        "The job of the vocabulary is to map each word to a unique ID.\n"
      ]
    },
    {
      "cell_type": "code",
      "metadata": {
        "id": "VvNgKx7usRSt",
        "colab_type": "code",
        "colab": {}
      },
      "source": [
        "# Here we first define a class that can map a word to an ID (w2i)\n",
        "# and back (i2w).\n",
        "\n",
        "from collections import Counter, OrderedDict, defaultdict\n",
        "\n",
        "\n",
        "class OrderedCounter(Counter, OrderedDict):\n",
        "  \"\"\"Counter that remembers the order elements are first seen\"\"\"\n",
        "  def __repr__(self):\n",
        "    return '%s(%r)' % (self.__class__.__name__,\n",
        "                      OrderedDict(self))\n",
        "  def __reduce__(self):\n",
        "    return self.__class__, (OrderedDict(self),)\n",
        "\n",
        "\n",
        "class Vocabulary:\n",
        "  \"\"\"A vocabulary, assigns IDs to tokens\"\"\"\n",
        "  \n",
        "  def __init__(self):\n",
        "    self.freqs = OrderedCounter()\n",
        "    self.w2i = {}\n",
        "    self.i2w = []\n",
        "\n",
        "  def count_token(self, t):\n",
        "    self.freqs[t] += 1\n",
        "    \n",
        "  def add_token(self, t):\n",
        "    self.w2i[t] = len(self.w2i)\n",
        "    self.i2w.append(t)    \n",
        "    \n",
        "  def build(self, min_freq=0):\n",
        "    self.add_token(\"<unk>\")  # reserve 0 for <unk> (unknown words)\n",
        "    self.add_token(\"<pad>\")  # reserve 1 for <pad> (discussed later)   \n",
        "    \n",
        "    tok_freq = list(self.freqs.items())\n",
        "    tok_freq.sort(key=lambda x: x[1], reverse=True)\n",
        "    for tok, freq in tok_freq:\n",
        "      if freq >= min_freq:\n",
        "        self.add_token(tok)"
      ],
      "execution_count": 0,
      "outputs": []
    },
    {
      "cell_type": "markdown",
      "metadata": {
        "id": "kOvkH_llVsoW",
        "colab_type": "text"
      },
      "source": [
        "Let's build the token vocabulary!\n",
        "\n",
        "When randomly initializing word vectors, we take the words in our training\n",
        "set and assign them unique IDs, and assign all other words to $<$unk$>$, \n",
        "because those we cannot learn a vector for based on our training data.\n"
      ]
    },
    {
      "cell_type": "code",
      "metadata": {
        "id": "GwGQgQQBNUSq",
        "colab_type": "code",
        "outputId": "739d00b7-40ed-4f29-c5f4-efba979d385d",
        "colab": {
          "base_uri": "https://localhost:8080/",
          "height": 34
        }
      },
      "source": [
        "# This process should be deterministic and should have the same result \n",
        "# if run multiple times on the same data set.\n",
        "\n",
        "v = Vocabulary()\n",
        "for data_set in (train_data,):\n",
        "  for ex in data_set:\n",
        "    for token in ex.tokens:\n",
        "      v.count_token(token)\n",
        "\n",
        "v.build()\n",
        "print(\"Vocabulary size:\", len(v.w2i))"
      ],
      "execution_count": 62,
      "outputs": [
        {
          "output_type": "stream",
          "text": [
            "Vocabulary size: 8491\n"
          ],
          "name": "stdout"
        }
      ]
    },
    {
      "cell_type": "markdown",
      "metadata": {
        "id": "-UNIedPrPdCw",
        "colab_type": "text"
      },
      "source": [
        "Let's have a closer look at the properties of our vocabulary. Having a good idea of what it is like can facilitate data analysis and debugging later on."
      ]
    },
    {
      "cell_type": "code",
      "metadata": {
        "id": "oJyuogmh0CA7",
        "colab_type": "code",
        "outputId": "3ec5c01d-3a3e-418b-a707-0cb2a6a04369",
        "colab": {
          "base_uri": "https://localhost:8080/",
          "height": 34
        }
      },
      "source": [
        "# What is the ID for \"century?\"\n",
        "print(v.w2i['century'])"
      ],
      "execution_count": 63,
      "outputs": [
        {
          "output_type": "stream",
          "text": [
            "1113\n"
          ],
          "name": "stdout"
        }
      ]
    },
    {
      "cell_type": "code",
      "metadata": {
        "id": "O8OkPQ8Zv-rI",
        "colab_type": "code",
        "outputId": "85dc6f0f-3545-418b-c015-c787dc9e4186",
        "colab": {
          "base_uri": "https://localhost:8080/",
          "height": 34
        }
      },
      "source": [
        "# What are the first 10 words in the vocabulary?\n",
        "temp = [v.i2w[i] for i in range(10)]\n",
        "print(temp)"
      ],
      "execution_count": 15,
      "outputs": [
        {
          "output_type": "stream",
          "text": [
            "['<unk>', '<pad>', ',', 'the', '.', 'of', 'and', 'a', 'to', \"'s\"]\n"
          ],
          "name": "stdout"
        }
      ]
    },
    {
      "cell_type": "code",
      "metadata": {
        "id": "kmXwu02lOLWI",
        "colab_type": "code",
        "outputId": "d32cfee4-4870-48a4-9f3b-818e4901c4bd",
        "colab": {
          "base_uri": "https://localhost:8080/",
          "height": 54
        }
      },
      "source": [
        "# What are the 10 most common words?\n",
        "temp = list(v.freqs.items())\n",
        "sorted_v = sorted(temp, key=lambda tup : tup[1])\n",
        "print(sorted_v[-10:])"
      ],
      "execution_count": 16,
      "outputs": [
        {
          "output_type": "stream",
          "text": [
            "[('that', 1528), ('is', 1729), (\"'s\", 1864), ('to', 2412), ('a', 3293), ('and', 3301), ('of', 3408), ('.', 4383), ('the', 4828), (',', 5599)]\n"
          ],
          "name": "stdout"
        }
      ]
    },
    {
      "cell_type": "code",
      "metadata": {
        "id": "__NDPaCeOT_m",
        "colab_type": "code",
        "outputId": "43a21f5c-9693-45c0-f327-88755f59f7f4",
        "colab": {
          "base_uri": "https://localhost:8080/",
          "height": 34
        }
      },
      "source": [
        "# And how many words are there with frequency 1?\n",
        "count = 0\n",
        "\n",
        "for w, n in sorted_v:\n",
        "  if n == 1:\n",
        "    count += 1\n",
        "  else:\n",
        "    break\n",
        "\n",
        "count\n",
        "    "
      ],
      "execution_count": 17,
      "outputs": [
        {
          "output_type": "execute_result",
          "data": {
            "text/plain": [
              "8336"
            ]
          },
          "metadata": {
            "tags": []
          },
          "execution_count": 17
        }
      ]
    },
    {
      "cell_type": "code",
      "metadata": {
        "id": "xKHocugctZGM",
        "colab_type": "code",
        "outputId": "c99a4e8c-da1a-4a7f-8485-93424fc17cd3",
        "colab": {
          "base_uri": "https://localhost:8080/",
          "height": 187
        }
      },
      "source": [
        "# Finally 20 random words from the vocabulary.\n",
        "# This is a simple way to get a feeling for the data.\n",
        "\n",
        "import random\n",
        "\n",
        "temp = []\n",
        "\n",
        "for x in range(10):\n",
        "  rand = random.randint(0,len(sorted_v))\n",
        "  temp.append(v.i2w[rand])\n",
        "\n",
        "temp"
      ],
      "execution_count": 18,
      "outputs": [
        {
          "output_type": "execute_result",
          "data": {
            "text/plain": [
              "['stumblebum',\n",
              " 'singles',\n",
              " 'Trials',\n",
              " 'cellular',\n",
              " 'Stallion',\n",
              " 'predict',\n",
              " 'Director-writer',\n",
              " 'movie-esque',\n",
              " '1950s',\n",
              " 'base']"
            ]
          },
          "metadata": {
            "tags": []
          },
          "execution_count": 18
        }
      ]
    },
    {
      "cell_type": "markdown",
      "metadata": {
        "id": "nGWaZahKV_dH",
        "colab_type": "text"
      },
      "source": [
        "#### Sentiment label vocabulary"
      ]
    },
    {
      "cell_type": "code",
      "metadata": {
        "id": "AmTC-rvQelpl",
        "colab_type": "code",
        "outputId": "099f3bc9-e6b2-48ee-f4ee-62519a7c8062",
        "colab": {
          "base_uri": "https://localhost:8080/",
          "height": 34
        }
      },
      "source": [
        "# Now let's map the sentiment labels 0-4 to a more readable form\n",
        "i2t = [\"very negative\", \"negative\", \"neutral\", \"positive\", \"very positive\"]\n",
        "i2t"
      ],
      "execution_count": 19,
      "outputs": [
        {
          "output_type": "execute_result",
          "data": {
            "text/plain": [
              "['very negative', 'negative', 'neutral', 'positive', 'very positive']"
            ]
          },
          "metadata": {
            "tags": []
          },
          "execution_count": 19
        }
      ]
    },
    {
      "cell_type": "code",
      "metadata": {
        "id": "D7UI26DP2dr2",
        "colab_type": "code",
        "outputId": "4074d072-26d0-4ef2-e52d-2b7c12e6828b",
        "colab": {
          "base_uri": "https://localhost:8080/",
          "height": 102
        }
      },
      "source": [
        "# And let's also create the opposite mapping.\n",
        "# We won't use a Vocabulary for this (although we could), since the labels\n",
        "# are already numeric.\n",
        "t2i = OrderedDict({p : i for p, i in zip(i2t, range(len(i2t)))})\n",
        "t2i"
      ],
      "execution_count": 20,
      "outputs": [
        {
          "output_type": "execute_result",
          "data": {
            "text/plain": [
              "OrderedDict([('very negative', 0),\n",
              "             ('negative', 1),\n",
              "             ('neutral', 2),\n",
              "             ('positive', 3),\n",
              "             ('very positive', 4)])"
            ]
          },
          "metadata": {
            "tags": []
          },
          "execution_count": 20
        }
      ]
    },
    {
      "cell_type": "markdown",
      "metadata": {
        "id": "y0067ax54-rd",
        "colab_type": "text"
      },
      "source": [
        "## Installing PyTorch\n",
        "\n",
        "In Colab notebooks, the last available version of PyTorch is already installed (pytorch 1.3.1 is there on Nov 12, 2019). Run the box here below to see what version you have. If PyTorch is not there, uncomment the lines in the box below and run it again (this way, you should be able to install PyTorch 1.3.1.):\n",
        "\n",
        "*For installing PyTorch in your own computer, follow the instructions on [pytorch.org](pytorch.org) instead. This is for Google Colab only.*"
      ]
    },
    {
      "cell_type": "code",
      "metadata": {
        "id": "qKQMGtkR5KWr",
        "colab_type": "code",
        "colab": {}
      },
      "source": [
        "# http://pytorch.org/\n",
        "from os.path import exists\n",
        "#from wheel.pep425tags import get_abbr_impl, get_impl_ver, get_abi_tag\n",
        "#platform = '{}{}-{}'.format(get_abbr_impl(), get_impl_ver(), get_abi_tag())\n",
        "#cuda_output = !ldconfig -p|grep cudart.so|sed -e 's/.*\\.\\([0-9]*\\)\\.\\([0-9]*\\)$/cu\\1\\2/'\n",
        "#accelerator = cuda_output[0] if exists('/dev/nvidia0') else 'cpu'\n",
        "#!pip install http://download.pytorch.org/whl/{accelerator}/torch-1.3.1-{platform}-linux_x86_64.whl torchvision\n",
        "\n",
        "import torch\n",
        "from torch import optim\n",
        "from torch import nn"
      ],
      "execution_count": 0,
      "outputs": []
    },
    {
      "cell_type": "code",
      "metadata": {
        "id": "BhiRqhTM5V4c",
        "colab_type": "code",
        "outputId": "744858f0-07f2-4472-8baa-22f1c0eeae85",
        "colab": {
          "base_uri": "https://localhost:8080/",
          "height": 34
        }
      },
      "source": [
        "# this should result in the PyTorch version\n",
        "torch.__version__"
      ],
      "execution_count": 22,
      "outputs": [
        {
          "output_type": "execute_result",
          "data": {
            "text/plain": [
              "'1.3.1'"
            ]
          },
          "metadata": {
            "tags": []
          },
          "execution_count": 22
        }
      ]
    },
    {
      "cell_type": "code",
      "metadata": {
        "id": "BYt8uTyGCKc7",
        "colab_type": "code",
        "outputId": "1436491b-58bd-4bf1-b956-38cdbdd7dd4e",
        "colab": {
          "base_uri": "https://localhost:8080/",
          "height": 34
        }
      },
      "source": [
        "# PyTorch can run on CPU or on Nvidia GPU (video card) using CUDA\n",
        "# This cell selects the GPU if one is available.\n",
        "device = torch.device('cuda' if torch.cuda.is_available() else 'cpu')\n",
        "device"
      ],
      "execution_count": 23,
      "outputs": [
        {
          "output_type": "execute_result",
          "data": {
            "text/plain": [
              "device(type='cuda')"
            ]
          },
          "metadata": {
            "tags": []
          },
          "execution_count": 23
        }
      ]
    },
    {
      "cell_type": "code",
      "metadata": {
        "id": "2d1VMOOYx1Bw",
        "colab_type": "code",
        "colab": {}
      },
      "source": [
        "# Seed manually to make runs reproducible\n",
        "# You need to set this again if you do multiple runs of the same model\n",
        "torch.manual_seed(0)\n",
        "\n",
        "# When running on the CuDNN backend two further options must be set for reproducibility\n",
        "if torch.cuda.is_available():\n",
        "  torch.backends.cudnn.deterministic = True\n",
        "  torch.backends.cudnn.benchmark = False"
      ],
      "execution_count": 0,
      "outputs": []
    },
    {
      "cell_type": "markdown",
      "metadata": {
        "id": "uWBTzkuE3CtZ",
        "colab_type": "text"
      },
      "source": [
        "# BOW"
      ]
    },
    {
      "cell_type": "markdown",
      "metadata": {
        "id": "TBAjYYySOA5W",
        "colab_type": "text"
      },
      "source": [
        "Our first model is a super simple neural **bag-of-words (BOW) model**.\n",
        "Unlike the bag-of-words model that you used in the previous lab, here we associate each word with a vector of size 5, exactly our number of sentiment classes. \n",
        "\n",
        "To make a classification, we simply **sum** the vectors of the words in our sentence and a bias vector. Because we sum the vectors, we lose word order: that's why we call this a neural bag-of-words model.\n",
        "\n",
        "```\n",
        "this   [0.0, 0.1, 0.1, 0.1, 0.0]\n",
        "movie  [0.0, 0.1, 0.1, 0.2, 0.1]\n",
        "is     [0.0, 0.1, 0.0, 0.0, 0.0]\n",
        "stupid [0.9, 0.5, 0.1, 0.0, 0.0]\n",
        "\n",
        "bias   [0.0, 0.0, 0.0, 0.0, 0.0]\n",
        "--------------------------------\n",
        "sum    [0.9, 0.8, 0.3, 0.3, 0.1]\n",
        "\n",
        "argmax: 0 (very negative)\n",
        "```\n",
        "\n",
        "Now, the **argmax** of this sum is our predicted label.\n",
        "\n",
        "We initialize all vectors *randomly* and train them using cross-entropy loss."
      ]
    },
    {
      "cell_type": "markdown",
      "metadata": {
        "id": "rLtBAIQGynkB",
        "colab_type": "text"
      },
      "source": [
        "#### Model class"
      ]
    },
    {
      "cell_type": "code",
      "metadata": {
        "id": "QZfNklWf3tvs",
        "colab_type": "code",
        "colab": {}
      },
      "source": [
        "class BOW(nn.Module):\n",
        "  \"\"\"A simple bag-of-words model\"\"\"\n",
        "\n",
        "  def __init__(self, vocab_size, embedding_dim, vocab):\n",
        "    super(BOW, self).__init__()\n",
        "    self.vocab = vocab\n",
        "    \n",
        "    # this is a trained look-up table with word embeddings\n",
        "    self.embed = nn.Embedding(vocab_size, embedding_dim)\n",
        "    \n",
        "    # this is a trained bias term\n",
        "    self.bias = nn.Parameter(torch.zeros(embedding_dim), requires_grad=True)        \n",
        "\n",
        "  def forward(self, inputs):\n",
        "    # this is the forward pass of the neural network\n",
        "    # given inputs, it computes the output\n",
        "\n",
        "    # this looks up the embeddings for each word ID in inputs\n",
        "    # the result is a sequence of word embeddings\n",
        "    embeds = self.embed(inputs)\n",
        "    \n",
        "    # the output is the sum across the time dimension (1)\n",
        "    # with the bias term added\n",
        "    logits = embeds.sum(1) + self.bias\n",
        "\n",
        "    return logits"
      ],
      "execution_count": 0,
      "outputs": []
    },
    {
      "cell_type": "code",
      "metadata": {
        "colab_type": "code",
        "id": "eKHvBnoBAr6z",
        "outputId": "995cbafd-3e1e-4544-d861-ec5d57a65143",
        "colab": {
          "base_uri": "https://localhost:8080/",
          "height": 68
        }
      },
      "source": [
        "# Let's create a model.\n",
        "vocab_size = len(v.w2i)\n",
        "n_classes = len(t2i)\n",
        "bow_model = BOW(vocab_size, n_classes, v)\n",
        "print(bow_model)"
      ],
      "execution_count": 26,
      "outputs": [
        {
          "output_type": "stream",
          "text": [
            "BOW(\n",
            "  (embed): Embedding(15418, 5)\n",
            ")\n"
          ],
          "name": "stdout"
        }
      ]
    },
    {
      "cell_type": "markdown",
      "metadata": {
        "id": "vfCx-HvMH1qQ",
        "colab_type": "text"
      },
      "source": [
        "> **Hey, wait, where is the bias vector?**\n",
        "> PyTorch does not print Parameters, only Modules!\n",
        "\n",
        "> We can print it ourselves though, to check that it is there."
      ]
    },
    {
      "cell_type": "code",
      "metadata": {
        "colab_type": "code",
        "id": "Fhvk5HenAroT",
        "outputId": "5590621b-2451-47d1-dcd3-014ed80a2293",
        "colab": {
          "base_uri": "https://localhost:8080/",
          "height": 102
        }
      },
      "source": [
        "\n",
        "# Here we print each parameter name, shape, and if it is trainable.\n",
        "def print_parameters(model):\n",
        "  total = 0\n",
        "  for name, p in model.named_parameters():\n",
        "    total += np.prod(p.shape)\n",
        "    print(\"{:24s} {:12s} requires_grad={}\".format(name, str(list(p.shape)), p.requires_grad))\n",
        "  print(\"\\nTotal parameters: {}\\n\".format(total))\n",
        "    \n",
        "\n",
        "print_parameters(bow_model)"
      ],
      "execution_count": 27,
      "outputs": [
        {
          "output_type": "stream",
          "text": [
            "bias                     [5]          requires_grad=True\n",
            "embed.weight             [15418, 5]   requires_grad=True\n",
            "\n",
            "Total parameters: 77095\n",
            "\n"
          ],
          "name": "stdout"
        }
      ]
    },
    {
      "cell_type": "markdown",
      "metadata": {
        "id": "WSAw292WxuP4",
        "colab_type": "text"
      },
      "source": [
        "#### Preparing an example for input\n",
        "\n",
        "To feed sentences to our PyTorch model, we need to convert a sequence of tokens to a sequence of IDs. The `prepare_example` function below takes care of this for us. With these IDs we index the word embedding table. "
      ]
    },
    {
      "cell_type": "code",
      "metadata": {
        "id": "YWeGTC_OGReV",
        "colab_type": "code",
        "colab": {}
      },
      "source": [
        "def prepare_example(example, vocab):\n",
        "  \"\"\"\n",
        "  Map tokens to their IDs for 1 example\n",
        "  \"\"\"\n",
        "  \n",
        "  # vocab returns 0 if the word is not there\n",
        "  x = [vocab.w2i.get(t, 0) for t in example.tokens]\n",
        "  \n",
        "  x = torch.LongTensor([x])\n",
        "  x = x.to(device)\n",
        "  \n",
        "  y = torch.LongTensor([example.label])\n",
        "  y = y.to(device)\n",
        "  \n",
        "  return x, y"
      ],
      "execution_count": 0,
      "outputs": []
    },
    {
      "cell_type": "markdown",
      "metadata": {
        "id": "oKNQjEc0yXnJ",
        "colab_type": "text"
      },
      "source": [
        "#### Evaluation\n",
        "We will need one more thing: an evaluation metric.\n",
        "How many predictions do we get right? The accuracy will tell us.\n",
        "Make sure that you understand this code block.\n"
      ]
    },
    {
      "cell_type": "code",
      "metadata": {
        "id": "yGmQLcVYKZsh",
        "colab_type": "code",
        "colab": {}
      },
      "source": [
        "\n",
        "def simple_evaluate(model, data, prep_fn=prepare_example, **kwargs):\n",
        "  \"\"\"Accuracy of a model on given data set.\"\"\"\n",
        "  correct = 0\n",
        "  total = 0\n",
        "  model.eval()  # disable dropout (explained later)\n",
        "\n",
        "  for example in data:\n",
        "    \n",
        "    # convert the example input and label to PyTorch tensors\n",
        "    x, target = prep_fn(example, model.vocab)\n",
        "\n",
        "    # forward pass\n",
        "    # get the output from the neural network for input x\n",
        "    with torch.no_grad():\n",
        "      logits = model(x)\n",
        "    \n",
        "    # get out the prediction\n",
        "    prediction = logits.argmax(dim=-1)\n",
        "    \n",
        "    # add the number of correct predictions to the total correct\n",
        "    correct += (prediction == target).sum().item()\n",
        "    total += 1\n",
        "\n",
        "  return correct, total, correct / float(total)"
      ],
      "execution_count": 0,
      "outputs": []
    },
    {
      "cell_type": "markdown",
      "metadata": {
        "id": "dIk6OtSdzGRP",
        "colab_type": "text"
      },
      "source": [
        "#### Example feed\n",
        "For stochastic gradient descent (SGD) we will need a random training example for every update.\n",
        "We implement this by shuffling the training data and returning examples one by one using `yield`.\n",
        "\n",
        "Shuffling is optional so that we get to use this to get validation and test examples, too."
      ]
    },
    {
      "cell_type": "code",
      "metadata": {
        "id": "dxDFOZLfCXvJ",
        "colab_type": "code",
        "colab": {}
      },
      "source": [
        "def get_examples(data, shuffle=True, **kwargs):\n",
        "  \"\"\"Shuffle data set and return 1 example at a time (until nothing left)\"\"\"\n",
        "  if shuffle:\n",
        "    print(\"Shuffling training data\")\n",
        "    random.shuffle(data)  # shuffle training data each epoch\n",
        "  for example in data:\n",
        "    yield example"
      ],
      "execution_count": 0,
      "outputs": []
    },
    {
      "cell_type": "markdown",
      "metadata": {
        "id": "g09SM8yb2cjx",
        "colab_type": "text"
      },
      "source": [
        "#### Exercise: Training function\n",
        "\n",
        "Your task is now to complete the training loop below.\n",
        "Before you do so, please read the section about optimization."
      ]
    },
    {
      "cell_type": "markdown",
      "metadata": {
        "id": "TVfUukVdM_1c",
        "colab_type": "text"
      },
      "source": [
        "**Optimization**\n",
        "\n",
        "As mentioned in the \"Introduction to PyTorch\" notebook, one of the perks of using PyTorch are its automatic differentiation abilities. We will use these to train our BOW model. \n",
        "\n",
        "We train our model by feeding it an input and performing **forward** pass, which results in an output for which we obtain a **loss** with our loss function.\n",
        "After the gradients are calculated in the **backward** pass, we can take a step on the loss surface towards more optimal parameter settings (e.g. gradient descent). \n",
        "\n",
        "The package we will use to do this optimization is [torch.optim](https://pytorch.org/docs/stable/optim.html). Besides implementations of stochastic gradient descent (SGD), this package also implements the optimization algorithm Adam, which we'll be using in this practical. \n",
        "For the purposes of this assignment you do not need to know what Adam does besides that it uses gradient information to update our model parameters by calling: \n",
        "\n",
        "```\n",
        "optimizer.step()\n",
        "```\n",
        "Remember when we updated our parameters in the PyTorch tutorial in a loop?\n",
        "\n",
        "\n",
        "```python\n",
        "# update weights\n",
        "learning_rate = 0.5\n",
        "for f in net.parameters():\n",
        "    # for each parameter, take a small step in the opposite dir of the gradient\n",
        "    p.data = p.data - p.grad.data * learning_rate\n",
        "\n",
        "```\n",
        "The function call optimizer.step() does effectively the same thing.\n",
        "\n",
        "*(If you want to know more about optimization algorithms using gradient information [this blog](http://ruder.io/optimizing-gradient-descent/.) gives a nice intuitive overview.)*"
      ]
    },
    {
      "cell_type": "code",
      "metadata": {
        "id": "ktFnKBux25lD",
        "colab_type": "code",
        "colab": {}
      },
      "source": [
        "def train_model(model, optimizer, num_iterations=10000, \n",
        "                print_every=1000, eval_every=1000,\n",
        "                batch_fn=get_examples, \n",
        "                prep_fn=prepare_example,\n",
        "                eval_fn=simple_evaluate,\n",
        "                batch_size=1, eval_batch_size=None):\n",
        "  \"\"\"Train a model.\"\"\"  \n",
        "  iter_i = 0\n",
        "  train_loss = 0.\n",
        "  print_num = 0\n",
        "  start = time.time()\n",
        "  criterion = nn.CrossEntropyLoss() # loss function\n",
        "  best_eval = 0.\n",
        "  best_iter = 0\n",
        "  \n",
        "  # store train loss and validation accuracy during training\n",
        "  # so we can plot them afterwards\n",
        "  losses = []\n",
        "  accuracies = []  \n",
        "  \n",
        "  if eval_batch_size is None:\n",
        "    eval_batch_size = batch_size\n",
        "  \n",
        "  while True:  # when we run out of examples, shuffle and continue\n",
        "    for batch in batch_fn(train_data, batch_size=batch_size):\n",
        "\n",
        "      # forward pass\n",
        "      model.train()\n",
        "      x, targets = prep_fn(batch, model.vocab)\n",
        "      logits = model(x)\n",
        "\n",
        "      B = targets.size(0)  # later we will use B examples per update\n",
        "      \n",
        "      # compute cross-entropy loss (our criterion)\n",
        "      # note that the cross entropy loss function computes the softmax for us\n",
        "      loss = criterion(logits.view([B, -1]), targets.view(-1))\n",
        "      train_loss += loss.item()\n",
        "\n",
        "      # backward pass\n",
        "      # Tip: check the Introduction to PyTorch notebook.\n",
        "\n",
        "      # erase previous gradients\n",
        "      # YOUR CODE HERE\n",
        "      optimizer.zero_grad()\n",
        "      \n",
        "      # compute gradients\n",
        "      # YOUR CODE HERE\n",
        "      loss.backward()\n",
        "\n",
        "      # update weights - take a small step in the opposite dir of the gradient\n",
        "      # YOUR CODE HERE\n",
        "      optimizer.step()\n",
        "\n",
        "      print_num += 1\n",
        "      iter_i += 1\n",
        "\n",
        "      # print info\n",
        "      if iter_i % print_every == 0:\n",
        "        print(\"Iter %r: loss=%.4f, time=%.2fs\" % \n",
        "              (iter_i, train_loss, time.time()-start))\n",
        "        losses.append(train_loss)\n",
        "        print_num = 0        \n",
        "        train_loss = 0.\n",
        "\n",
        "      # evaluate\n",
        "      if iter_i % eval_every == 0:\n",
        "        _, _, accuracy = eval_fn(model, dev_data, batch_size=eval_batch_size,\n",
        "                                 batch_fn=batch_fn, prep_fn=prep_fn)\n",
        "        accuracies.append(accuracy)\n",
        "        print(\"iter %r: dev acc=%.4f\" % (iter_i, accuracy))       \n",
        "        \n",
        "        # save best model parameters\n",
        "        if accuracy > best_eval:\n",
        "          print(\"new highscore\")\n",
        "          best_eval = accuracy\n",
        "          best_iter = iter_i\n",
        "          path = \"{}.pt\".format(model.__class__.__name__)\n",
        "          ckpt = {\n",
        "              \"state_dict\": model.state_dict(),\n",
        "              \"optimizer_state_dict\": optimizer.state_dict(),\n",
        "              \"best_eval\": best_eval,\n",
        "              \"best_iter\": best_iter\n",
        "          }\n",
        "          torch.save(ckpt, path)\n",
        "\n",
        "      # done training\n",
        "      if iter_i == num_iterations:\n",
        "        print(\"Done training\")\n",
        "        \n",
        "        # evaluate on train, dev, and test with best model\n",
        "        print(\"Loading best model\")\n",
        "        path = \"{}.pt\".format(model.__class__.__name__)        \n",
        "        ckpt = torch.load(path)\n",
        "        model.load_state_dict(ckpt[\"state_dict\"])\n",
        "        \n",
        "        _, _, train_acc = eval_fn(\n",
        "            model, train_data, batch_size=eval_batch_size, \n",
        "            batch_fn=batch_fn, prep_fn=prep_fn)\n",
        "        _, _, dev_acc = eval_fn(\n",
        "            model, dev_data, batch_size=eval_batch_size,\n",
        "            batch_fn=batch_fn, prep_fn=prep_fn)\n",
        "        _, _, test_acc = eval_fn(\n",
        "            model, test_data, batch_size=eval_batch_size, \n",
        "            batch_fn=batch_fn, prep_fn=prep_fn)\n",
        "        \n",
        "        print(\"best model iter {:d}: \"\n",
        "              \"train acc={:.4f}, dev acc={:.4f}, test acc={:.4f}\".format(\n",
        "                  best_iter, train_acc, dev_acc, test_acc))\n",
        "        \n",
        "        return losses, accuracies"
      ],
      "execution_count": 0,
      "outputs": []
    },
    {
      "cell_type": "markdown",
      "metadata": {
        "id": "XEPsLvI-3D5b",
        "colab_type": "text"
      },
      "source": [
        "### Training the BOW model"
      ]
    },
    {
      "cell_type": "code",
      "metadata": {
        "id": "9luJnNuN_d3q",
        "colab_type": "code",
        "outputId": "a5187bf1-ebc4-44f1-8964-cd95c5a4c546",
        "colab": {
          "base_uri": "https://localhost:8080/",
          "height": 1000
        }
      },
      "source": [
        "# If everything is in place we can now train our first model!\n",
        "bow_model = BOW(len(v.w2i), len(t2i), vocab=v)\n",
        "print(bow_model)\n",
        "\n",
        "bow_model = bow_model.to(device)\n",
        "\n",
        "optimizer = optim.Adam(bow_model.parameters(), lr=0.0005)\n",
        "bow_losses, bow_accuracies = train_model(\n",
        "    bow_model, optimizer, num_iterations=15000, \n",
        "    print_every=500, eval_every=500)\n",
        "\n",
        "print(bow_accuracies)\n",
        "print()\n",
        "print(bow_losses)"
      ],
      "execution_count": 64,
      "outputs": [
        {
          "output_type": "stream",
          "text": [
            "BOW(\n",
            "  (embed): Embedding(8491, 5)\n",
            ")\n",
            "Shuffling training data\n",
            "Iter 500: loss=2100.5993, time=0.47s\n",
            "iter 500: dev acc=0.2103\n",
            "new highscore\n",
            "Iter 1000: loss=2002.2627, time=1.05s\n",
            "iter 1000: dev acc=0.2222\n",
            "new highscore\n",
            "Iter 1500: loss=1946.9090, time=1.61s\n",
            "iter 1500: dev acc=0.2222\n",
            "Iter 2000: loss=1992.1462, time=2.18s\n",
            "iter 2000: dev acc=0.2242\n",
            "new highscore\n",
            "Iter 2500: loss=1855.2388, time=2.74s\n",
            "iter 2500: dev acc=0.2222\n",
            "Iter 3000: loss=1822.9257, time=3.30s\n",
            "iter 3000: dev acc=0.2202\n",
            "Iter 3500: loss=1831.5430, time=3.86s\n",
            "iter 3500: dev acc=0.2282\n",
            "new highscore\n",
            "Shuffling training data\n",
            "Iter 4000: loss=1892.0535, time=4.45s\n",
            "iter 4000: dev acc=0.2262\n",
            "Iter 4500: loss=1768.5026, time=5.01s\n",
            "iter 4500: dev acc=0.2321\n",
            "new highscore\n",
            "Iter 5000: loss=1784.8266, time=5.56s\n",
            "iter 5000: dev acc=0.2341\n",
            "new highscore\n",
            "Iter 5500: loss=1635.5094, time=6.15s\n",
            "iter 5500: dev acc=0.2480\n",
            "new highscore\n",
            "Iter 6000: loss=1688.0456, time=6.71s\n",
            "iter 6000: dev acc=0.2480\n",
            "Iter 6500: loss=1752.2887, time=7.29s\n",
            "iter 6500: dev acc=0.2540\n",
            "new highscore\n",
            "Iter 7000: loss=1691.5214, time=7.85s\n",
            "iter 7000: dev acc=0.2560\n",
            "new highscore\n",
            "Iter 7500: loss=1697.0577, time=8.41s\n",
            "iter 7500: dev acc=0.2599\n",
            "new highscore\n",
            "Shuffling training data\n",
            "Iter 8000: loss=1684.2621, time=8.97s\n",
            "iter 8000: dev acc=0.2599\n",
            "Iter 8500: loss=1697.6905, time=9.56s\n",
            "iter 8500: dev acc=0.2619\n",
            "new highscore\n",
            "Iter 9000: loss=1550.8683, time=10.13s\n",
            "iter 9000: dev acc=0.2599\n",
            "Iter 9500: loss=1533.4540, time=10.69s\n",
            "iter 9500: dev acc=0.2619\n",
            "Iter 10000: loss=1571.6343, time=11.26s\n",
            "iter 10000: dev acc=0.2579\n",
            "Iter 10500: loss=1637.5979, time=11.82s\n",
            "iter 10500: dev acc=0.2619\n",
            "Iter 11000: loss=1562.9506, time=12.39s\n",
            "iter 11000: dev acc=0.2619\n",
            "Iter 11500: loss=1568.6215, time=12.95s\n",
            "iter 11500: dev acc=0.2619\n",
            "Shuffling training data\n",
            "Iter 12000: loss=1510.8573, time=13.53s\n",
            "iter 12000: dev acc=0.2619\n",
            "Iter 12500: loss=1560.8692, time=14.10s\n",
            "iter 12500: dev acc=0.2599\n",
            "Iter 13000: loss=1608.5757, time=14.68s\n",
            "iter 13000: dev acc=0.2639\n",
            "new highscore\n",
            "Iter 13500: loss=1402.5719, time=15.25s\n",
            "iter 13500: dev acc=0.2639\n",
            "Iter 14000: loss=1484.6921, time=15.82s\n",
            "iter 14000: dev acc=0.2619\n",
            "Iter 14500: loss=1445.0447, time=16.39s\n",
            "iter 14500: dev acc=0.2619\n",
            "Iter 15000: loss=1355.1126, time=16.97s\n",
            "iter 15000: dev acc=0.2698\n",
            "new highscore\n",
            "Done training\n",
            "Loading best model\n",
            "best model iter 15000: train acc=0.2880, dev acc=0.2698, test acc=0.2213\n",
            "[0.21031746031746032, 0.2222222222222222, 0.2222222222222222, 0.22420634920634921, 0.2222222222222222, 0.22023809523809523, 0.22817460317460317, 0.2261904761904762, 0.23214285714285715, 0.23412698412698413, 0.24801587301587302, 0.24801587301587302, 0.25396825396825395, 0.25595238095238093, 0.25992063492063494, 0.25992063492063494, 0.2619047619047619, 0.25992063492063494, 0.2619047619047619, 0.25793650793650796, 0.2619047619047619, 0.2619047619047619, 0.2619047619047619, 0.2619047619047619, 0.25992063492063494, 0.2638888888888889, 0.2638888888888889, 0.2619047619047619, 0.2619047619047619, 0.2698412698412698]\n",
            "\n",
            "[2100.599257647991, 2002.2627289295197, 1946.9089697003365, 1992.1461690068245, 1855.2388494610786, 1822.925710067153, 1831.5430462956429, 1892.0534932613373, 1768.5025503337383, 1784.8266110122204, 1635.5093526691198, 1688.0455529987812, 1752.288667589426, 1691.521445631981, 1697.0576534867287, 1684.2620764672756, 1697.690483406186, 1550.8683124184608, 1533.4539767801762, 1571.6343093514442, 1637.597941160202, 1562.9505828022957, 1568.621517509222, 1510.8572925329208, 1560.869181215763, 1608.5756538808346, 1402.57192876935, 1484.6921315193176, 1445.044702231884, 1355.1125843524933]\n"
          ],
          "name": "stdout"
        }
      ]
    },
    {
      "cell_type": "code",
      "metadata": {
        "id": "dvYLj8LIAzfS",
        "colab_type": "code",
        "outputId": "e99b916f-075a-48a1-be36-1d7004dfabc3",
        "colab": {
          "base_uri": "https://localhost:8080/",
          "height": 164
        }
      },
      "source": [
        "# This will plot the validation accuracies across time.\n",
        "plt.plot(bow_accuracies)"
      ],
      "execution_count": 32,
      "outputs": [
        {
          "output_type": "error",
          "ename": "NameError",
          "evalue": "ignored",
          "traceback": [
            "\u001b[0;31m---------------------------------------------------------------------------\u001b[0m",
            "\u001b[0;31mNameError\u001b[0m                                 Traceback (most recent call last)",
            "\u001b[0;32m<ipython-input-32-c09adc4fcdef>\u001b[0m in \u001b[0;36m<module>\u001b[0;34m()\u001b[0m\n\u001b[0;32m----> 1\u001b[0;31m \u001b[0mplt\u001b[0m\u001b[0;34m.\u001b[0m\u001b[0mplot\u001b[0m\u001b[0;34m(\u001b[0m\u001b[0mbow_accuracies\u001b[0m\u001b[0;34m)\u001b[0m\u001b[0;34m\u001b[0m\u001b[0;34m\u001b[0m\u001b[0m\n\u001b[0m",
            "\u001b[0;31mNameError\u001b[0m: name 'bow_accuracies' is not defined"
          ]
        }
      ]
    },
    {
      "cell_type": "code",
      "metadata": {
        "id": "vUHm9JfSI4po",
        "colab_type": "code",
        "outputId": "e2c64321-2c98-48a7-b617-069a9c8acbde",
        "colab": {
          "base_uri": "https://localhost:8080/",
          "height": 447
        }
      },
      "source": [
        "# This will plot the training loss over time.\n",
        "plt.plot(bow_losses)"
      ],
      "execution_count": 0,
      "outputs": [
        {
          "output_type": "execute_result",
          "data": {
            "text/plain": [
              "[<matplotlib.lines.Line2D at 0x7fb7ca7eec18>]"
            ]
          },
          "metadata": {
            "tags": []
          },
          "execution_count": 38
        },
        {
          "output_type": "display_data",
          "data": {
            "image/png": "[encoded data removed]",
            "text/plain": [
              "<Figure size 640x480 with 1 Axes>"
            ]
          },
          "metadata": {
            "tags": []
          }
        }
      ]
    },
    {
      "cell_type": "markdown",
      "metadata": {
        "id": "E9mB1_XhMPNN",
        "colab_type": "text"
      },
      "source": [
        "# CBOW"
      ]
    },
    {
      "cell_type": "markdown",
      "metadata": {
        "id": "pWk78FvNMw4o",
        "colab_type": "text"
      },
      "source": [
        "We now continue with a **continuous bag-of-words (CBOW)** model.\n",
        "It is similar to the BOW model, but now embeddings can have a dimension of *arbitrary size*. \n",
        "This means that we can make them bigger and learn more aspects of each word. We will still sum the vectors to get a sentence representation, but now the result is no longer conveniently the number of sentiment classes. \n",
        "\n",
        "*Note that this is not the same as word2vec CBOW.* Both models take a few words as input, sum and make a prediction. However, in word2vec the prediction is the word in the middle of the input words. Here, the prediction is a sentiment class (1 out of 5 possible numbers 0-4).\n",
        "\n",
        "So what can we do? We can *learn* a parameter matrix $W$ that turns our summed vector into the number of output classes, by matrix-multiplying it: $$Wx$$\n",
        "If the size of $W$ is `5 x d`, and $x$ is `d x 1` and , then the result will be `5x1`, and then we can again find our prediction using an argmax."
      ]
    },
    {
      "cell_type": "markdown",
      "metadata": {
        "id": "gIjrCPfCwsXI",
        "colab_type": "text"
      },
      "source": [
        "## Exercise: write CBOW class & train it\n",
        "\n",
        "Write a class `CBOW` that:\n",
        "\n",
        "- has word embeddings with size 300\n",
        "- sums the word vectors for the input words (just like in `BOW`)\n",
        "- projects the resulting vector down to 5 units using a linear layer (including a bias term)\n",
        "\n",
        "Train your CBOW model and plot the validation accuracy and training loss over time."
      ]
    },
    {
      "cell_type": "code",
      "metadata": {
        "id": "PEV22aR2MP0Q",
        "colab_type": "code",
        "colab": {}
      },
      "source": [
        "# YOUR CODE HERE\n",
        "\n",
        "class CBOW(nn.Module):\n",
        "  \"\"\"A simple bag-of-words model\"\"\"\n",
        "\n",
        "  def __init__(self, vocab_size, n_classes, vocab, embedding_dim=300):\n",
        "    super(CBOW, self).__init__()\n",
        "    self.vocab = vocab\n",
        "    \n",
        "    # this is a trained look-up table with word embeddings\n",
        "    self.embed = nn.Embedding(vocab_size, embedding_dim)\n",
        "    \n",
        "    # this is a trained bias term\n",
        "    self.bias_in = nn.Parameter(torch.zeros(embedding_dim), requires_grad=True)  \n",
        "\n",
        "    self.linear = nn.Parameter(torch.randn(n_classes, embedding_dim))  \n",
        "\n",
        "    self.bias_out = nn.Parameter(torch.zeros(n_classes), requires_grad=True)  \n",
        "\n",
        "  def forward(self, inputs):\n",
        "    # this is the forward pass of the neural network\n",
        "    # given inputs, it computes the output\n",
        "\n",
        "    # this looks up the embeddings for each word ID in inputs\n",
        "    # the result is a sequence of word embeddings\n",
        "    embeds = self.embed(inputs)\n",
        "\n",
        "    \n",
        "    # the output is the sum across the time dimension (1)\n",
        "    # with the bias term added\n",
        "    z = embeds.sum(1) + self.bias_in\n",
        "\n",
        "    logits = z @ self.linear.T + self.bias_out\n",
        "\n",
        "    \n",
        "\n",
        "    return logits"
      ],
      "execution_count": 0,
      "outputs": []
    },
    {
      "cell_type": "code",
      "metadata": {
        "id": "PxsNWbg4GGkh",
        "colab_type": "code",
        "outputId": "a3770d28-1361-4bae-dc4d-b88c1d3282db",
        "colab": {
          "base_uri": "https://localhost:8080/",
          "height": 1000
        }
      },
      "source": [
        "# Let's create a model.\n",
        "vocab_size = len(v.w2i)\n",
        "n_classes = len(t2i)\n",
        "cbow_model = CBOW(vocab_size, len(t2i), v)\n",
        "print(cbow_model)\n",
        "\n",
        "\n",
        "cbow_model = cbow_model.to(device)\n",
        "\n",
        "optimizer = optim.Adam(cbow_model.parameters(), lr=0.0005)\n",
        "cbow_losses, cbow_accuracies = train_model(\n",
        "    cbow_model, optimizer, num_iterations=15000, \n",
        "    print_every=500, eval_every=500)\n",
        "\n",
        "print(cbow_accuracies)\n",
        "print()\n",
        "print(cbow_losses)"
      ],
      "execution_count": 67,
      "outputs": [
        {
          "output_type": "stream",
          "text": [
            "CBOW(\n",
            "  (embed): Embedding(8491, 300)\n",
            ")\n",
            "Shuffling training data\n",
            "Iter 500: loss=30226.4551, time=1.04s\n",
            "iter 500: dev acc=0.2222\n",
            "new highscore\n",
            "Iter 1000: loss=26715.1715, time=2.25s\n",
            "iter 1000: dev acc=0.2282\n",
            "new highscore\n",
            "Iter 1500: loss=27036.7572, time=3.44s\n",
            "iter 1500: dev acc=0.2381\n",
            "new highscore\n",
            "Iter 2000: loss=21784.3246, time=4.62s\n",
            "iter 2000: dev acc=0.2361\n",
            "Iter 2500: loss=23978.6542, time=5.79s\n",
            "iter 2500: dev acc=0.2639\n",
            "new highscore\n",
            "Iter 3000: loss=22885.8243, time=6.97s\n",
            "iter 3000: dev acc=0.2500\n",
            "Iter 3500: loss=21258.3132, time=8.09s\n",
            "iter 3500: dev acc=0.2421\n",
            "Shuffling training data\n",
            "Iter 4000: loss=20589.5560, time=9.23s\n",
            "iter 4000: dev acc=0.2440\n",
            "Iter 4500: loss=13812.9485, time=10.37s\n",
            "iter 4500: dev acc=0.2440\n",
            "Iter 5000: loss=13546.8068, time=11.50s\n",
            "iter 5000: dev acc=0.2540\n",
            "Iter 5500: loss=14181.0142, time=12.64s\n",
            "iter 5500: dev acc=0.2540\n",
            "Iter 6000: loss=12594.8840, time=13.78s\n",
            "iter 6000: dev acc=0.2520\n",
            "Iter 6500: loss=13019.9842, time=14.92s\n",
            "iter 6500: dev acc=0.2540\n",
            "Iter 7000: loss=12910.8397, time=16.04s\n",
            "iter 7000: dev acc=0.2599\n",
            "Iter 7500: loss=12788.0527, time=17.15s\n",
            "iter 7500: dev acc=0.2599\n",
            "Shuffling training data\n",
            "Iter 8000: loss=11206.5529, time=18.28s\n",
            "iter 8000: dev acc=0.2540\n",
            "Iter 8500: loss=7863.7993, time=19.45s\n",
            "iter 8500: dev acc=0.2659\n",
            "new highscore\n",
            "Iter 9000: loss=7063.4032, time=20.65s\n",
            "iter 9000: dev acc=0.2579\n",
            "Iter 9500: loss=7196.5178, time=21.80s\n",
            "iter 9500: dev acc=0.2540\n",
            "Iter 10000: loss=7252.3659, time=22.95s\n",
            "iter 10000: dev acc=0.2619\n",
            "Iter 10500: loss=7590.8194, time=24.10s\n",
            "iter 10500: dev acc=0.2579\n",
            "Iter 11000: loss=8485.8432, time=25.24s\n",
            "iter 11000: dev acc=0.2500\n",
            "Iter 11500: loss=7271.7769, time=26.37s\n",
            "iter 11500: dev acc=0.2679\n",
            "new highscore\n",
            "Shuffling training data\n",
            "Iter 12000: loss=6215.7902, time=27.55s\n",
            "iter 12000: dev acc=0.2758\n",
            "new highscore\n",
            "Iter 12500: loss=3927.1398, time=28.74s\n",
            "iter 12500: dev acc=0.2718\n",
            "Iter 13000: loss=3986.8257, time=29.86s\n",
            "iter 13000: dev acc=0.2679\n",
            "Iter 13500: loss=3739.6096, time=30.99s\n",
            "iter 13500: dev acc=0.2599\n",
            "Iter 14000: loss=4331.5174, time=32.12s\n",
            "iter 14000: dev acc=0.2698\n",
            "Iter 14500: loss=4534.2548, time=33.23s\n",
            "iter 14500: dev acc=0.2679\n",
            "Iter 15000: loss=4909.8621, time=34.35s\n",
            "iter 15000: dev acc=0.2619\n",
            "Done training\n",
            "Loading best model\n",
            "best model iter 12000: train acc=0.6719, dev acc=0.2758, test acc=0.2911\n",
            "[0.2222222222222222, 0.22817460317460317, 0.23809523809523808, 0.2361111111111111, 0.2638888888888889, 0.25, 0.24206349206349206, 0.24404761904761904, 0.24404761904761904, 0.25396825396825395, 0.25396825396825395, 0.251984126984127, 0.25396825396825395, 0.25992063492063494, 0.25992063492063494, 0.25396825396825395, 0.26587301587301587, 0.25793650793650796, 0.25396825396825395, 0.2619047619047619, 0.25793650793650796, 0.25, 0.26785714285714285, 0.2757936507936508, 0.2718253968253968, 0.26785714285714285, 0.25992063492063494, 0.2698412698412698, 0.26785714285714285, 0.2619047619047619]\n",
            "\n",
            "[30226.455104231834, 26715.17149925232, 27036.757162094116, 21784.32460772991, 23978.654237002134, 22885.82427915465, 21258.313191592693, 20589.55599439144, 13812.94846689701, 13546.80684876442, 14181.01422560215, 12594.884041666985, 13019.98422074318, 12910.839727520943, 12788.052709579468, 11206.552900016308, 7863.799318343401, 7063.403232783079, 7196.517761826515, 7252.365911304951, 7590.819404244423, 8485.843231968582, 7271.776948556304, 6215.790209054947, 3927.139766216278, 3986.825694799423, 3739.609610337764, 4331.517431974411, 4534.254842579365, 4909.862100720406]\n"
          ],
          "name": "stdout"
        }
      ]
    },
    {
      "cell_type": "code",
      "metadata": {
        "id": "pf5LwTA3LnWA",
        "colab_type": "code",
        "outputId": "a2e518b6-389f-4060-bfab-24ac2c9f84e2",
        "colab": {
          "base_uri": "https://localhost:8080/",
          "height": 447
        }
      },
      "source": [
        "plt.plot(cbow_accuracies)"
      ],
      "execution_count": 0,
      "outputs": [
        {
          "output_type": "execute_result",
          "data": {
            "text/plain": [
              "[<matplotlib.lines.Line2D at 0x7fb7ca762828>]"
            ]
          },
          "metadata": {
            "tags": []
          },
          "execution_count": 41
        },
        {
          "output_type": "display_data",
          "data": {
            "image/png": "[encoded data removed]",
            "text/plain": [
              "<Figure size 640x480 with 1 Axes>"
            ]
          },
          "metadata": {
            "tags": []
          }
        }
      ]
    },
    {
      "cell_type": "code",
      "metadata": {
        "id": "kaqSPj1-Ly7K",
        "colab_type": "code",
        "outputId": "eb393336-37b7-4011-fd86-6c3282d67c3d",
        "colab": {
          "base_uri": "https://localhost:8080/",
          "height": 447
        }
      },
      "source": [
        "plt.plot(cbow_losses)"
      ],
      "execution_count": 0,
      "outputs": [
        {
          "output_type": "execute_result",
          "data": {
            "text/plain": [
              "[<matplotlib.lines.Line2D at 0x7fb7ca753048>]"
            ]
          },
          "metadata": {
            "tags": []
          },
          "execution_count": 42
        },
        {
          "output_type": "display_data",
          "data": {
            "image/png": "[encoded data removed]",
            "text/plain": [
              "<Figure size 640x480 with 1 Axes>"
            ]
          },
          "metadata": {
            "tags": []
          }
        }
      ]
    },
    {
      "cell_type": "markdown",
      "metadata": {
        "id": "zpFt_Fo2TdN0",
        "colab_type": "text"
      },
      "source": [
        "# Deep CBOW"
      ]
    },
    {
      "cell_type": "markdown",
      "metadata": {
        "id": "iZanOMesTfEZ",
        "colab_type": "text"
      },
      "source": [
        "To see if we can squeeze some more performance out of the CBOW model, we can make it deeper and non-linear: add more layers and tanh-activations.\n",
        "By using more parameters we can learn more aspects of the data, and by using more layers and non-linearities, we can try to learn a more complex function. \n",
        "This is not something that always works. If the input-output mapping of your data is simple, then a complicated function could easily overfit on your training set, which will lead to poor generalization. \n",
        "\n",
        "We will use E for the size of the word embeddings (use: 300) and D for the size of a hidden layer (use: 100).\n",
        "\n",
        "#### Exercise: write Deep CBOW class and train it\n",
        "\n",
        "Write a class `DeepCBOW`.\n",
        "\n",
        "In your code, make sure that your `output_layer` consists of the following:\n",
        "- A linear transformation from E units to D units.\n",
        "- A Tanh activation\n",
        "- A linear transformation from D units to D units\n",
        "- A Tanh activation\n",
        "- A linear transformation from D units to 5 units (our output classes).\n",
        "\n",
        "We recommend using [nn.Sequential](https://pytorch.org/docs/stable/nn.html?highlight=sequential#torch.nn.Sequential) to implement this exercise."
      ]
    },
    {
      "cell_type": "code",
      "metadata": {
        "id": "l8Z1igvpTrZq",
        "colab_type": "code",
        "colab": {}
      },
      "source": [
        "# YOUR CODE HERE\n",
        "\n",
        "\n",
        "class DeepCBOW(nn.Module):\n",
        "  \"\"\"A simple bag-of-words model\"\"\"\n",
        "\n",
        "  def __init__(self, vocab_size, n_classes, vocab, embedding_dim=300, hidden_dim=100):\n",
        "    super(DeepCBOW, self).__init__()\n",
        "    self.vocab = vocab\n",
        "\n",
        "    print('emb', type(embedding_dim))\n",
        "    print('hid', type(hidden_dim))\n",
        "    \n",
        "    # this is a trained look-up table with word embeddings\n",
        "    self.embed = nn.Embedding(vocab_size, embedding_dim)\n",
        "    \n",
        "    # # this is a trained bias term\n",
        "    self.bias_in = nn.Parameter(torch.zeros(embedding_dim), requires_grad=True)  \n",
        "\n",
        "    # self.linear = nn.Parameter(torch.randn(n_classes, embedding_dim))  \n",
        "\n",
        "    # self.bias_out = nn.Parameter(torch.zeros(n_classes), requires_grad=True)\n",
        "\n",
        "    self.output_layer = nn.Sequential(\n",
        "        nn.Linear(embedding_dim, hidden_dim),\n",
        "        nn.Tanh(),\n",
        "        nn.Linear(hidden_dim, hidden_dim),\n",
        "        nn.Tanh(),\n",
        "        nn.Linear(hidden_dim, n_classes))\n",
        "\n",
        "  def forward(self, inputs):\n",
        "    # this is the forward pass of the neural network\n",
        "    # given inputs, it computes the output\n",
        "\n",
        "    # this looks up the embeddings for each word ID in inputs\n",
        "    # # the result is a sequence of word embeddings\n",
        "    embeds = self.embed(inputs)\n",
        "\n",
        "    \n",
        "    # # the output is the sum across the time dimension (1)\n",
        "    # # with the bias term added\n",
        "    z = embeds.sum(1) + self.bias_in\n",
        "\n",
        "    logits = self.output_layer(z)\n",
        "    \n",
        "\n",
        "    return logits"
      ],
      "execution_count": 0,
      "outputs": []
    },
    {
      "cell_type": "code",
      "metadata": {
        "id": "idz0vd_cSmVm",
        "colab_type": "code",
        "outputId": "507e1db4-b10f-4705-f71b-d5f33119bf58",
        "colab": {
          "base_uri": "https://localhost:8080/",
          "height": 1000
        }
      },
      "source": [
        "# Let's create a model.\n",
        "vocab_size = len(v.w2i)\n",
        "n_classes = len(t2i)\n",
        "dcbow_model = DeepCBOW(vocab_size, len(t2i), v)\n",
        "print(dcbow_model)\n",
        "\n",
        "\n",
        "dcbow_model = dcbow_model.to(device)\n",
        "\n",
        "optimizer = optim.Adam(dcbow_model.parameters(), lr=0.0005)\n",
        "dcbow_losses, dcbow_accuracies = train_model(\n",
        "    dcbow_model, optimizer, num_iterations=15000, \n",
        "    print_every=500, eval_every=500)\n",
        "\n",
        "print(dcbow_accuracies)\n",
        "print()\n",
        "print(dcbow_losses)"
      ],
      "execution_count": 70,
      "outputs": [
        {
          "output_type": "stream",
          "text": [
            "emb <class 'int'>\n",
            "hid <class 'int'>\n",
            "DeepCBOW(\n",
            "  (embed): Embedding(8491, 300)\n",
            "  (output_layer): Sequential(\n",
            "    (0): Linear(in_features=300, out_features=100, bias=True)\n",
            "    (1): Tanh()\n",
            "    (2): Linear(in_features=100, out_features=100, bias=True)\n",
            "    (3): Tanh()\n",
            "    (4): Linear(in_features=100, out_features=5, bias=True)\n",
            "  )\n",
            ")\n",
            "Shuffling training data\n",
            "Iter 500: loss=819.0020, time=1.15s\n",
            "iter 500: dev acc=0.2679\n",
            "new highscore\n",
            "Iter 1000: loss=779.8274, time=2.49s\n",
            "iter 1000: dev acc=0.2738\n",
            "new highscore\n",
            "Iter 1500: loss=781.5435, time=3.82s\n",
            "iter 1500: dev acc=0.3274\n",
            "new highscore\n",
            "Iter 2000: loss=772.2712, time=5.15s\n",
            "iter 2000: dev acc=0.2560\n",
            "Iter 2500: loss=772.7452, time=6.45s\n",
            "iter 2500: dev acc=0.3095\n",
            "Iter 3000: loss=750.9134, time=7.73s\n",
            "iter 3000: dev acc=0.3234\n",
            "Iter 3500: loss=777.3590, time=9.01s\n",
            "iter 3500: dev acc=0.3075\n",
            "Shuffling training data\n",
            "Iter 4000: loss=754.8528, time=10.30s\n",
            "iter 4000: dev acc=0.3115\n",
            "Iter 4500: loss=681.8678, time=11.61s\n",
            "iter 4500: dev acc=0.3413\n",
            "new highscore\n",
            "Iter 5000: loss=676.1222, time=12.95s\n",
            "iter 5000: dev acc=0.3234\n",
            "Iter 5500: loss=662.5769, time=14.21s\n",
            "iter 5500: dev acc=0.3234\n",
            "Iter 6000: loss=679.9911, time=15.49s\n",
            "iter 6000: dev acc=0.3353\n",
            "Iter 6500: loss=654.5641, time=16.78s\n",
            "iter 6500: dev acc=0.3194\n",
            "Iter 7000: loss=663.6557, time=18.07s\n",
            "iter 7000: dev acc=0.3433\n",
            "new highscore\n",
            "Iter 7500: loss=666.6961, time=19.43s\n",
            "iter 7500: dev acc=0.3373\n",
            "Shuffling training data\n",
            "Iter 8000: loss=644.2304, time=20.76s\n",
            "iter 8000: dev acc=0.3492\n",
            "new highscore\n",
            "Iter 8500: loss=521.0872, time=22.18s\n",
            "iter 8500: dev acc=0.3194\n",
            "Iter 9000: loss=512.7413, time=23.48s\n",
            "iter 9000: dev acc=0.3353\n",
            "Iter 9500: loss=506.2166, time=24.81s\n",
            "iter 9500: dev acc=0.3492\n",
            "Iter 10000: loss=530.8641, time=26.15s\n",
            "iter 10000: dev acc=0.3393\n",
            "Iter 10500: loss=525.2406, time=27.43s\n",
            "iter 10500: dev acc=0.3492\n",
            "Iter 11000: loss=512.4847, time=28.73s\n",
            "iter 11000: dev acc=0.3631\n",
            "new highscore\n",
            "Iter 11500: loss=543.4282, time=30.07s\n",
            "iter 11500: dev acc=0.3393\n",
            "Shuffling training data\n",
            "Iter 12000: loss=486.1321, time=31.37s\n",
            "iter 12000: dev acc=0.3571\n",
            "Iter 12500: loss=349.4421, time=32.69s\n",
            "iter 12500: dev acc=0.3313\n",
            "Iter 13000: loss=338.7314, time=33.97s\n",
            "iter 13000: dev acc=0.3234\n",
            "Iter 13500: loss=346.0269, time=35.29s\n",
            "iter 13500: dev acc=0.3214\n",
            "Iter 14000: loss=361.6020, time=36.60s\n",
            "iter 14000: dev acc=0.3313\n",
            "Iter 14500: loss=360.8204, time=37.90s\n",
            "iter 14500: dev acc=0.3254\n",
            "Iter 15000: loss=356.3910, time=39.20s\n",
            "iter 15000: dev acc=0.3730\n",
            "new highscore\n",
            "Done training\n",
            "Loading best model\n",
            "best model iter 15000: train acc=0.8347, dev acc=0.3730, test acc=0.3111\n",
            "[0.26785714285714285, 0.27380952380952384, 0.3273809523809524, 0.25595238095238093, 0.30952380952380953, 0.32341269841269843, 0.30753968253968256, 0.3115079365079365, 0.3412698412698413, 0.32341269841269843, 0.32341269841269843, 0.3353174603174603, 0.3194444444444444, 0.34325396825396826, 0.3373015873015873, 0.3492063492063492, 0.3194444444444444, 0.3353174603174603, 0.3492063492063492, 0.3392857142857143, 0.3492063492063492, 0.3630952380952381, 0.3392857142857143, 0.35714285714285715, 0.33134920634920634, 0.32341269841269843, 0.32142857142857145, 0.33134920634920634, 0.3253968253968254, 0.373015873015873]\n",
            "\n",
            "[819.0020073056221, 779.8274282813072, 781.5434643626213, 772.2712367773056, 772.7451510429382, 750.9133855700493, 777.3590360879898, 754.8527780175209, 681.8677678108215, 676.1222361922264, 662.5769427418709, 679.991059422493, 654.564126253128, 663.6556633710861, 666.6961234807968, 644.2304140329361, 521.0871577262878, 512.74132335186, 506.21662640571594, 530.864140689373, 525.2405881881714, 512.4846906065941, 543.4281545877457, 486.1320605278015, 349.4421070218086, 338.73141223192215, 346.0268647670746, 361.6019744873047, 360.8204113841057, 356.390984416008]\n"
          ],
          "name": "stdout"
        }
      ]
    },
    {
      "cell_type": "code",
      "metadata": {
        "id": "Ka_Pxz7ZUDlJ",
        "colab_type": "code",
        "outputId": "ad40fb00-24f5-46db-bd44-bc3863784c91",
        "colab": {
          "base_uri": "https://localhost:8080/",
          "height": 447
        }
      },
      "source": [
        "plt.plot(dcbow_accuracies)"
      ],
      "execution_count": 0,
      "outputs": [
        {
          "output_type": "execute_result",
          "data": {
            "text/plain": [
              "[<matplotlib.lines.Line2D at 0x7fb7ca6c0898>]"
            ]
          },
          "metadata": {
            "tags": []
          },
          "execution_count": 45
        },
        {
          "output_type": "display_data",
          "data": {
            "image/png": "[encoded data removed]",
            "text/plain": [
              "<Figure size 640x480 with 1 Axes>"
            ]
          },
          "metadata": {
            "tags": []
          }
        }
      ]
    },
    {
      "cell_type": "code",
      "metadata": {
        "id": "f1RRAUhLUD2Y",
        "colab_type": "code",
        "outputId": "e3e19e38-1eda-46bd-bdd0-478a107c2274",
        "colab": {
          "base_uri": "https://localhost:8080/",
          "height": 447
        }
      },
      "source": [
        "plt.plot(dcbow_losses)"
      ],
      "execution_count": 0,
      "outputs": [
        {
          "output_type": "execute_result",
          "data": {
            "text/plain": [
              "[<matplotlib.lines.Line2D at 0x7fb7ca623cf8>]"
            ]
          },
          "metadata": {
            "tags": []
          },
          "execution_count": 46
        },
        {
          "output_type": "display_data",
          "data": {
            "image/png": "[encoded data removed]",
            "text/plain": [
              "<Figure size 640x480 with 1 Axes>"
            ]
          },
          "metadata": {
            "tags": []
          }
        }
      ]
    },
    {
      "cell_type": "markdown",
      "metadata": {
        "id": "MQZ5flHwiiHY",
        "colab_type": "text"
      },
      "source": [
        "# Pre-trained word embeddings"
      ]
    },
    {
      "cell_type": "markdown",
      "metadata": {
        "id": "9NX35vecmHy6",
        "colab_type": "text"
      },
      "source": [
        "The Stanford sentiment treebank is a very small data set, since it was manually annotated. This makes it difficult for the model to learn good word embeddings, to learn the \"meaning\" of the words in our vocabulary.\n",
        "\n",
        "Think for a moment about the fact that the only error signal that the network receives is from predicting the sentiment!\n",
        "\n",
        "To mitigate our data sparsity, we can download **pre-trained word embeddings**. \n",
        "You can choose which pre-trained word embeddings to use:\n",
        "\n",
        "- **Glove**. The \"original\" Stanford Sentiment classification [paper](http://aclweb.org/anthology/P/P15/P15-1150.pdf) used Glove embeddings, which are just another method (like *word2vec*) to get word embeddings from unannotated text. Glove is described in the following paper which you should cite if you use them:\n",
        "> Jeffrey Pennington, Richard Socher, and Christopher Manning. [\"Glove: Global vectors for word representation.\"](https://nlp.stanford.edu/pubs/glove.pdf) EMNLP 2014. \n",
        "\n",
        "- **word2vec**. This is the method that you learned about in class, described in:\n",
        "> Mikolov, Tomas, et al. [\"Distributed representations of words and phrases and their compositionality.\"](https://papers.nips.cc/paper/5021-distributed-representations-of-words-and-phrases-and-their-compositionality.pdf) Advances in neural information processing systems. 2013.\n",
        "\n",
        "With these pre-trained word embeddings, we can initialize our word embedding lookup table and start form a point where similar words are already close to one another. \n",
        "\n",
        "You can choose to keep the word embeddings **fixed** or to train them further.\n",
        "We will keep them fixed for now.\n",
        "\n",
        "For the purposes of this lab, it is enough if you understand how word2vec works (whichever vectors you use). If you are interested you may also check out the Glove paper.\n",
        "\n",
        "You can either download the word2vec vectors, or the Glove vectors.\n",
        "If you want to compare your results to the Stanford paper later on, then you should use Glove. \n",
        "**At the end of this lab you have the option to compare which vectors give you the best performance. For now, simply choose one of them and continue with that.**\n",
        "\n",
        "[**OPTIONAL in case you don't want to mount Google Drive:** instead of running all the 5 boxes below, you can 1) download the Glove and word2vec in your local machine, 2) upload them on your Drive folder (\"My Drive\"). Then, uncomment the first 2 lines in box 6 before writing your code!]\n"
      ]
    },
    {
      "cell_type": "code",
      "metadata": {
        "id": "lGYr02WWO993",
        "colab_type": "code",
        "outputId": "c1cb3bab-d9d4-4163-bbc0-809e60a5fa04",
        "colab": {
          "base_uri": "https://localhost:8080/",
          "height": 224
        }
      },
      "source": [
        "# This downloads the Glove 840B 300d embeddings.\n",
        "# The original file is at http://nlp.stanford.edu/data/glove.840B.300d.zip\n",
        "# Since that file is 2GB, we provide you with a *filtered version*\n",
        "# which contains all the words you need for this data set.\n",
        "\n",
        "# You only need to do this once.\n",
        "# Please comment this cell out after downloading.\n",
        "\n",
        "!wget https://gist.githubusercontent.com/bastings/b094de2813da58056a05e8e7950d4ad1/raw/3fbd3976199c2b88de2ae62afc0ecc6f15e6f7ce/glove.840B.300d.sst.txt"
      ],
      "execution_count": 71,
      "outputs": [
        {
          "output_type": "stream",
          "text": [
            "--2019-12-10 20:44:56--  https://gist.githubusercontent.com/bastings/b094de2813da58056a05e8e7950d4ad1/raw/3fbd3976199c2b88de2ae62afc0ecc6f15e6f7ce/glove.840B.300d.sst.txt\n",
            "Resolving gist.githubusercontent.com (gist.githubusercontent.com)... 151.101.0.133, 151.101.64.133, 151.101.128.133, ...\n",
            "Connecting to gist.githubusercontent.com (gist.githubusercontent.com)|151.101.0.133|:443... connected.\n",
            "HTTP request sent, awaiting response... 200 OK\n",
            "Length: 53933315 (51M) [text/plain]\n",
            "Saving to: ‘glove.840B.300d.sst.txt.1’\n",
            "\n",
            "glove.840B.300d.sst 100%[===================>]  51.43M   335MB/s    in 0.2s    \n",
            "\n",
            "2019-12-10 20:44:58 (335 MB/s) - ‘glove.840B.300d.sst.txt.1’ saved [53933315/53933315]\n",
            "\n"
          ],
          "name": "stdout"
        }
      ]
    },
    {
      "cell_type": "code",
      "metadata": {
        "id": "6NLsgFGiTjmI",
        "colab_type": "code",
        "outputId": "59d0aae9-7837-4b50-af3b-234ac37cf7c3",
        "colab": {
          "base_uri": "https://localhost:8080/",
          "height": 224
        }
      },
      "source": [
        "# This downloads the word2vec 300D Google News vectors \n",
        "# The file has been truncated to only contain words that appear in our data set.\n",
        "# You can find the original file here: https://code.google.com/archive/p/word2vec/\n",
        "\n",
        "# You only need to do this once.\n",
        "# Please comment this out after downloading.\n",
        "!wget https://gist.githubusercontent.com/bastings/4d1c346c68969b95f2c34cfbc00ba0a0/raw/76b4fefc9ef635a79d0d8002522543bc53ca2683/googlenews.word2vec.300d.txt"
      ],
      "execution_count": 73,
      "outputs": [
        {
          "output_type": "stream",
          "text": [
            "--2019-12-10 20:45:23--  https://gist.githubusercontent.com/bastings/4d1c346c68969b95f2c34cfbc00ba0a0/raw/76b4fefc9ef635a79d0d8002522543bc53ca2683/googlenews.word2vec.300d.txt\n",
            "Resolving gist.githubusercontent.com (gist.githubusercontent.com)... 151.101.0.133, 151.101.64.133, 151.101.128.133, ...\n",
            "Connecting to gist.githubusercontent.com (gist.githubusercontent.com)|151.101.0.133|:443... connected.\n",
            "HTTP request sent, awaiting response... 200 OK\n",
            "Length: 66209703 (63M) [text/plain]\n",
            "Saving to: ‘googlenews.word2vec.300d.txt.2’\n",
            "\n",
            "\r          googlenew   0%[                    ]       0  --.-KB/s               \r         googlenews  79%[==============>     ]  49.95M   250MB/s               \rgooglenews.word2vec 100%[===================>]  63.14M   259MB/s    in 0.2s    \n",
            "\n",
            "2019-12-10 20:45:23 (259 MB/s) - ‘googlenews.word2vec.300d.txt.2’ saved [66209703/66209703]\n",
            "\n"
          ],
          "name": "stdout"
        }
      ]
    },
    {
      "cell_type": "code",
      "metadata": {
        "id": "GXBITzPRQUQb",
        "colab_type": "code",
        "cellView": "both",
        "outputId": "224c6b85-6668-4dc9-af92-766b325e97d5",
        "colab": {
          "base_uri": "https://localhost:8080/",
          "height": 34
        }
      },
      "source": [
        "# Mount Google Drive (to save the downloaded files)\n",
        "from google.colab import drive\n",
        "drive.mount('/gdrive')"
      ],
      "execution_count": 74,
      "outputs": [
        {
          "output_type": "stream",
          "text": [
            "Drive already mounted at /gdrive; to attempt to forcibly remount, call drive.mount(\"/gdrive\", force_remount=True).\n"
          ],
          "name": "stdout"
        }
      ]
    },
    {
      "cell_type": "code",
      "metadata": {
        "id": "uFvzPuiKSCbl",
        "colab_type": "code",
        "colab": {}
      },
      "source": [
        "# Copy word vectors *to* Google Drive\n",
        "\n",
        "# You only need to do this once.\n",
        "# Please comment this out after running it. \n",
        "!cp \"glove.840B.300d.sst.txt\" \"/gdrive/My Drive/\"\n",
        "!cp \"googlenews.word2vec.300d.txt\" \"/gdrive/My Drive/\""
      ],
      "execution_count": 0,
      "outputs": []
    },
    {
      "cell_type": "code",
      "metadata": {
        "id": "kUMH0bM6BuY9",
        "colab_type": "code",
        "colab": {}
      },
      "source": [
        "# If you copied the word vectors to your Drive before,\n",
        "# here is where you copy them back to the Colab notebook.\n",
        "\n",
        "# Copy Glove vectors *from* Google Drive\n",
        "!cp \"/gdrive/My Drive/glove.840B.300d.sst.txt\" .\n",
        "!cp \"/gdrive/My Drive/googlenews.word2vec.300d.txt\" ."
      ],
      "execution_count": 0,
      "outputs": []
    },
    {
      "cell_type": "markdown",
      "metadata": {
        "id": "MX2GJVHILM8n",
        "colab_type": "text"
      },
      "source": [
        "At this point you have the pre-trained word embedding files, but what do they look like?"
      ]
    },
    {
      "cell_type": "code",
      "metadata": {
        "id": "ChsChH14Ruxn",
        "colab_type": "code",
        "outputId": "bfd3dca9-3de7-413d-f148-11481c9de258",
        "colab": {
          "base_uri": "https://localhost:8080/",
          "height": 224
        }
      },
      "source": [
        "# Uncomment these 2 lines below if went for the OPTIONAL method described above\n",
        "# !cp \"glove.840B.300d.sst.txt\" \"./\"\n",
        "# !cp \"googlenews.word2vec.300d.txt\" \"./\"\n",
        "\n",
        "\n",
        "# Exercise: Print the first 4 lines of the files that you downloaded.\n",
        "# What do you see?\n",
        "glove = '/gdrive/My Drive/glove.840B.300d.sst.txt'\n",
        "\n",
        "print(\"{:16s} {:4d}\".format(glove, sum(1 for _ in filereader(glove))))\n",
        "\n",
        "for i, s in enumerate(filereader(glove)):\n",
        "  print(s)\n",
        "  if i == 3:\n",
        "    break\n",
        "\n",
        "print()\n",
        "word2vec = '/gdrive/My Drive/googlenews.word2vec.300d.txt'\n",
        "print(\"{:16s} {:4d}\".format(word2vec, sum(1 for _ in filereader(word2vec))))\n",
        "\n",
        "for i, s in enumerate(filereader(word2vec)):\n",
        "  print(s)\n",
        "  if i == 3:\n",
        "    break\n"
      ],
      "execution_count": 77,
      "outputs": [
        {
          "output_type": "stream",
          "text": [
            "/gdrive/My Drive/glove.840B.300d.sst.txt 20725\n",
            ", -0.082752 0.67204 -0.14987 -0.064983 0.056491 0.40228 0.0027747 -0.3311 -0.30691 2.0817 0.031819 0.013643 0.30265 0.0071297 -0.5819 -0.2774 -0.062254 1.1451 -0.24232 0.1235 -0.12243 0.33152 -0.006162 -0.30541 -0.13057 -0.054601 0.037083 -0.070552 0.5893 -0.30385 0.2898 -0.14653 -0.27052 0.37161 0.32031 -0.29125 0.0052483 -0.13212 -0.052736 0.087349 -0.26668 -0.16897 0.015162 -0.0083746 -0.14871 0.23413 -0.20719 -0.091386 0.40075 -0.17223 0.18145 0.37586 -0.28682 0.37289 -0.16185 0.18008 0.3032 -0.13216 0.18352 0.095759 0.094916 0.008289 0.11761 0.34046 0.03677 -0.29077 0.058303 -0.027814 0.082941 0.1862 -0.031494 0.27985 -0.074412 -0.13762 -0.21866 0.18138 0.040855 -0.113 0.24107 0.3657 -0.27525 -0.05684 0.34872 0.011884 0.14517 -0.71395 0.48497 0.14807 0.62287 0.20599 0.58379 -0.13438 0.40207 0.18311 0.28021 -0.42349 -0.25626 0.17715 -0.54095 0.16596 -0.036058 0.08499 -0.64989 0.075549 -0.28831 0.40626 -0.2802 0.094062 0.32406 0.28437 -0.26341 0.11553 0.071918 -0.47215 -0.18366 -0.34709 0.29964 -0.66514 0.002516 -0.42333 0.27512 0.36012 0.16311 0.23964 -0.05923 0.3261 0.20559 0.038677 -0.045816 0.089764 0.43151 -0.15954 0.08532 -0.26572 -0.15001 0.084286 -0.16714 -0.43004 0.060807 0.13121 -0.24112 0.66554 0.4453 -0.18019 -0.13919 0.56252 0.21457 -0.46443 -0.012211 0.029988 -0.051094 -0.20135 0.80788 0.47377 -0.057647 0.46216 0.16084 -0.20954 -0.05452 0.15572 -0.13712 0.12972 -0.011936 -0.003378 -0.13595 -0.080711 0.20065 0.054056 0.046816 0.059539 0.046265 0.17754 -0.31094 0.28119 -0.24355 0.085252 -0.21011 -0.19472 0.0027297 -0.46341 0.14789 -0.31517 -0.065939 0.036106 0.42903 -0.33759 0.16432 0.32568 -0.050392 -0.054297 0.24074 0.41923 0.13012 -0.17167 -0.37808 -0.23089 -0.019477 -0.29291 -0.30824 0.30297 -0.22659 0.081574 -0.18516 -0.21408 0.40616 -0.28974 0.074174 -0.17795 0.28595 -0.039626 -0.2339 -0.36054 -0.067503 -0.091065 0.23438 -0.0041331 0.003232 0.0072134 0.008697 0.21614 0.049904 0.35582 0.13748 0.073361 0.14166 0.2412 -0.013322 0.15613 0.083381 0.088146 -0.019357 0.43795 0.083961 0.45309 -0.50489 -0.10865 -0.2527 -0.18251 0.20441 0.13319 0.1294 0.050594 -0.15612 -0.39543 0.12538 0.24881 -0.1927 -0.31847 -0.12719 0.4341 0.31177 -0.0040946 -0.2094 -0.079961 0.1161 -0.050794 0.015266 -0.2803 -0.12486 0.23587 0.2339 -0.14023 0.028462 0.56923 -0.1649 -0.036429 0.010051 -0.17107 -0.042608 0.044965 -0.4393 -0.26137 0.30088 -0.060772 -0.45312 -0.19076 -0.20288 0.27694 -0.060888 0.11944 0.62206 -0.19343 0.47849 -0.30113 0.059389 0.074901 0.061068 -0.4662 0.40054 -0.19099 -0.14331 0.018267 -0.18643 0.20709 -0.35598 0.05338 -0.050821 -0.1918 -0.37846 -0.06589\n",
            ". 0.012001 0.20751 -0.12578 -0.59325 0.12525 0.15975 0.13748 -0.33157 -0.13694 1.7893 -0.47094 0.70434 0.26673 -0.089961 -0.18168 0.067226 0.053347 1.5595 -0.2541 0.038413 -0.01409 0.056774 0.023434 0.024042 0.31703 0.19025 -0.37505 0.035603 0.1181 0.012032 -0.037566 -0.5046 -0.049261 0.092351 0.11031 -0.073062 0.33994 0.28239 0.13413 0.070128 -0.022099 -0.28103 0.49607 -0.48693 -0.090964 -0.1538 -0.38011 -0.014228 -0.19392 -0.11068 -0.014088 -0.17906 0.24509 -0.16878 -0.15351 -0.13808 0.02151 0.13699 0.0068061 -0.14915 -0.38169 0.12727 0.44007 0.32678 -0.46117 0.068687 0.34747 0.18827 -0.31837 0.4447 -0.2095 -0.26987 0.48945 0.15388 0.05295 -0.049831 0.11207 0.14881 -0.37003 0.30777 -0.33865 0.045149 -0.18987 0.26634 -0.26401 -0.47556 0.68381 -0.30653 0.24606 0.31611 -0.071098 0.030417 0.088119 0.045025 0.20125 -0.21618 -0.36371 -0.25948 -0.42398 -0.14305 -0.10208 0.21498 -0.21924 -0.17935 0.21546 0.13801 0.24504 -0.2559 0.054815 0.21307 0.2564 -0.25673 0.17961 -0.47638 -0.25181 -0.0091498 -0.054362 -0.21007 0.12597 -0.40795 -0.021164 0.20585 0.18925 -0.0051896 -0.51394 0.28862 -0.077748 -0.27676 0.46567 -0.14225 -0.17879 -0.4357 -0.32481 0.15034 -0.058367 0.49652 0.20472 0.019866 0.13326 0.12823 -1.0177 0.29007 0.28995 0.029994 -0.10763 0.28665 -0.24387 0.22905 -0.26249 -0.069269 -0.17889 0.21936 0.15146 0.04567 -0.050497 0.071482 -0.1027 -0.080705 0.30296 0.031302 0.26613 -0.0060951 0.10313 -0.39987 -0.043945 -0.057625 0.08702 -0.098152 0.22835 -0.005211 0.038075 0.01591 -0.20622 0.021853 0.0040426 -0.043063 -0.002294 -0.26097 -0.25802 -0.28158 -0.23118 -0.010404 -0.30102 -0.4042 0.014653 -0.10445 0.30377 -0.20957 0.3119 0.068272 0.1008 0.010423 0.54011 0.29865 0.12653 0.013761 0.21738 -0.39521 0.066633 0.50327 0.14913 -0.11554 0.010042 0.095698 0.16607 -0.18808 0.055019 0.026715 -0.3164 -0.046583 -0.051591 0.023475 -0.11007 0.085642 0.28394 0.040497 0.071986 0.14157 -0.021199 0.44718 0.20088 -0.12964 -0.067183 0.47614 0.13394 -0.17287 -0.37324 -0.17285 0.02683 -0.1316 0.09116 -0.46487 0.1274 -0.090159 -0.10552 0.068006 -0.13381 0.17056 0.089509 -0.23133 -0.27572 0.061534 -0.051646 0.28377 0.25286 -0.24139 -0.19905 0.12049 -0.1011 0.27392 0.27843 0.26449 -0.18292 -0.048961 0.19198 0.17192 0.33659 -0.20184 -0.34305 -0.24553 -0.15399 0.3945 0.22839 -0.25753 -0.25675 -0.37332 -0.23884 -0.048816 0.78323 0.18851 -0.26477 0.096566 0.062658 -0.30668 -0.43334 0.10006 0.21136 0.039459 -0.11077 0.24421 0.60942 -0.46646 0.086385 -0.39702 -0.23363 0.021307 -0.10778 -0.2281 0.50803 0.11567 0.16165 -0.066737 -0.29556 0.022612 -0.28135 0.0635 0.14019 0.13871 -0.36049 -0.035\n",
            "the 0.27204 -0.06203 -0.1884 0.023225 -0.018158 0.0067192 -0.13877 0.17708 0.17709 2.5882 -0.35179 -0.17312 0.43285 -0.10708 0.15006 -0.19982 -0.19093 1.1871 -0.16207 -0.23538 0.003664 -0.19156 -0.085662 0.039199 -0.066449 -0.04209 -0.19122 0.011679 -0.37138 0.21886 0.0011423 0.4319 -0.14205 0.38059 0.30654 0.020167 -0.18316 -0.0065186 -0.0080549 -0.12063 0.027507 0.29839 -0.22896 -0.22882 0.14671 -0.076301 -0.1268 -0.0066651 -0.052795 0.14258 0.1561 0.05551 -0.16149 0.09629 -0.076533 -0.049971 -0.010195 -0.047641 -0.16679 -0.2394 0.0050141 -0.049175 0.013338 0.41923 -0.10104 0.015111 -0.077706 -0.13471 0.119 0.10802 0.21061 -0.051904 0.18527 0.17856 0.041293 -0.014385 -0.082567 -0.035483 -0.076173 -0.045367 0.089281 0.33672 -0.22099 -0.0067275 0.23983 -0.23147 -0.88592 0.091297 -0.012123 0.013233 -0.25799 -0.02972 0.016754 0.01369 0.32377 0.039546 0.042114 -0.088243 0.30318 0.087747 0.16346 -0.40485 -0.043845 -0.040697 0.20936 -0.77795 0.2997 0.2334 0.14891 -0.39037 -0.053086 0.062922 0.065663 -0.13906 0.094193 0.10344 -0.2797 0.28905 -0.32161 0.020687 0.063254 -0.23257 -0.4352 -0.017049 -0.32744 -0.047064 -0.075149 -0.18788 -0.015017 0.029342 -0.3527 -0.044278 -0.13507 -0.11644 -0.1043 0.1392 0.0039199 0.37603 0.067217 -0.37992 -1.1241 -0.057357 -0.16826 0.03941 0.2604 -0.023866 0.17963 0.13553 0.2139 0.052633 -0.25033 -0.11307 0.22234 0.066597 -0.11161 0.062438 -0.27972 0.19878 -0.36262 -1.0006e-05 -0.17262 0.29166 -0.15723 0.054295 0.06101 -0.39165 0.2766 0.057816 0.39709 0.025229 0.24672 -0.08905 0.15683 -0.2096 -0.22196 0.052394 -0.01136 0.050417 -0.14023 -0.042825 -0.031931 -0.21336 -0.20402 -0.23272 0.07449 0.088202 -0.11063 -0.33526 -0.014028 -0.29429 -0.086911 -0.1321 -0.43616 0.20513 0.0079362 0.48505 0.064237 0.14261 -0.43711 0.12783 -0.13111 0.24673 -0.27496 0.15896 0.43314 0.090286 0.24662 0.066463 -0.20099 0.1101 0.03644 0.17359 -0.15689 -0.086328 -0.17316 0.36975 -0.40317 -0.064814 -0.034166 -0.013773 0.062854 -0.17183 -0.12366 -0.034663 -0.22793 -0.23172 0.239 0.27473 0.15332 0.10661 -0.060982 -0.024805 -0.13478 0.17932 -0.37374 -0.02893 -0.11142 -0.08389 -0.055932 0.068039 -0.10783 0.1465 0.094617 -0.084554 0.067429 -0.3291 0.034082 -0.16747 -0.25997 -0.22917 0.020159 -0.02758 0.16136 -0.18538 0.037665 0.57603 0.20684 0.27941 0.16477 -0.018769 0.12062 0.069648 0.059022 -0.23154 0.24095 -0.3471 0.04854 -0.056502 0.41566 -0.43194 0.4823 -0.051759 -0.27285 -0.25893 0.16555 -0.1831 -0.06734 0.42457 0.010346 0.14237 0.25939 0.17123 -0.13821 -0.066846 0.015981 -0.30193 0.043579 -0.043102 0.35025 -0.19681 -0.4281 0.16899 0.22511 -0.28557 -0.1028 -0.018168 0.11407 0.13015 -0.18317 0.1323\n",
            "and -0.18567 0.066008 -0.25209 -0.11725 0.26513 0.064908 0.12291 -0.093979 0.024321 2.4926 -0.017916 -0.071218 -0.24782 -0.26237 -0.2246 -0.21961 -0.12927 1.0867 -0.66072 -0.031617 -0.057328 0.056903 -0.27939 -0.39825 0.14251 -0.085146 -0.14779 0.055067 -0.0028687 -0.20917 -0.070735 0.22577 -0.15881 -0.10395 0.09711 -0.56251 -0.32929 -0.20853 0.0098711 0.049777 0.0014883 0.15884 0.042771 -0.0026956 -0.02462 -0.19213 -0.22556 0.10838 0.090086 -0.13291 0.32559 -0.17038 -0.1099 -0.23986 -0.024289 0.014656 -0.237 0.084828 -0.35982 -0.076746 0.048909 0.11431 -0.21013 0.24765 -0.017531 -0.14028 0.046191 0.22972 0.1175 0.12724 0.012992 0.4587 0.41085 0.039106 0.15713 -0.18376 0.26834 0.056662 0.16844 -0.053788 -0.091892 0.11193 -0.08681 -0.13324 0.15062 -0.31733 -0.22078 0.25038 0.34131 0.36419 -0.089514 -0.22193 0.24471 0.040091 0.47798 -0.029996 0.0019212 0.063511 -0.20417 -0.26478 0.20649 0.015573 -0.27722 -0.18861 -0.10289 -0.49773 0.14986 -0.010877 0.25085 -0.28117 0.18966 -0.065879 0.094753 -0.15338 -0.055071 -0.36747 0.24993 0.096527 0.23538 0.18405 0.052859 0.22967 0.12582 0.15536 -0.17275 0.33946 -0.10049 0.074948 -0.093575 -0.04049 -0.016922 -0.0058039 -0.18108 0.19537 0.45178 0.10965 0.2337 -0.09905 -0.078633 0.21678 -0.71231 -0.099759 0.33333 -0.1646 -0.091688 0.21056 0.023669 0.028922 0.1199 -0.12512 -0.026037 -0.062217 0.55816 0.0050273 -0.30888 0.038611 0.17568 -0.11163 -0.10815 -0.19444 0.29433 0.14519 -0.042878 0.18534 0.018891 -0.61883 0.13352 0.036007 0.33995 0.22109 -0.079328 0.071319 0.17678 0.16378 -0.23142 -0.1434 -0.098122 -0.019286 0.2356 -0.34013 -0.061007 -0.23208 -0.31152 0.10063 -0.15957 0.20183 -0.016345 -0.12303 0.022667 -0.20986 -0.20127 -0.087883 0.064731 0.10195 -0.1786 0.33056 0.21407 -0.32165 -0.17106 0.19407 -0.38618 -0.2148 -0.052254 0.023175 0.47389 0.18612 0.12711 0.20855 -0.10256 -0.12016 -0.40488 0.029695 -0.027419 -0.0085227 -0.11415 0.081134 -0.17228 0.19142 0.026514 0.043789 -0.12399 0.13354 0.10112 0.081682 -0.15085 0.0075806 -0.18971 0.24669 0.22491 0.35553 -0.3277 -0.21821 0.1402 0.28604 0.055226 -0.086544 0.02111 -0.19236 0.074245 0.076782 0.00081666 0.034097 -0.57719 0.10657 0.28134 -0.11964 -0.68281 -0.32893 -0.24442 -0.025847 0.0091273 0.2025 -0.050959 -0.11042 0.010962 0.076773 0.40048 -0.40739 -0.44773 0.31954 -0.036326 -0.012789 -0.17282 0.1476 0.2356 0.080642 -0.36528 -0.0083443 0.6239 -0.24379 0.019917 -0.28803 -0.010494 0.038412 -0.11718 -0.072462 0.16381 0.38488 -0.029783 0.23444 0.4532 0.14815 -0.027021 -0.073181 -0.1147 -0.0054545 0.47796 0.090912 0.094489 -0.36882 -0.59396 -0.097729 0.20072 0.17055 -0.0047356 -0.039709 0.32498 -0.023452 0.12302 0.3312\n",
            "\n",
            "/gdrive/My Drive/googlenews.word2vec.300d.txt 18920\n",
            "in 0.0703125 0.08691406 0.087890625 0.0625 0.06933594 -0.10888672 -0.08154297 -0.15429688 0.020751953 0.13183594 -0.11376953 -0.037353516 0.06933594 0.078125 -0.103027344 -0.09765625 0.044189453 0.10253906 -0.060791016 -0.036132812 -0.045410156 0.04736328 -0.12060547 -0.063964844 0.0022583008 0.037109375 -0.0029144287 0.11767578 0.061767578 0.063964844 0.08105469 -0.068847656 -0.021362305 0.05517578 -0.08544922 0.068847656 -0.12792969 -0.033203125 0.09863281 0.17578125 0.110839844 -0.03466797 -0.04711914 -0.008483887 0.035888672 0.103027344 0.026977539 -0.028686523 -0.005126953 0.10644531 0.059814453 0.09423828 0.033691406 -0.02709961 -0.09423828 0.0010299683 -0.048339844 0.034423828 0.08105469 -0.11328125 -0.08886719 0.035888672 -0.14550781 -0.24414062 -0.061523438 0.052978516 0.056884766 0.1796875 0.061035156 0.08691406 0.12402344 -0.040283203 0.022583008 0.17773438 -0.029663086 -0.029663086 0.1171875 0.03112793 -0.096191406 0.06640625 0.004699707 -0.080078125 0.06298828 -0.020629883 -0.0546875 -0.13574219 -0.06347656 0.083496094 -0.063964844 0.021484375 0.07714844 -0.037109375 -0.033691406 -0.18359375 -0.072753906 0.01586914 0.09326172 -0.061523438 -0.014221191 -0.0034484863 0.011108398 -0.15820312 -0.017089844 0.0061950684 -0.008728027 -0.080566406 -0.015258789 -0.087890625 0.003479004 -0.016113281 -0.012329102 0.09765625 -0.13964844 -0.0859375 -0.026855469 0.053955078 0.1328125 0.11279297 0.12109375 0.08544922 -0.0071105957 0.044677734 -0.14550781 -0.0032043457 -0.11767578 -0.06542969 0.07128906 -0.09423828 -0.030273438 0.12011719 0.080078125 -0.09472656 -0.16210938 -0.07763672 0.021240234 -0.08154297 0.0039367676 -0.15722656 -0.09814453 0.039794922 0.03930664 -0.009094238 0.103027344 0.067871094 -0.04272461 0.06347656 -0.049072266 0.020874023 -0.16699219 0.09326172 0.09375 0.006866455 0.053710938 0.052490234 -0.024414062 -0.032470703 -0.061523438 -0.005554199 0.096191406 0.037841797 0.012207031 -0.043945312 -0.0074768066 0.10546875 0.020385742 0.14550781 0.08203125 0.0057678223 0.0045776367 -0.09277344 -0.13867188 -0.057373047 -0.051513672 -0.13085938 -0.13964844 -0.020507812 -0.02709961 0.032714844 0.10498047 -0.0023345947 -0.022583008 0.00050354004 -0.110839844 0.08496094 -0.12988281 -0.017456055 -0.00035858154 0.107910156 0.08886719 0.044677734 0.025146484 0.023803711 0.08105469 0.02368164 -0.10986328 0.0053710938 -0.017700195 -0.033935547 -0.032958984 -0.1640625 0.095703125 -0.018310547 0.0053100586 -0.034423828 -0.044189453 -0.06640625 -0.017944336 -0.029663086 -0.007598877 -0.05126953 -0.05419922 0.08935547 -0.071777344 0.015258789 -0.08251953 -0.03173828 0.03564453 -0.021240234 -0.059326172 -0.013061523 0.046875 0.023071289 0.020996094 -0.07861328 -0.008056641 0.01953125 -0.005554199 0.041503906 0.027832031 0.01361084 0.03466797 -0.18261719 0.12011719 0.07421875 -0.041015625 -0.0099487305 0.04296875 -0.007293701 0.123046875 0.057617188 -0.053466797 -0.032226562 -0.009094238 -0.04663086 0.043945312 -0.05078125 0.068847656 0.0029907227 -0.004180908 -0.044189453 0.07373047 -0.012756348 0.06738281 0.006286621 0.07519531 -0.037841797 0.0048828125 0.044677734 -0.06738281 0.00970459 0.0047302246 0.020507812 0.07128906 0.17089844 0.17382812 0.055664062 0.091308594 -0.037353516 0.049804688 -0.03930664 0.044189453 0.0625 0.048583984 -0.053222656 0.048828125 -0.13085938 -0.028930664 -0.036132812 -0.060791016 -0.057373047 0.123046875 -0.08251953 -0.0119018555 0.125 0.0013580322 0.063964844 -0.10644531 -0.14355469 -0.042236328 0.024047852 -0.16894531 -0.08886719 -0.080566406 0.064941406 0.061279297 -0.04736328 -0.05883789 -0.047607422 0.014465332 -0.0625\n",
            "for -0.011779785 -0.04736328 0.044677734 0.06347656 -0.018188477 -0.063964844 -0.0013122559 -0.072265625 0.064453125 0.08642578 -0.16992188 -0.039794922 0.07128906 -0.025878906 0.018188477 0.13671875 0.14453125 -0.033691406 -0.09765625 -0.12011719 -0.079589844 0.0625 -0.06689453 0.07421875 0.022705078 0.033447266 -0.18066406 0.052001953 0.0138549805 0.09277344 0.0035095215 -0.009094238 -0.09716797 0.067871094 -0.0087890625 0.044189453 -0.13378906 -0.099609375 0.033203125 0.027954102 0.15527344 -0.017700195 0.014282227 -0.10986328 -0.08544922 -0.07324219 -0.024658203 0.17285156 0.061767578 0.08935547 -0.024291992 0.14160156 -0.032958984 0.02746582 -0.15527344 0.007873535 -0.07080078 0.043701172 0.006011963 -0.055908203 -0.14746094 0.028442383 -0.1328125 -0.17675781 -0.091308594 -0.05078125 -0.026000977 -0.1484375 -0.080566406 0.15039062 -0.04345703 0.07910156 0.033203125 0.09033203 0.022705078 -0.0625 0.1640625 0.0859375 -0.012390137 0.19628906 -0.06225586 0.022460938 -0.030151367 0.021240234 0.003326416 -0.055419922 -0.07324219 0.029785156 0.049804688 0.017456055 0.10449219 0.03881836 0.08496094 -0.24804688 0.06933594 -0.14941406 0.05834961 0.095703125 -0.033447266 0.06298828 0.021362305 -0.14550781 0.053710938 -0.09082031 -0.025390625 0.045410156 0.0053100586 -0.115722656 -0.01953125 0.12109375 0.032226562 0.09472656 -0.064453125 0.022705078 0.12060547 0.060302734 0.12060547 0.048828125 0.09326172 0.06689453 0.029296875 -0.034179688 -0.111328125 0.053466797 -0.025634766 0.017822266 0.06225586 -0.025878906 0.14550781 0.0625 0.107910156 -0.16308594 -0.09765625 -0.10595703 -0.08544922 -0.08886719 0.10107422 -0.079589844 0.008422852 0.024047852 0.13085938 0.05126953 0.08154297 0.09375 -0.05859375 -0.09667969 -0.028320312 -0.14550781 -0.14746094 0.14550781 -0.017578125 0.032958984 -0.08544922 -0.010986328 -0.037109375 -0.013671875 0.035888672 -0.008239746 0.05029297 -0.09472656 0.047851562 0.020751953 0.030639648 0.12988281 0.052734375 0.018798828 -0.017578125 0.03491211 0.018310547 -0.009887695 -0.18457031 -0.08984375 -0.029052734 -0.060791016 -0.05126953 -0.0023651123 0.06640625 -0.08251953 -0.040039062 0.096191406 -0.15429688 -0.15332031 0.028320312 0.013122559 0.029907227 -0.012145996 -0.09667969 0.024780273 0.19335938 0.013000488 0.024169922 -0.035888672 0.09863281 -0.09667969 -0.20019531 -0.013793945 0.0859375 -0.080078125 -0.17675781 -0.17480469 0.005126953 -0.03491211 -0.0546875 0.09375 -0.09326172 -0.011962891 -0.0005645752 0.09765625 0.024780273 -0.039794922 0.009765625 0.11816406 0.025756836 0.123046875 0.064453125 0.07080078 0.029296875 -0.049560547 -0.078125 0.028930664 0.045654297 -0.04296875 0.025878906 -0.051757812 0.140625 0.004272461 -0.037841797 0.02746582 0.060058594 0.028320312 0.028076172 -0.036621094 0.13085938 -9.679794e-05 -0.06933594 -0.022094727 0.067871094 -0.02331543 -0.015319824 -0.05834961 0.061035156 0.00064468384 0.0039978027 -0.07128906 0.091796875 0.026245117 0.020019531 0.03540039 -0.057861328 -0.029663086 0.02734375 0.025146484 0.060302734 0.13183594 -0.0043640137 0.0027313232 0.059814453 0.09863281 -0.091796875 -0.045898438 -0.017456055 0.038330078 -0.019165039 0.04638672 0.047851562 0.09814453 -0.040283203 0.09423828 -0.03466797 -0.042236328 0.0703125 -0.013671875 0.10644531 0.016479492 0.13183594 -0.0016937256 -0.008483887 -0.14257812 -0.04663086 -0.10986328 0.08203125 -0.041015625 -0.018920898 0.087890625 -0.0028076172 0.23828125 -0.04711914 -0.022949219 0.040771484 0.029296875 -0.022583008 0.0037231445 -0.08251953 0.08154297 0.00793457 0.00047683716 0.018432617 0.07128906 -0.03491211 0.024169922\n",
            "that -0.01574707 -0.028320312 0.083496094 0.05029297 -0.11035156 0.03173828 -0.014221191 -0.08984375 0.11767578 0.11816406 -0.071777344 -0.07714844 -0.068847656 0.07714844 -0.13867188 0.006500244 0.010986328 -0.015136719 -0.0009613037 -0.030273438 -0.00015830994 0.038330078 -0.024169922 -0.045898438 0.09472656 -0.05517578 -0.064941406 0.0061035156 0.0008544922 0.06201172 -0.05444336 0.014099121 0.022216797 -0.044921875 0.111328125 -0.03857422 0.05126953 0.025146484 0.016967773 0.06298828 0.13769531 0.13574219 0.06542969 -0.064453125 -0.024047852 -0.013366699 -0.037109375 0.0043029785 -0.01574707 0.019042969 0.10839844 0.044677734 -0.044921875 -0.095214844 0.08691406 0.08203125 0.0068359375 -0.13183594 0.0027313232 -0.075683594 0.022460938 0.171875 -0.048583984 0.038330078 -0.088378906 -0.017211914 0.021850586 0.13378906 0.010681152 0.049804688 0.038085938 -0.0052490234 0.061279297 -0.050048828 -0.10595703 0.055664062 0.15429688 0.17089844 0.048095703 0.12695312 0.08154297 -0.1015625 0.043945312 -0.013549805 -0.13378906 -0.15722656 0.024291992 0.20898438 -0.10205078 -0.09375 0.048583984 0.07519531 0.0035247803 -0.123535156 -0.024169922 -0.0013198853 0.038330078 0.007598877 0.017700195 0.043701172 -0.09814453 -0.05810547 0.014099121 0.041015625 -0.03540039 -0.022949219 -0.13085938 -0.14453125 0.028930664 -0.122558594 -0.07128906 -0.0071411133 -0.09667969 0.05859375 0.104003906 0.026367188 0.0075683594 0.036132812 0.040283203 0.052734375 -0.20410156 -0.033447266 -0.029052734 0.03173828 -0.123535156 -0.06738281 0.01586914 -0.08642578 0.012512207 -0.06298828 -0.12060547 0.0234375 -0.13183594 -0.11816406 -0.012145996 -0.10986328 0.095214844 -0.041992188 0.018310547 0.051757812 0.014953613 -0.15917969 -0.021728516 -0.005126953 0.035888672 -0.003036499 -0.078125 -0.05126953 -0.0074157715 0.087402344 -0.023925781 0.044189453 -0.11376953 0.021484375 -0.003829956 -0.04345703 -0.104003906 -0.18554688 -0.044921875 0.044921875 -0.044433594 0.019042969 -0.020996094 0.0134887695 0.015258789 -0.030395508 0.04663086 0.10253906 -0.0138549805 0.008239746 -0.052734375 0.01965332 -0.076171875 -0.08984375 0.043945312 0.00793457 0.012634277 -0.10839844 -0.018554688 -0.10449219 -0.15234375 -0.07910156 -0.028808594 -0.018676758 0.09716797 -0.008361816 -0.03540039 0.007537842 0.05810547 0.08203125 0.028808594 0.05102539 0.0031738281 -0.018554688 0.014953613 -0.072753906 -0.034179688 0.043945312 -0.048828125 -0.16113281 0.025634766 0.036621094 -0.00015354156 -0.0012588501 -0.039794922 -0.032226562 -0.01574707 0.060791016 0.09716797 -0.015014648 -0.033691406 -0.015319824 0.0046691895 0.032958984 -0.08203125 0.10644531 0.15429688 0.0087890625 -0.12011719 0.061279297 0.05859375 0.03881836 -0.015991211 -0.043945312 0.12011719 -0.07519531 0.125 0.03515625 0.072753906 0.087402344 0.021118164 -0.07373047 0.034423828 -0.09423828 0.01159668 -0.057128906 -0.07861328 0.015991211 0.075683594 0.030517578 0.0046081543 -0.14550781 -0.024780273 -0.107910156 0.068847656 0.05810547 0.125 -0.06542969 0.005279541 0.01184082 0.06982422 0.12695312 0.06542969 -0.017333984 0.119140625 -0.032470703 0.14453125 0.076660156 -0.032226562 -0.06591797 0.06298828 -0.0625 -0.096191406 0.10644531 -0.039794922 0.11621094 -0.00970459 -0.03540039 -0.06542969 0.05883789 0.16210938 0.05126953 0.15917969 0.095214844 0.076171875 -0.091796875 0.025146484 -0.07861328 0.08935547 -0.05859375 -0.040039062 0.045898438 0.03100586 0.0390625 0.03564453 -0.10595703 -0.037109375 -0.16113281 0.021362305 0.0012207031 -0.011291504 -0.015625 -0.033447266 -0.020629883 -0.01940918 0.063964844 0.020141602 0.006866455 0.061035156 -0.1484375\n",
            "is 0.0070495605 -0.07324219 0.171875 0.022583008 -0.1328125 0.19824219 0.11279297 -0.107910156 0.071777344 0.020874023 -0.123046875 -0.05908203 0.10107422 0.0107421875 0.14355469 0.25976562 -0.036376953 0.18554688 -0.07861328 -0.022705078 -0.12060547 0.17773438 0.049560547 0.017211914 0.079589844 -0.045654297 -0.18847656 0.18945312 -0.02319336 0.06298828 0.09765625 -0.019042969 -0.07910156 0.15234375 0.17382812 0.1015625 -0.16308594 0.114746094 0.10058594 -0.09277344 0.109375 0.05883789 -0.021606445 0.06347656 0.041992188 -0.008850098 0.032226562 0.10644531 0.064453125 -0.118652344 0.030517578 0.06689453 0.12207031 -0.08300781 0.171875 0.07861328 0.095214844 -0.0077819824 0.02319336 0.0234375 -0.016845703 0.15527344 -0.10986328 -0.17675781 -0.11621094 0.0234375 -0.010620117 0.052734375 -0.13378906 0.079589844 0.07373047 0.043945312 0.115234375 -0.020629883 0.07470703 -0.0115356445 0.080566406 0.041748047 0.080078125 0.3515625 0.09667969 -0.21289062 0.16503906 -0.078125 0.06982422 -0.0013961792 -0.091308594 0.12988281 0.25195312 -0.016113281 0.09326172 -0.14648438 -0.0015106201 -0.15136719 -0.026855469 -0.15722656 0.026367188 0.0859375 0.071777344 0.07714844 -0.0390625 0.05444336 -0.12792969 0.091308594 -0.18457031 -0.037597656 -0.027954102 -0.08984375 -0.11669922 -0.09863281 0.048095703 -0.16210938 -0.10888672 0.08496094 -0.045654297 0.15820312 -0.038085938 -0.08203125 0.203125 0.08642578 0.06933594 0.032226562 -0.16015625 0.09472656 -0.024658203 0.05419922 0.027954102 0.044921875 0.16992188 0.072753906 -0.036376953 -0.010253906 -0.017089844 -0.107421875 -0.0007019043 -0.07373047 0.25390625 0.056640625 0.03515625 -0.008605957 0.18554688 0.021484375 0.26367188 -0.023803711 -0.099121094 -0.041259766 -0.06933594 -0.11376953 0.050048828 -0.05883789 0.046142578 0.087402344 0.10546875 0.10644531 0.027954102 0.09472656 0.11621094 -0.17285156 -0.03491211 -0.20800781 0.059570312 0.104003906 -0.0017929077 0.05859375 -0.029785156 -0.037597656 0.048583984 -0.063964844 0.079589844 0.06933594 -0.10498047 -0.14453125 0.04345703 -0.068847656 -0.03564453 -0.01171875 0.013671875 -0.06591797 0.119140625 0.03125 -0.04638672 -0.0019683838 0.0073547363 -0.056640625 0.027832031 0.08251953 -0.0134887695 0.071777344 0.14453125 0.12792969 0.042236328 0.14160156 -0.018066406 0.021606445 -0.091796875 0.13378906 -0.1953125 -0.05029297 -0.037841797 -0.096191406 0.103027344 -0.106933594 -0.14746094 0.099609375 -0.23046875 0.22753906 -0.07519531 0.064941406 0.091796875 0.046875 0.06298828 0.06982422 0.046142578 0.09716797 -0.20214844 0.19921875 0.18652344 -0.119628906 -0.14257812 0.15039062 -0.033691406 -0.14550781 -0.0006904602 -0.07324219 0.13378906 0.03564453 -0.022949219 0.027709961 -0.07910156 0.20703125 -0.083496094 -0.049560547 0.03149414 0.1484375 0.055664062 -0.044921875 -0.079589844 0.004760742 -0.020751953 0.060058594 0.004760742 0.011169434 0.17285156 -0.13476562 0.030761719 -0.079589844 0.09033203 0.061035156 0.07714844 -0.05029297 -0.092285156 -0.26757812 0.107910156 0.0859375 0.06298828 0.107910156 -0.026733398 0.10205078 -0.12060547 0.052978516 0.09472656 -0.16503906 0.044189453 0.072265625 0.041259766 0.42578125 -0.103027344 -0.16015625 -0.09033203 -0.063964844 -0.048095703 0.14453125 0.06542969 0.049316406 0.05419922 0.13574219 -0.01928711 -0.21582031 -0.07421875 -0.14648438 0.011474609 -0.16503906 -0.10498047 0.0032043457 0.13476562 -0.003967285 -0.103515625 -0.13964844 0.10449219 -0.012573242 -0.23339844 -0.036376953 -0.09375 0.18261719 0.02709961 0.12792969 -0.024780273 0.011230469 0.1640625 0.106933594\n"
          ],
          "name": "stdout"
        }
      ]
    },
    {
      "cell_type": "markdown",
      "metadata": {
        "id": "WIVCkUkE_IjR",
        "colab_type": "text"
      },
      "source": [
        "#### Exercise: New Vocabulary\n",
        "\n",
        "Since we now use pre-trained word embeddings, we need to create a new vocabulary. \n",
        "This is because of two reasons:\n",
        "\n",
        "1. Not all words in our training set are in the set of pre-trained word embeddings. We do not want words in our vocabulary that are not in that set.\n",
        "2. We get to look up the pre-trained word embedding for words in the validation and test set, even if we don't know them from training. \n",
        "\n",
        "Now, create a new vocabulary object `v` and load the pre-trained vectors into a `vectors`.\n",
        "\n",
        "The vocabulary `v` should consist of:\n",
        " - a  `<unk>` token at position 0,\n",
        " - a  `<pad>` token at position 1, \n",
        " - and then all words in the pre-trained vector set.\n",
        " \n",
        "\n",
        "After storing each vector in a list `vectors`, turn in into a numpy matrix like this:\n",
        "```python\n",
        " vectors = np.stack(vectors, axis=0)\n",
        "```\n",
        " \n",
        " \n"
      ]
    },
    {
      "cell_type": "code",
      "metadata": {
        "id": "ITyyCvDnCL4U",
        "colab_type": "code",
        "outputId": "891d88c2-643f-432f-a2e3-1c875c72de26",
        "colab": {
          "base_uri": "https://localhost:8080/",
          "height": 34
        }
      },
      "source": [
        "# YOUR CODE HERE\n",
        "\n",
        "glove_tokens = [s.split()[0] for s in filereader(glove)]\n",
        "\n",
        "v = Vocabulary()\n",
        "\n",
        "for token in glove_tokens:\n",
        "  v.count_token(token)\n",
        "\n",
        "v.build()\n",
        "\n",
        "print(\"Vocabulary size:\", len(v.w2i))\n",
        "\n",
        "embs = []\n",
        "unk = np.zeros(300)\n",
        "pad = np.zeros(300)\n",
        "\n",
        "embs.append(unk)\n",
        "embs.append(pad)\n",
        "\n",
        "for s in filereader(glove):\n",
        "  vec = np.array([float(n) for n in s.split()[1:]])\n",
        "  embs.append(vec)\n",
        "  \n",
        "vectors = np.stack(embs, axis=0)\n"
      ],
      "execution_count": 78,
      "outputs": [
        {
          "output_type": "stream",
          "text": [
            "Vocabulary size: 20727\n"
          ],
          "name": "stdout"
        }
      ]
    },
    {
      "cell_type": "markdown",
      "metadata": {
        "id": "xC-7mRyYNG9b",
        "colab_type": "text"
      },
      "source": [
        "#### Exercise: words not in our pre-trained set\n",
        "\n",
        "How many words in the training, dev, and test set are also in your vector set?\n",
        "How many words are not there?\n",
        "\n",
        "Store the words that are not in the word vector set in the set below."
      ]
    },
    {
      "cell_type": "code",
      "metadata": {
        "id": "K6MA3-wF_X5M",
        "colab_type": "code",
        "outputId": "bc314e5f-0253-4315-9ab0-224ebb893f53",
        "colab": {
          "base_uri": "https://localhost:8080/",
          "height": 51
        }
      },
      "source": [
        "words_not_found = set()\n",
        "# YOUR CODE HERE\n",
        "\n",
        "print(len(words_not_found))\n",
        "\n",
        "for dataset in [train_data, dev_data, test_data]:\n",
        "  for example in dataset:\n",
        "    tokens = example.tokens\n",
        "    for token in tokens:\n",
        "      if not token in v.w2i:        \n",
        "        words_not_found.add(token)\n",
        "\n",
        "print(len(words_not_found))\n"
      ],
      "execution_count": 79,
      "outputs": [
        {
          "output_type": "stream",
          "text": [
            "0\n",
            "334\n"
          ],
          "name": "stdout"
        }
      ]
    },
    {
      "cell_type": "markdown",
      "metadata": {
        "id": "BfEd38W0NnAI",
        "colab_type": "text"
      },
      "source": [
        "#### Exercise: train Deep CBOW with (fixed) pre-trained embeddings\n",
        "\n",
        "Now train Deep CBOW again using the pre-trained word vectors.\n"
      ]
    },
    {
      "cell_type": "code",
      "metadata": {
        "id": "z_6ooqgEsB20",
        "colab_type": "code",
        "colab": {}
      },
      "source": [
        "# We define a dummy class so that we save the model to a different file.\n",
        "class PTDeepCBOW(DeepCBOW):\n",
        "  def __init__(self, vocab_size, output_dim, vocab, embedding_dim=300, hidden_dim=100):\n",
        "    super(PTDeepCBOW, self).__init__(\n",
        "        vocab_size, output_dim, vocab, embedding_dim, hidden_dim)"
      ],
      "execution_count": 0,
      "outputs": []
    },
    {
      "cell_type": "code",
      "metadata": {
        "id": "JfIh4Ni6yuAh",
        "colab_type": "code",
        "outputId": "790b96c2-ca11-455b-ee9d-c652bfba2823",
        "colab": {
          "base_uri": "https://localhost:8080/",
          "height": 1000
        }
      },
      "source": [
        "# YOUR CODE HERE\n",
        "pt_deep_cbow_model = PTDeepCBOW(len(v.w2i), len(t2i), v)\n",
        "\n",
        "# copy pre-trained word vectors into embeddings table\n",
        "pt_deep_cbow_model.embed.weight.data.copy_(torch.from_numpy(vectors))\n",
        "\n",
        "# disable training the pre-trained embeddings\n",
        "pt_deep_cbow_model.embed.weight.requires_grad = False\n",
        "\n",
        "# move model to specified device\n",
        "pt_deep_cbow_model = pt_deep_cbow_model.to(device)\n",
        "\n",
        "# train the model\n",
        "# YOUR CODE HERE\n",
        "optimizer = optim.Adam(pt_deep_cbow_model.parameters(), lr=0.0005)\n",
        "ptdcbow_losses, ptdcbow_accuracies = train_model(\n",
        "    pt_deep_cbow_model, optimizer, num_iterations=15000, \n",
        "    print_every=500, eval_every=500)\n",
        "\n",
        "print(ptdcbow_accuracies)\n",
        "print(ptdcbow_losses)"
      ],
      "execution_count": 82,
      "outputs": [
        {
          "output_type": "stream",
          "text": [
            "emb <class 'int'>\n",
            "hid <class 'int'>\n",
            "Shuffling training data\n",
            "Iter 500: loss=734.6018, time=1.04s\n",
            "iter 500: dev acc=0.3591\n",
            "new highscore\n",
            "Iter 1000: loss=690.8286, time=2.31s\n",
            "iter 1000: dev acc=0.4127\n",
            "new highscore\n",
            "Iter 1500: loss=671.8849, time=3.58s\n",
            "iter 1500: dev acc=0.3810\n",
            "Iter 2000: loss=662.0184, time=4.83s\n",
            "iter 2000: dev acc=0.4087\n",
            "Iter 2500: loss=652.1296, time=6.07s\n",
            "iter 2500: dev acc=0.4286\n",
            "new highscore\n",
            "Iter 3000: loss=648.7024, time=7.34s\n",
            "iter 3000: dev acc=0.4206\n",
            "Iter 3500: loss=632.8367, time=8.55s\n",
            "iter 3500: dev acc=0.4008\n",
            "Shuffling training data\n",
            "Iter 4000: loss=653.3734, time=9.75s\n",
            "iter 4000: dev acc=0.4127\n",
            "Iter 4500: loss=595.1718, time=10.96s\n",
            "iter 4500: dev acc=0.4603\n",
            "new highscore\n",
            "Iter 5000: loss=607.5478, time=12.21s\n",
            "iter 5000: dev acc=0.4107\n",
            "Iter 5500: loss=639.3641, time=13.45s\n",
            "iter 5500: dev acc=0.4444\n",
            "Iter 6000: loss=612.0421, time=14.65s\n",
            "iter 6000: dev acc=0.4365\n",
            "Iter 6500: loss=587.0877, time=15.84s\n",
            "iter 6500: dev acc=0.4087\n",
            "Iter 7000: loss=630.4480, time=17.04s\n",
            "iter 7000: dev acc=0.4385\n",
            "Iter 7500: loss=631.4683, time=18.24s\n",
            "iter 7500: dev acc=0.4087\n",
            "Shuffling training data\n",
            "Iter 8000: loss=588.7340, time=19.46s\n",
            "iter 8000: dev acc=0.3948\n",
            "Iter 8500: loss=599.6921, time=20.66s\n",
            "iter 8500: dev acc=0.4206\n",
            "Iter 9000: loss=574.7861, time=21.86s\n",
            "iter 9000: dev acc=0.4405\n",
            "Iter 9500: loss=551.5317, time=23.05s\n",
            "iter 9500: dev acc=0.4563\n",
            "Iter 10000: loss=624.3200, time=24.25s\n",
            "iter 10000: dev acc=0.4365\n",
            "Iter 10500: loss=573.7503, time=25.44s\n",
            "iter 10500: dev acc=0.4385\n",
            "Iter 11000: loss=619.0877, time=26.63s\n",
            "iter 11000: dev acc=0.4206\n",
            "Iter 11500: loss=586.8616, time=27.83s\n",
            "iter 11500: dev acc=0.4563\n",
            "Shuffling training data\n",
            "Iter 12000: loss=561.9071, time=29.05s\n",
            "iter 12000: dev acc=0.4187\n",
            "Iter 12500: loss=537.1963, time=30.27s\n",
            "iter 12500: dev acc=0.4385\n",
            "Iter 13000: loss=550.5758, time=31.46s\n",
            "iter 13000: dev acc=0.4444\n",
            "Iter 13500: loss=591.0721, time=32.65s\n",
            "iter 13500: dev acc=0.4325\n",
            "Iter 14000: loss=587.0124, time=33.84s\n",
            "iter 14000: dev acc=0.4524\n",
            "Iter 14500: loss=554.1475, time=35.04s\n",
            "iter 14500: dev acc=0.4266\n",
            "Iter 15000: loss=565.1318, time=36.25s\n",
            "iter 15000: dev acc=0.4563\n",
            "Done training\n",
            "Loading best model\n",
            "best model iter 4500: train acc=0.5141, dev acc=0.4603, test acc=0.4666\n",
            "[0.35912698412698413, 0.4126984126984127, 0.38095238095238093, 0.4087301587301587, 0.42857142857142855, 0.42063492063492064, 0.4007936507936508, 0.4126984126984127, 0.4603174603174603, 0.4107142857142857, 0.4444444444444444, 0.4365079365079365, 0.4087301587301587, 0.4384920634920635, 0.4087301587301587, 0.3948412698412698, 0.42063492063492064, 0.44047619047619047, 0.45634920634920634, 0.4365079365079365, 0.4384920634920635, 0.42063492063492064, 0.45634920634920634, 0.41865079365079366, 0.4384920634920635, 0.4444444444444444, 0.43253968253968256, 0.4523809523809524, 0.42658730158730157, 0.45634920634920634]\n",
            "[734.6018411517143, 690.8286120295525, 671.8849180340767, 662.0184373259544, 652.1296436786652, 648.7023695111275, 632.8366646170616, 653.3734096884727, 595.1718218326569, 607.547815144062, 639.3641338348389, 612.042075574398, 587.0876650810242, 630.448019862175, 631.4683104157448, 588.7339702248573, 599.6920536756516, 574.7860743999481, 551.5317077040672, 624.3200371861458, 573.7502530813217, 619.0876789093018, 586.8616262674332, 561.907124042511, 537.1962669491768, 550.5757853388786, 591.0721020102501, 587.0124241709709, 554.147501707077, 565.1318014860153]\n"
          ],
          "name": "stdout"
        }
      ]
    },
    {
      "cell_type": "code",
      "metadata": {
        "id": "Ufujv3x31ufD",
        "colab_type": "code",
        "outputId": "2125401f-418b-4653-ead4-7048197c26cb",
        "colab": {
          "base_uri": "https://localhost:8080/",
          "height": 450
        }
      },
      "source": [
        "# plot dev accuracies\n",
        "plt.plot(ptdcbow_accuracies)\n"
      ],
      "execution_count": 0,
      "outputs": [
        {
          "output_type": "execute_result",
          "data": {
            "text/plain": [
              "[<matplotlib.lines.Line2D at 0x7fb7ca1d5320>]"
            ]
          },
          "metadata": {
            "tags": []
          },
          "execution_count": 57
        },
        {
          "output_type": "display_data",
          "data": {
            "image/png": "[encoded data removed]",
            "text/plain": [
              "<Figure size 640x480 with 1 Axes>"
            ]
          },
          "metadata": {
            "tags": []
          }
        }
      ]
    },
    {
      "cell_type": "code",
      "metadata": {
        "id": "YTJtKBzd7Qjr",
        "colab_type": "code",
        "outputId": "52a86d4d-8843-4ee6-c0b7-4fd32508f5f1",
        "colab": {
          "base_uri": "https://localhost:8080/",
          "height": 447
        }
      },
      "source": [
        "# plot train loss\n",
        "plt.plot(ptdcbow_losses)"
      ],
      "execution_count": 0,
      "outputs": [
        {
          "output_type": "execute_result",
          "data": {
            "text/plain": [
              "[<matplotlib.lines.Line2D at 0x7fb7ca16e550>]"
            ]
          },
          "metadata": {
            "tags": []
          },
          "execution_count": 58
        },
        {
          "output_type": "display_data",
          "data": {
            "image/png": "[encoded data removed]",
            "text/plain": [
              "<Figure size 640x480 with 1 Axes>"
            ]
          },
          "metadata": {
            "tags": []
          }
        }
      ]
    },
    {
      "cell_type": "markdown",
      "metadata": {
        "id": "yFu8xzCy9XDW",
        "colab_type": "text"
      },
      "source": [
        "**It looks like we've hit what is possible with just using words.**\n",
        "Let's move on by incorporating word order!"
      ]
    },
    {
      "cell_type": "markdown",
      "metadata": {
        "id": "g41yW4PL9jG0",
        "colab_type": "text"
      },
      "source": [
        "# LSTM"
      ]
    },
    {
      "cell_type": "markdown",
      "metadata": {
        "id": "ODzXEH0MaGpa",
        "colab_type": "text"
      },
      "source": [
        "It is time to get more serious. Even with pre-trained word embeddings and multiple layers, we seem to do pretty badly at sentiment classification here. \n",
        "The next step we can take is to introduce word order again, and to get a representation of the sentence as a whole, without independence assumptions.\n",
        "\n",
        "We will get this representation using an **Long Short-Term Memory** (LSTM). As an exercise, we will code our own LSTM cell, so that we get comfortable with its inner workings.\n",
        "Once we have an LSTM cell, we can call it repeatedly, updating its hidden state one word at a time:\n",
        "\n",
        "```python\n",
        "rnn = MyLSTMCell(input_size, hidden_size)\n",
        "\n",
        "hx = torch.zeros(1, hidden_size)  # initial state\n",
        "cx = torch.zeros(1, hidden_size)  # initial memory cell\n",
        "output = []                       # to save intermediate LSTM states\n",
        "\n",
        "# feed one word at a time\n",
        "for i in range(n_timesteps):\n",
        "  hx, cx = rnn(input[i], (hx, cx))\n",
        "  output.append(hx)\n",
        "```\n",
        "\n",
        "If you need some more help understanding LSTMs, then check out these resources:\n",
        "- Blog post (highly recommended): http://colah.github.io/posts/2015-08-Understanding-LSTMs/\n",
        "- Paper covering LSTM formulas in detail: https://arxiv.org/abs/1503.04069 \n",
        "\n",
        "#### Exercise: Finish the LSTM cell below. \n",
        "You will need to implement the LSTM formulas:\n",
        "\n",
        "$$\n",
        "\\begin{array}{ll}\n",
        "        i = \\sigma(W_{ii} x + b_{ii} + W_{hi} h + b_{hi}) \\\\\n",
        "        f = \\sigma(W_{if} x + b_{if} + W_{hf} h + b_{hf}) \\\\\n",
        "        g = \\tanh(W_{ig} x + b_{ig} + W_{hg} h + b_{hg}) \\\\\n",
        "        o = \\sigma(W_{io} x + b_{io} + W_{ho} h + b_{ho}) \\\\\n",
        "        c' = f * c + i * g \\\\\n",
        "        h' = o \\tanh(c') \\\\\n",
        "\\end{array}\n",
        " $$\n",
        "\n",
        "where $\\sigma$ is the sigmoid function.\n",
        "\n",
        "*Note that the LSTM formulas can differ slightly between different papers. We use the PyTorch LSTM formulation here.*"
      ]
    },
    {
      "cell_type": "code",
      "metadata": {
        "id": "zJ9m5kLMd7-v",
        "colab_type": "code",
        "colab": {}
      },
      "source": [
        "class MyLSTMCell(nn.Module):\n",
        "  \"\"\"Our own LSTM cell\"\"\"\n",
        "\n",
        "  def __init__(self, input_size, hidden_size, bias=True):\n",
        "    \"\"\"Creates the weights for this LSTM\"\"\"\n",
        "    super(MyLSTMCell, self).__init__()\n",
        "\n",
        "    self.input_size = input_size\n",
        "    self.hidden_size = hidden_size\n",
        "    self.bias = bias\n",
        "    \n",
        "    # YOUR CODE HERE\n",
        "    self.W_ii = nn.Parameter(torch.randn(input_size, hidden_size))\n",
        "    self.b_ii = nn.Parameter(torch.zeros(hidden_size))\n",
        "    self.W_hi = nn.Parameter(torch.randn(hidden_size, hidden_size))\n",
        "    self.b_hi = nn.Parameter(torch.zeros(hidden_size))\n",
        "    \n",
        "    self.W_if = nn.Parameter(torch.randn(input_size, hidden_size))\n",
        "    self.b_if = nn.Parameter(torch.zeros(hidden_size))\n",
        "    self.W_hf = nn.Parameter(torch.randn(hidden_size, hidden_size))\n",
        "    self.b_hf = nn.Parameter(torch.zeros(hidden_size))\n",
        "\n",
        "    self.W_ig = nn.Parameter(torch.randn(input_size, hidden_size))\n",
        "    self.b_ig = nn.Parameter(torch.zeros(hidden_size))\n",
        "    self.W_hg = nn.Parameter(torch.randn(hidden_size, hidden_size))\n",
        "    self.b_hg = nn.Parameter(torch.zeros(hidden_size))\n",
        "\n",
        "    self.W_io = nn.Parameter(torch.randn(input_size, hidden_size))\n",
        "    self.b_io = nn.Parameter(torch.zeros(hidden_size))\n",
        "    self.W_ho = nn.Parameter(torch.randn(hidden_size, hidden_size))\n",
        "    self.b_ho = nn.Parameter(torch.zeros(hidden_size))\n",
        "  \n",
        "    self.tanh = nn.Tanh()\n",
        "    self.sigmoid = nn.Sigmoid()\n",
        "\n",
        "    self.reset_parameters()\n",
        "\n",
        "  def reset_parameters(self):\n",
        "    \"\"\"This is PyTorch's default initialization method\"\"\"\n",
        "    stdv = 1.0 / math.sqrt(self.hidden_size)\n",
        "    for weight in self.parameters():\n",
        "      weight.data.uniform_(-stdv, stdv)  \n",
        "\n",
        "  def forward(self, input_, hx, mask=None):\n",
        "    \"\"\"\n",
        "    input is (batch, input_size)\n",
        "    hx is ((batch, hidden_size), (batch, hidden_size))\n",
        "    \"\"\"\n",
        "    prev_h, prev_c = hx\n",
        "\n",
        "    # project input and prev state\n",
        "    # YOUR CODE HERE\n",
        "    \n",
        "    \n",
        "\n",
        "    # main LSTM computation   \n",
        "    x = input_ \n",
        "\n",
        "    i = self.sigmoid(x @ self.W_ii + self.b_ii + prev_h @ self.W_hi + self.b_hi)\n",
        "    f = self.sigmoid(x @ self.W_if + self.b_if + prev_h @ self.W_hf + self.b_hf)\n",
        "    g = self.tanh(x @ self.W_ig + self.b_ig + prev_h @ self.W_hg + self.b_hg)\n",
        "    o = self.sigmoid(x @ self.W_io + self.b_io + prev_h @ self.W_ho + self.b_ho)\n",
        "\n",
        "    c = f * prev_c + i * g\n",
        "    h = o * self.tanh(c)\n",
        "\n",
        "    return h, c\n",
        "  \n",
        "  def __repr__(self):\n",
        "    return \"{}({:d}, {:d})\".format(\n",
        "        self.__class__.__name__, self.input_size, self.hidden_size)"
      ],
      "execution_count": 0,
      "outputs": []
    },
    {
      "cell_type": "markdown",
      "metadata": {
        "id": "4JM7xPhkQeE5",
        "colab_type": "text"
      },
      "source": [
        "#### Optional: Efficient Matrix Multiplication\n",
        "\n",
        "It is more efficient to do a few big matrix multiplications than to do many smaller ones.\n",
        "\n",
        "It is possible to implement the above cell using just **two** linear layers.\n",
        "\n",
        "This is because the eight linear transformations from one forward pass through an LSTM cell can be done in just two:\n",
        "$$W_h h + b_h$$\n",
        "$$W_i x + b_i $$ \n",
        "\n",
        "with $h = $ `prev_h` and $x = $ `input_`.\n",
        "\n",
        "and where: \n",
        "\n",
        "$W_h =  \\begin{pmatrix}\n",
        "W_{hi}\\\\ \n",
        "W_{hf}\\\\ \n",
        "W_{hg}\\\\ \n",
        "W_{ho}\n",
        "\\end{pmatrix}$, $b_h = \\begin{pmatrix}\n",
        "b_{hi}\\\\ \n",
        "b_{hf}\\\\ \n",
        "b_{hg}\\\\ \n",
        "b_{ho}\n",
        "\\end{pmatrix}$,  $W_i = \\begin{pmatrix}\n",
        "W_{ii}\\\\ \n",
        "W_{if}\\\\ \n",
        "W_{ig}\\\\ \n",
        "W_{io}\n",
        "\\end{pmatrix}$ and $b_i = \\begin{pmatrix}\n",
        "b_{ii}\\\\ \n",
        "b_{if}\\\\ \n",
        "b_{ig}\\\\ \n",
        "b_{io}\n",
        "\\end{pmatrix}$.\n",
        "\n",
        "Convince yourself that, after chunking with [torch.chunk](https://pytorch.org/docs/stable/torch.html?highlight=chunk#torch.chunk), the output of those two linear transformations is equivalent to the output of the eight linear transformations in the LSTM cell calculations above."
      ]
    },
    {
      "cell_type": "markdown",
      "metadata": {
        "id": "X9gA-UcqSBe0",
        "colab_type": "text"
      },
      "source": [
        "#### LSTM Classifier\n",
        "\n",
        "Having an LSTM cell is not enough: we still need some code that calls it repeatedly, and then makes a prediction from the final hidden state. \n",
        "You will find that code below. Make sure that you understand it."
      ]
    },
    {
      "cell_type": "code",
      "metadata": {
        "id": "3iuYZm5poEn5",
        "colab_type": "code",
        "colab": {}
      },
      "source": [
        "class LSTMClassifier(nn.Module):\n",
        "  \"\"\"Encodes sentence with an LSTM and projects final hidden state\"\"\"\n",
        "\n",
        "  def __init__(self, vocab_size, output_dim, vocab, embedding_dim, hidden_dim):\n",
        "    super(LSTMClassifier, self).__init__()\n",
        "    self.vocab = vocab\n",
        "    self.hidden_dim = hidden_dim\n",
        "    self.embed = nn.Embedding(vocab_size, embedding_dim, padding_idx=1)\n",
        "    self.rnn = MyLSTMCell(embedding_dim, hidden_dim)\n",
        "    \n",
        "    self.output_layer = nn.Sequential(     \n",
        "        nn.Dropout(p=0.5),  # explained later\n",
        "        nn.Linear(hidden_dim, output_dim)\n",
        "    )\n",
        "\n",
        "  def forward(self, x):\n",
        "    \n",
        "    B = x.size(0)  # batch size (this is 1 for now, i.e. 1 single example)\n",
        "    T = x.size(1)  # time (the number of words in the sentence)\n",
        "    \n",
        "    input_ = self.embed(x)\n",
        "\n",
        "    # here we create initial hidden states containing zeros\n",
        "    # we use a trick here so that, if input is on the GPU, then so are hx and cx\n",
        "    hx = input_.new_zeros(B, self.rnn.hidden_size)\n",
        "    cx = input_.new_zeros(B, self.rnn.hidden_size)\n",
        "    \n",
        "    # process input sentences one word/timestep at a time\n",
        "    # input is batch-major, so the first word(s) is/are input_[:, 0]\n",
        "    outputs = []   \n",
        "    for i in range(T):\n",
        "      hx, cx = self.rnn(input_[:, i], (hx, cx))\n",
        "      outputs.append(hx)\n",
        "    \n",
        "    # if we have a single example, our final LSTM state is the last hx\n",
        "    if B == 1:\n",
        "      final = hx\n",
        "    else:\n",
        "      #\n",
        "      # This part is explained in next section, ignore this else-block for now.\n",
        "      #\n",
        "      # we processed sentences with different lengths, so some of the sentences\n",
        "      # had already finished and we have been adding padding inputs to hx\n",
        "      # we select the final state based on the length of each sentence\n",
        "      \n",
        "      # two lines below not needed if using LSTM form pytorch\n",
        "      outputs = torch.stack(outputs, dim=0)          # [T, B, D]\n",
        "      outputs = outputs.transpose(0, 1).contiguous()  # [B, T, D]\n",
        "      \n",
        "      # to be super-sure we're not accidentally indexing the wrong state\n",
        "      # we zero out positions that are invalid\n",
        "      pad_positions = (x == 1).unsqueeze(-1)\n",
        "      \n",
        "      outputs = outputs.contiguous()      \n",
        "      outputs = outputs.masked_fill_(pad_positions, 0.)\n",
        "        \n",
        "      mask = (x != 1)  # true for valid positions [B, T]\n",
        "      lengths = mask.sum(dim=1)                  # [B, 1]\n",
        "\n",
        "      indexes = (lengths - 1) + torch.arange(B, device=x.device, dtype=x.dtype) * T\n",
        "      final = outputs.view(-1, self.hidden_dim)[indexes]  # [B, D]\n",
        "    \n",
        "    # we use the last hidden state to classify the sentence\n",
        "    logits = self.output_layer(final)\n",
        "    return logits"
      ],
      "execution_count": 0,
      "outputs": []
    },
    {
      "cell_type": "markdown",
      "metadata": {
        "id": "FxFoVpvMPB6g",
        "colab_type": "text"
      },
      "source": [
        "#### Dropout\n",
        "\n",
        "Besides not being able to learn meaningful word embeddings, there is another negative effect that can follow from data sparsity and a small data set: *overfitting*. This is a phenomenom that is very likely to occur when fitting strong and expressive models, like LSTMs, to small data. In practice, if your model overfits, this means that it will be very good at predicting (or: 'remembering') the sentiment of the training set, but unable to generalize to new, unseen data in the test set. This is undesirable and one technique to mitigate it is *dropout*. \n",
        "\n",
        "A dropout layer is defined by the following formula: $\\mathbf{d} \\in \\{0, 1\\}^n$, with $d_j \\sim \\text{Bernoulli}(p)$, and can be applied to for example a linear layer:\n",
        "\n",
        "$$\\text{tanh}(W(\\mathbf{h}\\odot \\mathbf{d}) + \\mathbf{b})$$\n",
        "\n",
        "\n",
        "These formulas simply mean that we *drop* certain parameters during training (by setting them to zero). Which parameters we drop is stochastically determined by a Bernoulli distribution and the probability of each parameter being dropped is set to $p = 0.5$ in our experiments (see the previous cell of code where we define our output layer). A dropout layer can be applied at many different places in our models. This technique helps against the undesirable effect where our model relies on single parameters for  prediction (e.g. if $h^{\\prime}_j$ is large, always predict positive). If we use dropout, the model needs to learn to rely on different parameters, which is desirable when generalizing to unseen data."
      ]
    },
    {
      "cell_type": "markdown",
      "metadata": {
        "id": "XQjEjLt9z0XW",
        "colab_type": "text"
      },
      "source": [
        "**Let's train our LSTM! ** Note that is will be a lot slower, because we need to do many more computations per sentence!\n",
        "\n",
        "#### Training"
      ]
    },
    {
      "cell_type": "code",
      "metadata": {
        "id": "LgZoSPD4fsf_",
        "colab_type": "code",
        "outputId": "aee06e79-6bb4-40d0-c2b3-23c54ee622ee",
        "colab": {
          "base_uri": "https://localhost:8080/",
          "height": 1000
        }
      },
      "source": [
        "lstm_model = LSTMClassifier(len(v.w2i), len(t2i), v, 300, 168)\n",
        "\n",
        "# copy pre-trained word vectors into embeddings table\n",
        "with torch.no_grad():\n",
        "  lstm_model.embed.weight.data.copy_(torch.from_numpy(vectors))\n",
        "  lstm_model.embed.weight.requires_grad = False\n",
        "\n",
        "print(lstm_model)\n",
        "print_parameters(lstm_model)\n",
        "\n",
        "lstm_model = lstm_model.to(device)\n",
        "optimizer = optim.Adam(lstm_model.parameters(), lr=3e-4)\n",
        "\n",
        "lstm_losses, lstm_accuracies = train_model(\n",
        "    lstm_model, optimizer, num_iterations=15000, \n",
        "    print_every=125, eval_every=125)\n",
        "\n",
        "print(lstm_accuracies)\n",
        "print(lstm_losses)"
      ],
      "execution_count": 85,
      "outputs": [
        {
          "output_type": "stream",
          "text": [
            "LSTMClassifier(\n",
            "  (embed): Embedding(20727, 300, padding_idx=1)\n",
            "  (rnn): MyLSTMCell(300, 168)\n",
            "  (output_layer): Sequential(\n",
            "    (0): Dropout(p=0.5, inplace=False)\n",
            "    (1): Linear(in_features=168, out_features=5, bias=True)\n",
            "  )\n",
            ")\n",
            "embed.weight             [20727, 300] requires_grad=False\n",
            "rnn.W_ii                 [300, 168]   requires_grad=True\n",
            "rnn.b_ii                 [168]        requires_grad=True\n",
            "rnn.W_hi                 [168, 168]   requires_grad=True\n",
            "rnn.b_hi                 [168]        requires_grad=True\n",
            "rnn.W_if                 [300, 168]   requires_grad=True\n",
            "rnn.b_if                 [168]        requires_grad=True\n",
            "rnn.W_hf                 [168, 168]   requires_grad=True\n",
            "rnn.b_hf                 [168]        requires_grad=True\n",
            "rnn.W_ig                 [300, 168]   requires_grad=True\n",
            "rnn.b_ig                 [168]        requires_grad=True\n",
            "rnn.W_hg                 [168, 168]   requires_grad=True\n",
            "rnn.b_hg                 [168]        requires_grad=True\n",
            "rnn.W_io                 [300, 168]   requires_grad=True\n",
            "rnn.b_io                 [168]        requires_grad=True\n",
            "rnn.W_ho                 [168, 168]   requires_grad=True\n",
            "rnn.b_ho                 [168]        requires_grad=True\n",
            "output_layer.1.weight    [5, 168]     requires_grad=True\n",
            "output_layer.1.bias      [5]          requires_grad=True\n",
            "\n",
            "Total parameters: 6534785\n",
            "\n",
            "Shuffling training data\n",
            "Iter 125: loss=198.9444, time=2.20s\n",
            "iter 125: dev acc=0.2679\n",
            "new highscore\n",
            "Iter 250: loss=195.6879, time=7.13s\n",
            "iter 250: dev acc=0.2282\n",
            "Iter 375: loss=197.3475, time=12.00s\n",
            "iter 375: dev acc=0.3234\n",
            "new highscore\n",
            "Iter 500: loss=191.4097, time=16.88s\n",
            "iter 500: dev acc=0.2897\n",
            "Iter 625: loss=182.0589, time=21.79s\n",
            "iter 625: dev acc=0.3353\n",
            "new highscore\n",
            "Iter 750: loss=183.8554, time=26.70s\n",
            "iter 750: dev acc=0.3492\n",
            "new highscore\n",
            "Iter 875: loss=177.7125, time=31.48s\n",
            "iter 875: dev acc=0.3790\n",
            "new highscore\n",
            "Iter 1000: loss=173.5896, time=36.42s\n",
            "iter 1000: dev acc=0.3413\n",
            "Iter 1125: loss=181.4933, time=41.23s\n",
            "iter 1125: dev acc=0.3810\n",
            "new highscore\n",
            "Iter 1250: loss=170.4683, time=46.15s\n",
            "iter 1250: dev acc=0.3710\n",
            "Iter 1375: loss=170.0274, time=51.03s\n",
            "iter 1375: dev acc=0.4008\n",
            "new highscore\n",
            "Iter 1500: loss=179.7050, time=56.00s\n",
            "iter 1500: dev acc=0.3968\n",
            "Iter 1625: loss=167.4767, time=60.91s\n",
            "iter 1625: dev acc=0.4147\n",
            "new highscore\n",
            "Iter 1750: loss=169.9455, time=65.77s\n",
            "iter 1750: dev acc=0.4226\n",
            "new highscore\n",
            "Iter 1875: loss=171.6606, time=70.72s\n",
            "iter 1875: dev acc=0.4187\n",
            "Iter 2000: loss=174.9945, time=75.56s\n",
            "iter 2000: dev acc=0.4067\n",
            "Iter 2125: loss=158.1501, time=80.37s\n",
            "iter 2125: dev acc=0.4008\n",
            "Iter 2250: loss=169.6728, time=85.29s\n",
            "iter 2250: dev acc=0.4127\n",
            "Iter 2375: loss=171.1866, time=90.05s\n",
            "iter 2375: dev acc=0.4286\n",
            "new highscore\n",
            "Iter 2500: loss=162.8360, time=94.90s\n",
            "iter 2500: dev acc=0.4266\n",
            "Iter 2625: loss=173.9932, time=99.67s\n",
            "iter 2625: dev acc=0.3929\n",
            "Iter 2750: loss=174.0724, time=104.37s\n",
            "iter 2750: dev acc=0.4087\n",
            "Iter 2875: loss=162.6812, time=109.26s\n",
            "iter 2875: dev acc=0.4246\n",
            "Iter 3000: loss=172.2916, time=114.02s\n",
            "iter 3000: dev acc=0.4147\n",
            "Iter 3125: loss=159.1871, time=118.87s\n",
            "iter 3125: dev acc=0.4325\n",
            "new highscore\n",
            "Iter 3250: loss=166.5140, time=123.77s\n",
            "iter 3250: dev acc=0.4286\n",
            "Iter 3375: loss=168.5142, time=128.55s\n",
            "iter 3375: dev acc=0.4226\n",
            "Iter 3500: loss=167.1912, time=133.47s\n",
            "iter 3500: dev acc=0.4385\n",
            "new highscore\n",
            "Iter 3625: loss=158.2377, time=138.44s\n",
            "iter 3625: dev acc=0.4226\n",
            "Iter 3750: loss=173.0554, time=143.38s\n",
            "iter 3750: dev acc=0.4187\n",
            "Iter 3875: loss=151.5393, time=148.21s\n",
            "iter 3875: dev acc=0.4365\n",
            "Shuffling training data\n",
            "Iter 4000: loss=157.9746, time=152.94s\n",
            "iter 4000: dev acc=0.4484\n",
            "new highscore\n",
            "Iter 4125: loss=153.1205, time=157.79s\n",
            "iter 4125: dev acc=0.4385\n",
            "Iter 4250: loss=156.5507, time=162.58s\n",
            "iter 4250: dev acc=0.4246\n",
            "Iter 4375: loss=150.9646, time=167.47s\n",
            "iter 4375: dev acc=0.4464\n",
            "Iter 4500: loss=161.3671, time=172.27s\n",
            "iter 4500: dev acc=0.4405\n",
            "Iter 4625: loss=154.3001, time=177.06s\n",
            "iter 4625: dev acc=0.4206\n",
            "Iter 4750: loss=160.5660, time=181.97s\n",
            "iter 4750: dev acc=0.4365\n",
            "Iter 4875: loss=157.6002, time=186.98s\n",
            "iter 4875: dev acc=0.4484\n",
            "Iter 5000: loss=155.0198, time=191.83s\n",
            "iter 5000: dev acc=0.4147\n",
            "Iter 5125: loss=153.3280, time=196.75s\n",
            "iter 5125: dev acc=0.4226\n",
            "Iter 5250: loss=149.8651, time=201.70s\n",
            "iter 5250: dev acc=0.4266\n",
            "Iter 5375: loss=163.3871, time=206.53s\n",
            "iter 5375: dev acc=0.4425\n",
            "Iter 5500: loss=168.1780, time=211.43s\n",
            "iter 5500: dev acc=0.4266\n",
            "Iter 5625: loss=151.8396, time=216.33s\n",
            "iter 5625: dev acc=0.4266\n",
            "Iter 5750: loss=168.2247, time=221.11s\n",
            "iter 5750: dev acc=0.4266\n",
            "Iter 5875: loss=152.0571, time=226.00s\n",
            "iter 5875: dev acc=0.4345\n",
            "Iter 6000: loss=147.6841, time=230.85s\n",
            "iter 6000: dev acc=0.4365\n",
            "Iter 6125: loss=146.6846, time=235.53s\n",
            "iter 6125: dev acc=0.4425\n",
            "Iter 6250: loss=152.7755, time=240.36s\n",
            "iter 6250: dev acc=0.4464\n",
            "Iter 6375: loss=162.7956, time=245.14s\n",
            "iter 6375: dev acc=0.4405\n",
            "Iter 6500: loss=141.1706, time=249.99s\n",
            "iter 6500: dev acc=0.4325\n",
            "Iter 6625: loss=161.8072, time=254.97s\n",
            "iter 6625: dev acc=0.4425\n",
            "Iter 6750: loss=166.6461, time=259.69s\n",
            "iter 6750: dev acc=0.4484\n",
            "Iter 6875: loss=145.8134, time=264.46s\n",
            "iter 6875: dev acc=0.4603\n",
            "new highscore\n",
            "Iter 7000: loss=166.7779, time=269.28s\n",
            "iter 7000: dev acc=0.4087\n",
            "Iter 7125: loss=151.7865, time=274.08s\n",
            "iter 7125: dev acc=0.4444\n",
            "Iter 7250: loss=146.5033, time=278.75s\n",
            "iter 7250: dev acc=0.4583\n",
            "Iter 7375: loss=162.3796, time=283.54s\n",
            "iter 7375: dev acc=0.4524\n",
            "Iter 7500: loss=159.5074, time=288.44s\n",
            "iter 7500: dev acc=0.4663\n",
            "new highscore\n",
            "Iter 7625: loss=158.3529, time=293.31s\n",
            "iter 7625: dev acc=0.4683\n",
            "new highscore\n",
            "Iter 7750: loss=147.9231, time=298.16s\n",
            "iter 7750: dev acc=0.4603\n",
            "Iter 7875: loss=138.7715, time=302.99s\n",
            "iter 7875: dev acc=0.4544\n",
            "Shuffling training data\n",
            "Iter 8000: loss=150.3657, time=307.87s\n",
            "iter 8000: dev acc=0.4702\n",
            "new highscore\n",
            "Iter 8125: loss=151.4895, time=312.70s\n",
            "iter 8125: dev acc=0.4683\n",
            "Iter 8250: loss=133.1648, time=317.75s\n",
            "iter 8250: dev acc=0.4544\n",
            "Iter 8375: loss=138.4918, time=322.57s\n",
            "iter 8375: dev acc=0.4266\n",
            "Iter 8500: loss=147.8050, time=327.43s\n",
            "iter 8500: dev acc=0.4623\n",
            "Iter 8625: loss=159.0853, time=332.18s\n",
            "iter 8625: dev acc=0.4702\n",
            "Iter 8750: loss=144.4579, time=336.99s\n",
            "iter 8750: dev acc=0.4683\n",
            "Iter 8875: loss=135.4315, time=341.85s\n",
            "iter 8875: dev acc=0.4623\n",
            "Iter 9000: loss=137.4550, time=346.62s\n",
            "iter 9000: dev acc=0.4663\n",
            "Iter 9125: loss=155.4117, time=351.46s\n",
            "iter 9125: dev acc=0.4643\n",
            "Iter 9250: loss=146.7265, time=356.23s\n",
            "iter 9250: dev acc=0.4504\n",
            "Iter 9375: loss=136.2357, time=361.15s\n",
            "iter 9375: dev acc=0.4782\n",
            "new highscore\n",
            "Iter 9500: loss=143.7001, time=366.11s\n",
            "iter 9500: dev acc=0.4405\n",
            "Iter 9625: loss=148.9369, time=370.87s\n",
            "iter 9625: dev acc=0.4583\n",
            "Iter 9750: loss=145.2592, time=375.76s\n",
            "iter 9750: dev acc=0.4643\n",
            "Iter 9875: loss=140.6524, time=380.65s\n",
            "iter 9875: dev acc=0.4683\n",
            "Iter 10000: loss=142.5442, time=385.59s\n",
            "iter 10000: dev acc=0.4603\n",
            "Iter 10125: loss=143.9705, time=390.25s\n",
            "iter 10125: dev acc=0.4802\n",
            "new highscore\n",
            "Iter 10250: loss=137.6299, time=395.07s\n",
            "iter 10250: dev acc=0.4286\n",
            "Iter 10375: loss=147.3978, time=399.81s\n",
            "iter 10375: dev acc=0.4583\n",
            "Iter 10500: loss=154.7515, time=404.50s\n",
            "iter 10500: dev acc=0.4623\n",
            "Iter 10625: loss=148.4731, time=409.25s\n",
            "iter 10625: dev acc=0.4524\n",
            "Iter 10750: loss=139.9610, time=414.03s\n",
            "iter 10750: dev acc=0.4544\n",
            "Iter 10875: loss=153.6766, time=418.70s\n",
            "iter 10875: dev acc=0.4623\n",
            "Iter 11000: loss=148.4366, time=423.44s\n",
            "iter 11000: dev acc=0.4821\n",
            "new highscore\n",
            "Iter 11125: loss=138.8146, time=428.28s\n",
            "iter 11125: dev acc=0.4702\n",
            "Iter 11250: loss=128.0339, time=433.06s\n",
            "iter 11250: dev acc=0.4464\n",
            "Iter 11375: loss=149.2427, time=437.85s\n",
            "iter 11375: dev acc=0.4782\n",
            "Iter 11500: loss=129.7182, time=442.77s\n",
            "iter 11500: dev acc=0.4623\n",
            "Iter 11625: loss=149.3277, time=447.50s\n",
            "iter 11625: dev acc=0.4821\n",
            "Iter 11750: loss=161.1107, time=452.31s\n",
            "iter 11750: dev acc=0.4583\n",
            "Iter 11875: loss=145.2431, time=457.26s\n",
            "iter 11875: dev acc=0.4742\n",
            "Shuffling training data\n",
            "Iter 12000: loss=151.7389, time=462.24s\n",
            "iter 12000: dev acc=0.4821\n",
            "Iter 12125: loss=134.3773, time=466.96s\n",
            "iter 12125: dev acc=0.4643\n",
            "Iter 12250: loss=133.1600, time=471.78s\n",
            "iter 12250: dev acc=0.4623\n",
            "Iter 12375: loss=121.2956, time=476.59s\n",
            "iter 12375: dev acc=0.4722\n",
            "Iter 12500: loss=146.2993, time=481.38s\n",
            "iter 12500: dev acc=0.4702\n",
            "Iter 12625: loss=125.7736, time=486.13s\n",
            "iter 12625: dev acc=0.4583\n",
            "Iter 12750: loss=133.1404, time=490.97s\n",
            "iter 12750: dev acc=0.4563\n",
            "Iter 12875: loss=128.8006, time=495.85s\n",
            "iter 12875: dev acc=0.4524\n",
            "Iter 13000: loss=156.9716, time=500.86s\n",
            "iter 13000: dev acc=0.4782\n",
            "Iter 13125: loss=137.9040, time=505.86s\n",
            "iter 13125: dev acc=0.4464\n",
            "Iter 13250: loss=142.2717, time=510.74s\n",
            "iter 13250: dev acc=0.4802\n",
            "Iter 13375: loss=131.6164, time=515.54s\n",
            "iter 13375: dev acc=0.4782\n",
            "Iter 13500: loss=127.6008, time=520.39s\n",
            "iter 13500: dev acc=0.4742\n",
            "Iter 13625: loss=131.4394, time=525.10s\n",
            "iter 13625: dev acc=0.4643\n",
            "Iter 13750: loss=133.6110, time=529.87s\n",
            "iter 13750: dev acc=0.4663\n",
            "Iter 13875: loss=122.0660, time=534.69s\n",
            "iter 13875: dev acc=0.4762\n",
            "Iter 14000: loss=137.4942, time=539.61s\n",
            "iter 14000: dev acc=0.4623\n",
            "Iter 14125: loss=123.3751, time=544.41s\n",
            "iter 14125: dev acc=0.4683\n",
            "Iter 14250: loss=143.3315, time=549.17s\n",
            "iter 14250: dev acc=0.4742\n",
            "Iter 14375: loss=131.9915, time=553.98s\n",
            "iter 14375: dev acc=0.4683\n",
            "Iter 14500: loss=132.8951, time=558.75s\n",
            "iter 14500: dev acc=0.4881\n",
            "new highscore\n",
            "Iter 14625: loss=129.1061, time=563.65s\n",
            "iter 14625: dev acc=0.4623\n",
            "Iter 14750: loss=130.3003, time=568.57s\n",
            "iter 14750: dev acc=0.4901\n",
            "new highscore\n",
            "Iter 14875: loss=127.8319, time=573.47s\n",
            "iter 14875: dev acc=0.4841\n",
            "Iter 15000: loss=123.6294, time=578.28s\n",
            "iter 15000: dev acc=0.4921\n",
            "new highscore\n",
            "Done training\n",
            "Loading best model\n",
            "best model iter 15000: train acc=0.6181, dev acc=0.4921, test acc=0.4855\n",
            "[0.26785714285714285, 0.22817460317460317, 0.32341269841269843, 0.2896825396825397, 0.3353174603174603, 0.3492063492063492, 0.37896825396825395, 0.3412698412698413, 0.38095238095238093, 0.37103174603174605, 0.4007936507936508, 0.3968253968253968, 0.4146825396825397, 0.4226190476190476, 0.41865079365079366, 0.40674603174603174, 0.4007936507936508, 0.4126984126984127, 0.42857142857142855, 0.42658730158730157, 0.39285714285714285, 0.4087301587301587, 0.4246031746031746, 0.4146825396825397, 0.43253968253968256, 0.42857142857142855, 0.4226190476190476, 0.4384920634920635, 0.4226190476190476, 0.41865079365079366, 0.4365079365079365, 0.44841269841269843, 0.4384920634920635, 0.4246031746031746, 0.44642857142857145, 0.44047619047619047, 0.42063492063492064, 0.4365079365079365, 0.44841269841269843, 0.4146825396825397, 0.4226190476190476, 0.42658730158730157, 0.44246031746031744, 0.42658730158730157, 0.42658730158730157, 0.42658730158730157, 0.43452380952380953, 0.4365079365079365, 0.44246031746031744, 0.44642857142857145, 0.44047619047619047, 0.43253968253968256, 0.44246031746031744, 0.44841269841269843, 0.4603174603174603, 0.4087301587301587, 0.4444444444444444, 0.4583333333333333, 0.4523809523809524, 0.4662698412698413, 0.46825396825396826, 0.4603174603174603, 0.45436507936507936, 0.47023809523809523, 0.46825396825396826, 0.45436507936507936, 0.42658730158730157, 0.4623015873015873, 0.47023809523809523, 0.46825396825396826, 0.4623015873015873, 0.4662698412698413, 0.4642857142857143, 0.4503968253968254, 0.4781746031746032, 0.44047619047619047, 0.4583333333333333, 0.4642857142857143, 0.46825396825396826, 0.4603174603174603, 0.4801587301587302, 0.42857142857142855, 0.4583333333333333, 0.4623015873015873, 0.4523809523809524, 0.45436507936507936, 0.4623015873015873, 0.48214285714285715, 0.47023809523809523, 0.44642857142857145, 0.4781746031746032, 0.4623015873015873, 0.48214285714285715, 0.4583333333333333, 0.4742063492063492, 0.48214285714285715, 0.4642857142857143, 0.4623015873015873, 0.4722222222222222, 0.47023809523809523, 0.4583333333333333, 0.45634920634920634, 0.4523809523809524, 0.4781746031746032, 0.44642857142857145, 0.4801587301587302, 0.4781746031746032, 0.4742063492063492, 0.4642857142857143, 0.4662698412698413, 0.47619047619047616, 0.4623015873015873, 0.46825396825396826, 0.4742063492063492, 0.46825396825396826, 0.4880952380952381, 0.4623015873015873, 0.49007936507936506, 0.48412698412698413, 0.49206349206349204]\n",
            "[198.94438791275024, 195.68794870376587, 197.34752082824707, 191.409677028656, 182.0588988661766, 183.85539823770523, 177.7124606370926, 173.5896264910698, 181.49328696727753, 170.46827864646912, 170.02739173173904, 179.70503014326096, 167.47665870189667, 169.9455108642578, 171.66061997413635, 174.99447804689407, 158.15005147457123, 169.67283421754837, 171.18655931949615, 162.83598697185516, 173.9931664466858, 174.072388112545, 162.68118381500244, 172.29161030054092, 159.1870887875557, 166.51404243707657, 168.51417583227158, 167.19121098518372, 158.2377325296402, 173.0553548336029, 151.5392942428589, 157.97459369897842, 153.12047111988068, 156.55074548721313, 150.96463376283646, 161.3670949935913, 154.30014276504517, 160.5659925341606, 157.60024666786194, 155.01984977722168, 153.32796496152878, 149.8650860786438, 163.38707453012466, 168.1780127286911, 151.8395802974701, 168.22467875480652, 152.05706250667572, 147.68408715724945, 146.68463480472565, 152.77548068761826, 162.79561376571655, 141.17064994573593, 161.80718648433685, 166.64606457948685, 145.81340849399567, 166.7779096364975, 151.7864550948143, 146.50331151485443, 162.37956297397614, 159.5073825120926, 158.35294729471207, 147.92311257123947, 138.7715156674385, 150.36569917201996, 151.48947262763977, 133.16479033231735, 138.49184203147888, 147.80502969026566, 159.08528488874435, 144.4579381942749, 135.4314836859703, 137.45499074459076, 155.41171365976334, 146.72649389505386, 136.23570746183395, 143.7001155614853, 148.93693268299103, 145.25916785001755, 140.65237426757812, 142.54422944784164, 143.97052520513535, 137.62986713647842, 147.39779460430145, 154.75153350830078, 148.47306752204895, 139.9610498547554, 153.67663103342056, 148.43662077188492, 138.81463927030563, 128.0338523387909, 149.24269115924835, 129.718235373497, 149.3276794552803, 161.11071264743805, 145.24309992790222, 151.73888528347015, 134.37733685970306, 133.1600170135498, 121.29561936855316, 146.29933369159698, 125.77357643842697, 133.1403510570526, 128.80060231685638, 156.97159790992737, 137.90397197008133, 142.27167063951492, 131.61642694473267, 127.60080635547638, 131.43942719697952, 133.61095535755157, 122.06598442792892, 137.4941856265068, 123.37513196468353, 143.33149325847626, 131.99153804779053, 132.89509099721909, 129.1060620546341, 130.30029094219208, 127.83189624547958, 123.62936449050903]\n"
          ],
          "name": "stdout"
        }
      ]
    },
    {
      "cell_type": "code",
      "metadata": {
        "id": "2BKVnyg0Hq5E",
        "colab_type": "code",
        "outputId": "fe842bef-edb2-44ba-8552-de6af7666eec",
        "colab": {
          "base_uri": "https://localhost:8080/",
          "height": 447
        }
      },
      "source": [
        "# plot validation accuracy\n",
        "plt.plot(lstm_accuracies)"
      ],
      "execution_count": 0,
      "outputs": [
        {
          "output_type": "execute_result",
          "data": {
            "text/plain": [
              "[<matplotlib.lines.Line2D at 0x7fb7ca0e5208>]"
            ]
          },
          "metadata": {
            "tags": []
          },
          "execution_count": 62
        },
        {
          "output_type": "display_data",
          "data": {
            "image/png": "[encoded data removed]",
            "text/plain": [
              "<Figure size 640x480 with 1 Axes>"
            ]
          },
          "metadata": {
            "tags": []
          }
        }
      ]
    },
    {
      "cell_type": "code",
      "metadata": {
        "id": "ZowTV0EBTb3z",
        "colab_type": "code",
        "outputId": "22a91826-6e53-449c-eca2-e803644d1798",
        "colab": {
          "base_uri": "https://localhost:8080/",
          "height": 451
        }
      },
      "source": [
        "# plot training loss\n",
        "plt.plot(lstm_losses)"
      ],
      "execution_count": 0,
      "outputs": [
        {
          "output_type": "execute_result",
          "data": {
            "text/plain": [
              "[<matplotlib.lines.Line2D at 0x7fb7ca0b5e80>]"
            ]
          },
          "metadata": {
            "tags": []
          },
          "execution_count": 63
        },
        {
          "output_type": "display_data",
          "data": {
            "image/png": "[encoded data removed]",
            "text/plain": [
              "<Figure size 640x480 with 1 Axes>"
            ]
          },
          "metadata": {
            "tags": []
          }
        }
      ]
    },
    {
      "cell_type": "markdown",
      "metadata": {
        "id": "YEw6XHQY_AAQ",
        "colab_type": "text"
      },
      "source": [
        "# Mini-batching\n",
        "\n"
      ]
    },
    {
      "cell_type": "markdown",
      "metadata": {
        "id": "FPf96wGzBTQJ",
        "colab_type": "text"
      },
      "source": [
        "**Why is the LSTM so slow?** Despite our best efforts, we still need to make a lot of matrix multiplications per example (linear in the length of the example) just to get a single classification, and we can only process the 2nd word once we have computed the hidden state for the 1st word (sequential computation).\n",
        "\n",
        "GPUs are more efficient if we do a few big matrix multiplications, rather than lots of small ones. If we could process multiple examples at the same time, then we could exploit that. We still process the input sequentially, but now we can do so for multiple sentences at the same time.\n",
        "\n",
        "Up to now our \"minibatch\" consisted of a single example. This was for a reason: the sentences in our data sets have **different lengths**, and this makes it difficult to process them at the same time.\n",
        "\n",
        "Consider a batch of 2 sentences:\n",
        "\n",
        "```\n",
        "this movie is bad\n",
        "this movie is super cool !\n",
        "```\n",
        "\n",
        "Let's say the IDs for these sentences are:\n",
        "\n",
        "```\n",
        "2 3 4 5\n",
        "2 3 4 6 7 8\n",
        "```\n",
        "\n",
        "We cannot feed PyTorch an object with variable length rows! We need to turn this into a matrix.\n",
        "\n",
        "The solution is to add **padding values** to our mini-batch:\n",
        "\n",
        "```\n",
        "2 3 4 5 1 1\n",
        "2 3 4 6 7 8\n",
        "```\n",
        "\n",
        "Whenever a sentence is shorter than the longest sentence in a mini-batch, we just use a padding value (here: 1) to fill the matrix.\n",
        "\n",
        "In our computation, we should **ignore** the padding positions (e.g. mask them out). Paddings should not contribute to the loss.\n",
        "\n",
        "#### Mini-batch feed\n",
        "We will now code a `get_minibatch` function that will replace our `get_example` function, and returns a mini-batch of the requested size."
      ]
    },
    {
      "cell_type": "code",
      "metadata": {
        "id": "IoAE2JBiXJ3P",
        "colab_type": "code",
        "colab": {}
      },
      "source": [
        "def get_minibatch(data, batch_size=25, shuffle=True):\n",
        "  \"\"\"Return minibatches, optional shuffling\"\"\"\n",
        "  \n",
        "  if shuffle:\n",
        "    print(\"Shuffling training data\")\n",
        "    random.shuffle(data)  # shuffle training data each epoch\n",
        "  \n",
        "  batch = []\n",
        "  \n",
        "  # yield minibatches\n",
        "  for example in data:\n",
        "    batch.append(example)\n",
        "    \n",
        "    if len(batch) == batch_size:\n",
        "      yield batch\n",
        "      batch = []\n",
        "      \n",
        "  # in case there is something left\n",
        "  if len(batch) > 0:\n",
        "    yield batch"
      ],
      "execution_count": 0,
      "outputs": []
    },
    {
      "cell_type": "markdown",
      "metadata": {
        "id": "DwZM-XYkT8Zx",
        "colab_type": "text"
      },
      "source": [
        "#### Pad function\n",
        "We will need a function that adds padding 1s to a sequence of IDs so that\n",
        "it becomes as long as the longest sequencen in the minibatch."
      ]
    },
    {
      "cell_type": "code",
      "metadata": {
        "id": "sp0sK1ghw4Ft",
        "colab_type": "code",
        "outputId": "c90c65fb-32ae-4111-bec6-067d7e94ccaf",
        "colab": {
          "base_uri": "https://localhost:8080/",
          "height": 34
        }
      },
      "source": [
        "def pad(tokens, length, pad_value=1):\n",
        "  \"\"\"add padding 1s to a sequence to that it has the desired length\"\"\"\n",
        "  return tokens + [pad_value] * (length - len(tokens))\n",
        "\n",
        "# example\n",
        "tokens = [2, 3, 4]\n",
        "pad(tokens, 5)"
      ],
      "execution_count": 87,
      "outputs": [
        {
          "output_type": "execute_result",
          "data": {
            "text/plain": [
              "[2, 3, 4, 1, 1]"
            ]
          },
          "metadata": {
            "tags": []
          },
          "execution_count": 87
        }
      ]
    },
    {
      "cell_type": "markdown",
      "metadata": {
        "id": "SL2iixMYUgfh",
        "colab_type": "text"
      },
      "source": [
        "#### New prepare function\n",
        "\n",
        "We will also need a new function that turns a mini-batch into PyTorch tensors."
      ]
    },
    {
      "cell_type": "code",
      "metadata": {
        "id": "ZID0cqozWks8",
        "colab_type": "code",
        "colab": {}
      },
      "source": [
        "def prepare_minibatch(mb, vocab):\n",
        "  \"\"\"\n",
        "  Minibatch is a list of examples.\n",
        "  This function converts words to IDs and returns\n",
        "  torch tensors to be used as input/targets.\n",
        "  \"\"\"\n",
        "  batch_size = len(mb)\n",
        "  maxlen = max([len(ex.tokens) for ex in mb])\n",
        "  \n",
        "  # vocab returns 0 if the word is not there\n",
        "  x = [pad([vocab.w2i.get(t, 0) for t in ex.tokens], maxlen) for ex in mb]\n",
        "  \n",
        "  x = torch.LongTensor(x)\n",
        "  x = x.to(device)\n",
        "  \n",
        "  y = [ex.label for ex in mb]\n",
        "  y = torch.LongTensor(y)\n",
        "  y = y.to(device)\n",
        "  \n",
        "  return x, y"
      ],
      "execution_count": 0,
      "outputs": []
    },
    {
      "cell_type": "code",
      "metadata": {
        "id": "OwDAtCv1x2hB",
        "colab_type": "code",
        "outputId": "8aa8f356-d3a6-4d8f-c89d-b03ba1c8e040",
        "colab": {
          "base_uri": "https://localhost:8080/",
          "height": 88
        }
      },
      "source": [
        "# Let's test our new function.\n",
        "# This should give us 3 examples.\n",
        "mb = next(get_minibatch(train_data, batch_size=3, shuffle=False))\n",
        "for ex in mb:\n",
        "  print(ex)"
      ],
      "execution_count": 89,
      "outputs": [
        {
          "output_type": "stream",
          "text": [
            "Example(tokens=['Barry', 'Sonnenfeld', 'owes', 'Frank', 'the', 'Pug', 'big', 'time'], tree=Tree('2', [Tree('2', [Tree('2', ['Barry']), Tree('2', ['Sonnenfeld'])]), Tree('2', [Tree('2', [Tree('2', ['owes']), Tree('2', ['Frank'])]), Tree('3', [Tree('2', ['the']), Tree('2', [Tree('2', ['Pug']), Tree('3', [Tree('2', ['big']), Tree('2', ['time'])])])])])]), label=2, transitions=[0, 0, 1, 0, 0, 1, 0, 0, 0, 0, 1, 1, 1, 1, 1])\n",
            "Example(tokens=['A', 'small', 'gem', 'from', 'Belgium', '.'], tree=Tree('4', [Tree('3', [Tree('2', [Tree('2', ['A']), Tree('3', [Tree('2', ['small']), Tree('3', ['gem'])])]), Tree('2', [Tree('2', ['from']), Tree('2', ['Belgium'])])]), Tree('2', ['.'])]), label=4, transitions=[0, 0, 0, 1, 1, 0, 0, 1, 1, 0, 1])\n",
            "Example(tokens=['Birthday', 'Girl', 'walks', 'a', 'tricky', 'tightrope', 'between', 'being', 'wickedly', 'funny', 'and', 'just', 'plain', 'wicked', '.'], tree=Tree('4', [Tree('2', [Tree('2', ['Birthday']), Tree('2', ['Girl'])]), Tree('3', [Tree('1', [Tree('2', ['walks']), Tree('3', [Tree('2', [Tree('2', ['a']), Tree('2', [Tree('2', ['tricky']), Tree('2', ['tightrope'])])]), Tree('3', [Tree('2', ['between']), Tree('3', [Tree('2', ['being']), Tree('3', [Tree('3', [Tree('4', [Tree('2', ['wickedly']), Tree('3', ['funny'])]), Tree('2', ['and'])]), Tree('2', [Tree('2', ['just']), Tree('2', [Tree('2', ['plain']), Tree('3', ['wicked'])])])])])])])]), Tree('2', ['.'])])]), label=4, transitions=[0, 0, 1, 0, 0, 0, 0, 1, 1, 0, 0, 0, 0, 1, 0, 1, 0, 0, 0, 1, 1, 1, 1, 1, 1, 1, 0, 1, 1])\n"
          ],
          "name": "stdout"
        }
      ]
    },
    {
      "cell_type": "code",
      "metadata": {
        "id": "dg8zEK8zyUCH",
        "colab_type": "code",
        "outputId": "cbc87779-a3ff-4e71-bb40-3ecaeac7cd0a",
        "colab": {
          "base_uri": "https://localhost:8080/",
          "height": 136
        }
      },
      "source": [
        "# We should find 1s at the end where padding is.\n",
        "x, y = prepare_minibatch(mb, v)\n",
        "print(\"x\", x)\n",
        "print(\"y\", y)"
      ],
      "execution_count": 90,
      "outputs": [
        {
          "output_type": "stream",
          "text": [
            "x tensor([[ 4320, 18310,  9498,  2479,     4, 13160,   289,    75,     1,     1,\n",
            "             1,     1,     1,     1,     1],\n",
            "        [   77,   298,  6575,    30,  5808,     3,     1,     1,     1,     1,\n",
            "             1,     1,     1,     1,     1],\n",
            "        [ 2978,  1736,  4154,     8,  6805, 15831,   222,   170, 14888,  1346,\n",
            "             5,    73,  3266,  6791,     3]], device='cuda:0')\n",
            "y tensor([2, 4, 4], device='cuda:0')\n"
          ],
          "name": "stdout"
        }
      ]
    },
    {
      "cell_type": "markdown",
      "metadata": {
        "id": "xYBJEoSNUwI0",
        "colab_type": "text"
      },
      "source": [
        "#### Evaluate (mini-batch version)\n",
        "\n",
        "We can now update our evaluation function to use minibatches"
      ]
    },
    {
      "cell_type": "code",
      "metadata": {
        "id": "eiZZpEghzqou",
        "colab_type": "code",
        "colab": {}
      },
      "source": [
        "def evaluate(model, data, \n",
        "             batch_fn=get_minibatch, prep_fn=prepare_minibatch,\n",
        "             batch_size=16):\n",
        "  \"\"\"Accuracy of a model on given data set (using minibatches)\"\"\"\n",
        "  correct = 0\n",
        "  total = 0\n",
        "  model.eval()  # disable dropout\n",
        "\n",
        "  for mb in batch_fn(data, batch_size=batch_size, shuffle=False):\n",
        "    x, targets = prep_fn(mb, model.vocab)\n",
        "    with torch.no_grad():\n",
        "      logits = model(x)\n",
        "      \n",
        "    predictions = logits.argmax(dim=-1).view(-1)\n",
        "    \n",
        "    # add the number of correct predictions to the total correct\n",
        "    correct += (predictions == targets.view(-1)).sum().item()\n",
        "    total += targets.size(0)\n",
        "\n",
        "  return correct, total, correct / float(total)"
      ],
      "execution_count": 0,
      "outputs": []
    },
    {
      "cell_type": "markdown",
      "metadata": {
        "id": "23wAZomozh_2",
        "colab_type": "text"
      },
      "source": [
        "# LSTM (Mini-batched)"
      ]
    },
    {
      "cell_type": "markdown",
      "metadata": {
        "id": "B-gkPU7jzBe2",
        "colab_type": "text"
      },
      "source": [
        "With this, let's run the LSTM again but now using minibatches!"
      ]
    },
    {
      "cell_type": "code",
      "metadata": {
        "id": "226Xg9OPzFbA",
        "colab_type": "code",
        "outputId": "e3fd2b3a-bd4e-4568-9057-553a25c62732",
        "colab": {
          "base_uri": "https://localhost:8080/",
          "height": 1000
        }
      },
      "source": [
        "lstm_model = LSTMClassifier(\n",
        "    len(v.w2i), len(t2i), v, 300, 168)\n",
        "\n",
        "# copy pre-trained vectors into embeddings table\n",
        "with torch.no_grad():\n",
        "  lstm_model.embed.weight.data.copy_(torch.from_numpy(vectors))\n",
        "  lstm_model.embed.weight.requires_grad = False\n",
        "\n",
        "print(lstm_model)\n",
        "print_parameters(lstm_model)  \n",
        "  \n",
        "lstm_model = lstm_model.to(device)\n",
        "\n",
        "batch_size = 25\n",
        "optimizer = optim.Adam(lstm_model.parameters(), lr=2e-4)\n",
        "\n",
        "lstm_losses, lstm_accuracies = train_model(\n",
        "    lstm_model, optimizer, num_iterations=15000, \n",
        "    print_every=125, eval_every=125,\n",
        "    batch_size=batch_size,\n",
        "    batch_fn=get_minibatch, \n",
        "    prep_fn=prepare_minibatch,\n",
        "    eval_fn=evaluate)\n",
        "\n",
        "print(lstm_accuracies)\n",
        "print(lstm_losses)"
      ],
      "execution_count": 92,
      "outputs": [
        {
          "output_type": "stream",
          "text": [
            "LSTMClassifier(\n",
            "  (embed): Embedding(20727, 300, padding_idx=1)\n",
            "  (rnn): MyLSTMCell(300, 168)\n",
            "  (output_layer): Sequential(\n",
            "    (0): Dropout(p=0.5, inplace=False)\n",
            "    (1): Linear(in_features=168, out_features=5, bias=True)\n",
            "  )\n",
            ")\n",
            "embed.weight             [20727, 300] requires_grad=False\n",
            "rnn.W_ii                 [300, 168]   requires_grad=True\n",
            "rnn.b_ii                 [168]        requires_grad=True\n",
            "rnn.W_hi                 [168, 168]   requires_grad=True\n",
            "rnn.b_hi                 [168]        requires_grad=True\n",
            "rnn.W_if                 [300, 168]   requires_grad=True\n",
            "rnn.b_if                 [168]        requires_grad=True\n",
            "rnn.W_hf                 [168, 168]   requires_grad=True\n",
            "rnn.b_hf                 [168]        requires_grad=True\n",
            "rnn.W_ig                 [300, 168]   requires_grad=True\n",
            "rnn.b_ig                 [168]        requires_grad=True\n",
            "rnn.W_hg                 [168, 168]   requires_grad=True\n",
            "rnn.b_hg                 [168]        requires_grad=True\n",
            "rnn.W_io                 [300, 168]   requires_grad=True\n",
            "rnn.b_io                 [168]        requires_grad=True\n",
            "rnn.W_ho                 [168, 168]   requires_grad=True\n",
            "rnn.b_ho                 [168]        requires_grad=True\n",
            "output_layer.1.weight    [5, 168]     requires_grad=True\n",
            "output_layer.1.bias      [5]          requires_grad=True\n",
            "\n",
            "Total parameters: 6534785\n",
            "\n",
            "Shuffling training data\n",
            "Iter 125: loss=196.6587, time=3.22s\n",
            "iter 125: dev acc=0.3313\n",
            "new highscore\n",
            "Shuffling training data\n",
            "Iter 250: loss=178.2377, time=6.68s\n",
            "iter 250: dev acc=0.4167\n",
            "new highscore\n",
            "Shuffling training data\n",
            "Iter 375: loss=163.0297, time=10.11s\n",
            "iter 375: dev acc=0.4266\n",
            "new highscore\n",
            "Shuffling training data\n",
            "Iter 500: loss=158.7698, time=13.55s\n",
            "iter 500: dev acc=0.4544\n",
            "new highscore\n",
            "Iter 625: loss=154.5531, time=16.99s\n",
            "iter 625: dev acc=0.4405\n",
            "Shuffling training data\n",
            "Iter 750: loss=149.7042, time=20.33s\n",
            "iter 750: dev acc=0.4425\n",
            "Shuffling training data\n",
            "Iter 875: loss=145.2804, time=23.66s\n",
            "iter 875: dev acc=0.4683\n",
            "new highscore\n",
            "Shuffling training data\n",
            "Iter 1000: loss=146.1053, time=27.08s\n",
            "iter 1000: dev acc=0.4385\n",
            "Shuffling training data\n",
            "Iter 1125: loss=142.6343, time=30.41s\n",
            "iter 1125: dev acc=0.4504\n",
            "Iter 1250: loss=140.6049, time=33.77s\n",
            "iter 1250: dev acc=0.4524\n",
            "Shuffling training data\n",
            "Iter 1375: loss=134.6582, time=37.07s\n",
            "iter 1375: dev acc=0.4385\n",
            "Shuffling training data\n",
            "Iter 1500: loss=135.1604, time=40.40s\n",
            "iter 1500: dev acc=0.4663\n",
            "Shuffling training data\n",
            "Iter 1625: loss=131.1045, time=43.76s\n",
            "iter 1625: dev acc=0.4504\n",
            "Shuffling training data\n",
            "Iter 1750: loss=127.5878, time=47.08s\n",
            "iter 1750: dev acc=0.4524\n",
            "Iter 1875: loss=125.5654, time=50.42s\n",
            "iter 1875: dev acc=0.4623\n",
            "Shuffling training data\n",
            "Iter 2000: loss=120.4147, time=53.75s\n",
            "iter 2000: dev acc=0.4444\n",
            "Shuffling training data\n",
            "Iter 2125: loss=117.4045, time=57.14s\n",
            "iter 2125: dev acc=0.4425\n",
            "Shuffling training data\n",
            "Iter 2250: loss=115.5621, time=60.54s\n",
            "iter 2250: dev acc=0.4385\n",
            "Iter 2375: loss=112.3471, time=63.88s\n",
            "iter 2375: dev acc=0.4246\n",
            "Shuffling training data\n",
            "Iter 2500: loss=107.0737, time=67.19s\n",
            "iter 2500: dev acc=0.4206\n",
            "Shuffling training data\n",
            "Iter 2625: loss=103.1210, time=70.53s\n",
            "iter 2625: dev acc=0.4246\n",
            "Shuffling training data\n",
            "Iter 2750: loss=100.8174, time=73.88s\n",
            "iter 2750: dev acc=0.4206\n",
            "Shuffling training data\n",
            "Iter 2875: loss=98.4798, time=77.23s\n",
            "iter 2875: dev acc=0.4345\n",
            "Iter 3000: loss=90.0173, time=80.58s\n",
            "iter 3000: dev acc=0.4206\n",
            "Shuffling training data\n",
            "Iter 3125: loss=87.4619, time=83.91s\n",
            "iter 3125: dev acc=0.4107\n",
            "Shuffling training data\n",
            "Iter 3250: loss=78.9551, time=87.27s\n",
            "iter 3250: dev acc=0.4345\n",
            "Shuffling training data\n",
            "Iter 3375: loss=81.2089, time=90.67s\n",
            "iter 3375: dev acc=0.4067\n",
            "Shuffling training data\n",
            "Iter 3500: loss=74.8735, time=94.02s\n",
            "iter 3500: dev acc=0.4286\n",
            "Iter 3625: loss=66.3447, time=97.31s\n",
            "iter 3625: dev acc=0.4226\n",
            "Shuffling training data\n",
            "Iter 3750: loss=64.0545, time=100.66s\n",
            "iter 3750: dev acc=0.4127\n",
            "Shuffling training data\n",
            "Iter 3875: loss=62.7144, time=103.98s\n",
            "iter 3875: dev acc=0.4087\n",
            "Shuffling training data\n",
            "Iter 4000: loss=57.7056, time=107.29s\n",
            "iter 4000: dev acc=0.4127\n",
            "Iter 4125: loss=55.8089, time=110.63s\n",
            "iter 4125: dev acc=0.4087\n",
            "Shuffling training data\n",
            "Iter 4250: loss=49.5553, time=114.02s\n",
            "iter 4250: dev acc=0.4345\n",
            "Shuffling training data\n",
            "Iter 4375: loss=49.6046, time=117.44s\n",
            "iter 4375: dev acc=0.4325\n",
            "Shuffling training data\n",
            "Iter 4500: loss=46.6178, time=120.87s\n",
            "iter 4500: dev acc=0.4167\n",
            "Shuffling training data\n",
            "Iter 4625: loss=40.6282, time=124.33s\n",
            "iter 4625: dev acc=0.4226\n",
            "Iter 4750: loss=37.0387, time=127.64s\n",
            "iter 4750: dev acc=0.4127\n",
            "Shuffling training data\n",
            "Iter 4875: loss=41.5622, time=130.99s\n",
            "iter 4875: dev acc=0.4167\n",
            "Shuffling training data\n",
            "Iter 5000: loss=32.0470, time=134.32s\n",
            "iter 5000: dev acc=0.4107\n",
            "Shuffling training data\n",
            "Iter 5125: loss=36.7685, time=137.60s\n",
            "iter 5125: dev acc=0.4147\n",
            "Shuffling training data\n",
            "Iter 5250: loss=29.4536, time=141.02s\n",
            "iter 5250: dev acc=0.4226\n",
            "Iter 5375: loss=29.1481, time=144.37s\n",
            "iter 5375: dev acc=0.4048\n",
            "Shuffling training data\n",
            "Iter 5500: loss=28.8154, time=147.69s\n",
            "iter 5500: dev acc=0.4226\n",
            "Shuffling training data\n",
            "Iter 5625: loss=25.0781, time=151.00s\n",
            "iter 5625: dev acc=0.4266\n",
            "Shuffling training data\n",
            "Iter 5750: loss=26.8086, time=154.35s\n",
            "iter 5750: dev acc=0.4167\n",
            "Iter 5875: loss=29.2197, time=157.63s\n",
            "iter 5875: dev acc=0.4345\n",
            "Shuffling training data\n",
            "Iter 6000: loss=22.6320, time=160.95s\n",
            "iter 6000: dev acc=0.4246\n",
            "Shuffling training data\n",
            "Iter 6125: loss=18.1675, time=164.30s\n",
            "iter 6125: dev acc=0.4325\n",
            "Shuffling training data\n",
            "Iter 6250: loss=21.9671, time=167.60s\n",
            "iter 6250: dev acc=0.4187\n",
            "Shuffling training data\n",
            "Iter 6375: loss=20.9930, time=170.96s\n",
            "iter 6375: dev acc=0.4187\n",
            "Iter 6500: loss=18.0353, time=174.28s\n",
            "iter 6500: dev acc=0.4484\n",
            "Shuffling training data\n",
            "Iter 6625: loss=22.5597, time=177.55s\n",
            "iter 6625: dev acc=0.4127\n",
            "Shuffling training data\n",
            "Iter 6750: loss=21.6891, time=180.81s\n",
            "iter 6750: dev acc=0.4206\n",
            "Shuffling training data\n",
            "Iter 6875: loss=15.3721, time=184.14s\n",
            "iter 6875: dev acc=0.4206\n",
            "Shuffling training data\n",
            "Iter 7000: loss=13.2805, time=187.37s\n",
            "iter 7000: dev acc=0.4306\n",
            "Iter 7125: loss=11.6344, time=190.61s\n",
            "iter 7125: dev acc=0.4266\n",
            "Shuffling training data\n",
            "Iter 7250: loss=13.1782, time=193.83s\n",
            "iter 7250: dev acc=0.4206\n",
            "Shuffling training data\n",
            "Iter 7375: loss=24.6011, time=197.09s\n",
            "iter 7375: dev acc=0.4246\n",
            "Shuffling training data\n",
            "Iter 7500: loss=13.9166, time=200.31s\n",
            "iter 7500: dev acc=0.4048\n",
            "Iter 7625: loss=11.8009, time=203.48s\n",
            "iter 7625: dev acc=0.4167\n",
            "Shuffling training data\n",
            "Iter 7750: loss=15.0966, time=206.70s\n",
            "iter 7750: dev acc=0.4206\n",
            "Shuffling training data\n",
            "Iter 7875: loss=13.5896, time=209.99s\n",
            "iter 7875: dev acc=0.4345\n",
            "Shuffling training data\n",
            "Iter 8000: loss=18.8116, time=213.26s\n",
            "iter 8000: dev acc=0.4286\n",
            "Shuffling training data\n",
            "Iter 8125: loss=13.3518, time=216.52s\n",
            "iter 8125: dev acc=0.4028\n",
            "Iter 8250: loss=10.4173, time=219.74s\n",
            "iter 8250: dev acc=0.4226\n",
            "Shuffling training data\n",
            "Iter 8375: loss=8.4805, time=222.95s\n",
            "iter 8375: dev acc=0.4226\n",
            "Shuffling training data\n",
            "Iter 8500: loss=7.2243, time=226.32s\n",
            "iter 8500: dev acc=0.4286\n",
            "Shuffling training data\n",
            "Iter 8625: loss=6.3870, time=229.57s\n",
            "iter 8625: dev acc=0.4147\n",
            "Shuffling training data\n",
            "Iter 8750: loss=11.4797, time=232.83s\n",
            "iter 8750: dev acc=0.3869\n",
            "Iter 8875: loss=16.1367, time=236.07s\n",
            "iter 8875: dev acc=0.4167\n",
            "Shuffling training data\n",
            "Iter 9000: loss=14.0883, time=239.36s\n",
            "iter 9000: dev acc=0.4345\n",
            "Shuffling training data\n",
            "Iter 9125: loss=9.0914, time=242.67s\n",
            "iter 9125: dev acc=0.4246\n",
            "Shuffling training data\n",
            "Iter 9250: loss=6.4621, time=246.04s\n",
            "iter 9250: dev acc=0.4266\n",
            "Iter 9375: loss=5.5475, time=249.43s\n",
            "iter 9375: dev acc=0.4345\n",
            "Shuffling training data\n",
            "Iter 9500: loss=5.4214, time=252.85s\n",
            "iter 9500: dev acc=0.4246\n",
            "Shuffling training data\n",
            "Iter 9625: loss=6.9968, time=256.17s\n",
            "iter 9625: dev acc=0.4325\n",
            "Shuffling training data\n",
            "Iter 9750: loss=16.9057, time=259.44s\n",
            "iter 9750: dev acc=0.4405\n",
            "Shuffling training data\n",
            "Iter 9875: loss=19.7954, time=262.70s\n",
            "iter 9875: dev acc=0.4345\n",
            "Iter 10000: loss=7.4249, time=265.98s\n",
            "iter 10000: dev acc=0.4345\n",
            "Shuffling training data\n",
            "Iter 10125: loss=5.7950, time=269.32s\n",
            "iter 10125: dev acc=0.4226\n",
            "Shuffling training data\n",
            "Iter 10250: loss=4.4021, time=272.57s\n",
            "iter 10250: dev acc=0.4167\n",
            "Shuffling training data\n",
            "Iter 10375: loss=4.2984, time=275.89s\n",
            "iter 10375: dev acc=0.4107\n",
            "Shuffling training data\n",
            "Iter 10500: loss=4.0644, time=279.14s\n",
            "iter 10500: dev acc=0.4266\n",
            "Iter 10625: loss=3.2400, time=282.40s\n",
            "iter 10625: dev acc=0.4286\n",
            "Shuffling training data\n",
            "Iter 10750: loss=4.5666, time=285.68s\n",
            "iter 10750: dev acc=0.4405\n",
            "Shuffling training data\n",
            "Iter 10875: loss=12.5971, time=288.98s\n",
            "iter 10875: dev acc=0.4127\n",
            "Shuffling training data\n",
            "Iter 11000: loss=13.8617, time=292.27s\n",
            "iter 11000: dev acc=0.4008\n",
            "Iter 11125: loss=7.0510, time=295.51s\n",
            "iter 11125: dev acc=0.4246\n",
            "Shuffling training data\n",
            "Iter 11250: loss=6.0647, time=298.73s\n",
            "iter 11250: dev acc=0.4266\n",
            "Shuffling training data\n",
            "Iter 11375: loss=3.2268, time=301.97s\n",
            "iter 11375: dev acc=0.4286\n",
            "Shuffling training data\n",
            "Iter 11500: loss=3.3791, time=305.29s\n",
            "iter 11500: dev acc=0.4246\n",
            "Shuffling training data\n",
            "Iter 11625: loss=2.8627, time=308.61s\n",
            "iter 11625: dev acc=0.4226\n",
            "Iter 11750: loss=2.6169, time=311.89s\n",
            "iter 11750: dev acc=0.4286\n",
            "Shuffling training data\n",
            "Iter 11875: loss=6.2141, time=315.15s\n",
            "iter 11875: dev acc=0.4048\n",
            "Shuffling training data\n",
            "Iter 12000: loss=20.6206, time=318.39s\n",
            "iter 12000: dev acc=0.4266\n",
            "Shuffling training data\n",
            "Iter 12125: loss=9.2222, time=321.67s\n",
            "iter 12125: dev acc=0.4226\n",
            "Shuffling training data\n",
            "Iter 12250: loss=7.5758, time=324.89s\n",
            "iter 12250: dev acc=0.4345\n",
            "Iter 12375: loss=3.5858, time=328.20s\n",
            "iter 12375: dev acc=0.4405\n",
            "Shuffling training data\n",
            "Iter 12500: loss=2.4871, time=331.48s\n",
            "iter 12500: dev acc=0.4365\n",
            "Shuffling training data\n",
            "Iter 12625: loss=2.3708, time=334.77s\n",
            "iter 12625: dev acc=0.4385\n",
            "Shuffling training data\n",
            "Iter 12750: loss=2.5462, time=338.01s\n",
            "iter 12750: dev acc=0.4286\n",
            "Iter 12875: loss=2.1422, time=341.26s\n",
            "iter 12875: dev acc=0.4325\n",
            "Shuffling training data\n",
            "Iter 13000: loss=2.1220, time=344.48s\n",
            "iter 13000: dev acc=0.4266\n",
            "Shuffling training data\n",
            "Iter 13125: loss=1.8462, time=347.70s\n",
            "iter 13125: dev acc=0.4226\n",
            "Shuffling training data\n",
            "Iter 13250: loss=1.8561, time=350.93s\n",
            "iter 13250: dev acc=0.4187\n",
            "Shuffling training data\n",
            "Iter 13375: loss=1.5903, time=354.18s\n",
            "iter 13375: dev acc=0.4167\n",
            "Iter 13500: loss=1.7452, time=357.38s\n",
            "iter 13500: dev acc=0.4345\n",
            "Shuffling training data\n",
            "Iter 13625: loss=1.6197, time=360.59s\n",
            "iter 13625: dev acc=0.4246\n",
            "Shuffling training data\n",
            "Iter 13750: loss=1.4758, time=363.87s\n",
            "iter 13750: dev acc=0.4187\n",
            "Shuffling training data\n",
            "Iter 13875: loss=13.1504, time=367.27s\n",
            "iter 13875: dev acc=0.3849\n",
            "Shuffling training data\n",
            "Iter 14000: loss=23.9576, time=370.62s\n",
            "iter 14000: dev acc=0.4187\n",
            "Iter 14125: loss=4.7314, time=373.96s\n",
            "iter 14125: dev acc=0.4226\n",
            "Shuffling training data\n",
            "Iter 14250: loss=2.8319, time=377.28s\n",
            "iter 14250: dev acc=0.4266\n",
            "Shuffling training data\n",
            "Iter 14375: loss=2.3679, time=380.77s\n",
            "iter 14375: dev acc=0.4306\n",
            "Shuffling training data\n",
            "Iter 14500: loss=1.8742, time=384.04s\n",
            "iter 14500: dev acc=0.4127\n",
            "Iter 14625: loss=1.7597, time=387.29s\n",
            "iter 14625: dev acc=0.4067\n",
            "Shuffling training data\n",
            "Iter 14750: loss=2.1724, time=390.64s\n",
            "iter 14750: dev acc=0.4167\n",
            "Shuffling training data\n",
            "Iter 14875: loss=2.4583, time=394.07s\n",
            "iter 14875: dev acc=0.4067\n",
            "Shuffling training data\n",
            "Iter 15000: loss=8.6084, time=397.40s\n",
            "iter 15000: dev acc=0.4286\n",
            "Done training\n",
            "Loading best model\n",
            "best model iter 875: train acc=0.5268, dev acc=0.4683, test acc=0.4925\n",
            "[0.33134920634920634, 0.4166666666666667, 0.42658730158730157, 0.45436507936507936, 0.44047619047619047, 0.44246031746031744, 0.46825396825396826, 0.4384920634920635, 0.4503968253968254, 0.4523809523809524, 0.4384920634920635, 0.4662698412698413, 0.4503968253968254, 0.4523809523809524, 0.4623015873015873, 0.4444444444444444, 0.44246031746031744, 0.4384920634920635, 0.4246031746031746, 0.42063492063492064, 0.4246031746031746, 0.42063492063492064, 0.43452380952380953, 0.42063492063492064, 0.4107142857142857, 0.43452380952380953, 0.40674603174603174, 0.42857142857142855, 0.4226190476190476, 0.4126984126984127, 0.4087301587301587, 0.4126984126984127, 0.4087301587301587, 0.43452380952380953, 0.43253968253968256, 0.4166666666666667, 0.4226190476190476, 0.4126984126984127, 0.4166666666666667, 0.4107142857142857, 0.4146825396825397, 0.4226190476190476, 0.40476190476190477, 0.4226190476190476, 0.42658730158730157, 0.4166666666666667, 0.43452380952380953, 0.4246031746031746, 0.43253968253968256, 0.41865079365079366, 0.41865079365079366, 0.44841269841269843, 0.4126984126984127, 0.42063492063492064, 0.42063492063492064, 0.4305555555555556, 0.42658730158730157, 0.42063492063492064, 0.4246031746031746, 0.40476190476190477, 0.4166666666666667, 0.42063492063492064, 0.43452380952380953, 0.42857142857142855, 0.4027777777777778, 0.4226190476190476, 0.4226190476190476, 0.42857142857142855, 0.4146825396825397, 0.3869047619047619, 0.4166666666666667, 0.43452380952380953, 0.4246031746031746, 0.42658730158730157, 0.43452380952380953, 0.4246031746031746, 0.43253968253968256, 0.44047619047619047, 0.43452380952380953, 0.43452380952380953, 0.4226190476190476, 0.4166666666666667, 0.4107142857142857, 0.42658730158730157, 0.42857142857142855, 0.44047619047619047, 0.4126984126984127, 0.4007936507936508, 0.4246031746031746, 0.42658730158730157, 0.42857142857142855, 0.4246031746031746, 0.4226190476190476, 0.42857142857142855, 0.40476190476190477, 0.42658730158730157, 0.4226190476190476, 0.43452380952380953, 0.44047619047619047, 0.4365079365079365, 0.4384920634920635, 0.42857142857142855, 0.43253968253968256, 0.42658730158730157, 0.4226190476190476, 0.41865079365079366, 0.4166666666666667, 0.43452380952380953, 0.4246031746031746, 0.41865079365079366, 0.38492063492063494, 0.41865079365079366, 0.4226190476190476, 0.42658730158730157, 0.4305555555555556, 0.4126984126984127, 0.40674603174603174, 0.4166666666666667, 0.40674603174603174, 0.42857142857142855]\n",
            "[196.65868830680847, 178.2376799583435, 163.0296926498413, 158.76976835727692, 154.55310940742493, 149.70421427488327, 145.2804098725319, 146.10529989004135, 142.63431107997894, 140.6049104332924, 134.65821570158005, 135.16035348176956, 131.10447245836258, 127.58777099847794, 125.56540232896805, 120.41474652290344, 117.40449744462967, 115.56206911802292, 112.34713166952133, 107.07373744249344, 103.12098291516304, 100.81739494204521, 98.47976967692375, 90.01725286245346, 87.46189677715302, 78.95506238937378, 81.20885071158409, 74.87349250912666, 66.34465137124062, 64.05449987947941, 62.71436743438244, 57.70555503666401, 55.808899983763695, 49.55530834197998, 49.604601591825485, 46.61776930838823, 40.628225311636925, 37.03865948319435, 41.56220944225788, 32.046951949596405, 36.76850549131632, 29.453550577163696, 29.148067761212587, 28.815448213368654, 25.078129589557648, 26.808572720736265, 29.219718880951405, 22.63204470835626, 18.16751816123724, 21.967105858027935, 20.99300454556942, 18.035346426069736, 22.55966268107295, 21.689067766070366, 15.372094838880002, 13.280505263945088, 11.63444277830422, 13.17819295078516, 24.601077809929848, 13.916599963791668, 11.800924388691783, 15.09657509997487, 13.589561928063631, 18.811620597727597, 13.351843478158116, 10.417269386351109, 8.48054080735892, 7.224315183702856, 6.386970668565482, 11.479654906317592, 16.13666538055986, 14.088346734642982, 9.091441167518497, 6.462141000200063, 5.547483010683209, 5.421422542538494, 6.996751637663692, 16.905656721442938, 19.795379234477878, 7.424876023083925, 5.795022174715996, 4.4020731300115585, 4.298428919049911, 4.064405251992866, 3.239950460498221, 4.566589457099326, 12.597064822679386, 13.861743984743953, 7.051024878863245, 6.064698681700975, 3.2267558921594173, 3.3791449673008174, 2.8627229996491224, 2.6168944821693003, 6.214065746404231, 20.620605586096644, 9.222212594933808, 7.575816254131496, 3.585763064213097, 2.487107383320108, 2.3707992814015597, 2.546228732797317, 2.1421792479231954, 2.1219520430313423, 1.8461870141909458, 1.8560987692617346, 1.5903005450963974, 1.7452262212173082, 1.6197062189748976, 1.4757752330624498, 13.150354858109495, 23.957589281722903, 4.7313709473237395, 2.831875025643967, 2.3678999036783352, 1.8741925150388852, 1.7596595475333743, 2.1724388961447403, 2.4582769100670703, 8.60836442722939]\n"
          ],
          "name": "stdout"
        }
      ]
    },
    {
      "cell_type": "code",
      "metadata": {
        "id": "ymj1rLDMvyhp",
        "colab_type": "code",
        "outputId": "eb47a2cd-59c6-498a-f4a1-15c08072d7d1",
        "colab": {
          "base_uri": "https://localhost:8080/",
          "height": 447
        }
      },
      "source": [
        "# plot validation accuracy\n",
        "plt.plot(lstm_accuracies)"
      ],
      "execution_count": 0,
      "outputs": [
        {
          "output_type": "execute_result",
          "data": {
            "text/plain": [
              "[<matplotlib.lines.Line2D at 0x7fb7c064c710>]"
            ]
          },
          "metadata": {
            "tags": []
          },
          "execution_count": 71
        },
        {
          "output_type": "display_data",
          "data": {
            "image/png": "[encoded data removed]",
            "text/plain": [
              "<Figure size 640x480 with 1 Axes>"
            ]
          },
          "metadata": {
            "tags": []
          }
        }
      ]
    },
    {
      "cell_type": "code",
      "metadata": {
        "id": "1je5S1RHVC5R",
        "colab_type": "code",
        "outputId": "f843db37-33a8-4637-85b3-b23f9ebaf9bf",
        "colab": {
          "base_uri": "https://localhost:8080/",
          "height": 447
        }
      },
      "source": [
        "# plot training loss\n",
        "plt.plot(lstm_losses)"
      ],
      "execution_count": 0,
      "outputs": [
        {
          "output_type": "execute_result",
          "data": {
            "text/plain": [
              "[<matplotlib.lines.Line2D at 0x7fb7c06288d0>]"
            ]
          },
          "metadata": {
            "tags": []
          },
          "execution_count": 72
        },
        {
          "output_type": "display_data",
          "data": {
            "image/png": "[encoded data removed]",
            "text/plain": [
              "<Figure size 640x480 with 1 Axes>"
            ]
          },
          "metadata": {
            "tags": []
          }
        }
      ]
    },
    {
      "cell_type": "markdown",
      "metadata": {
        "id": "q7WjcxXntMi5",
        "colab_type": "text"
      },
      "source": [
        "# Tree LSTM"
      ]
    },
    {
      "cell_type": "markdown",
      "metadata": {
        "id": "jyj_UD6GtO5M",
        "colab_type": "text"
      },
      "source": [
        "In the final part of this lab we will exploit the tree-structure of our data. \n",
        "Until now we only used the surface tokens, but remember that our data examples include trees with a sentiment score at every node.\n",
        "\n",
        "In particular, we will implement **N-ary Tree-LSTMs** which are described in:\n",
        "\n",
        "> Kai Sheng Tai, Richard Socher, and Christopher D. Manning. [Improved Semantic Representations From Tree-Structured Long Short-Term Memory Networks](http://aclweb.org/anthology/P/P15/P15-1150.pdf) ACL 2015.\n",
        "\n",
        "Since our trees are binary, N=2, and we can refer to these as *Binary Tree-LSTMs*.\n",
        "\n",
        "You should read this paper carefully and make sure that you understand the approach. You will also find our LSTM baseline there.\n",
        "Note however that Tree LSTMs were also invented around the same time by two other groups:\n",
        "\n",
        "> Phong Le and Willem Zuidema. [Compositional distributional semantics with long short term memory](http://anthology.aclweb.org/S/S15/S15-1002.pdf). *SEM 2015.\n",
        "\n",
        "> Xiaodan Zhu, Parinaz Sobihani,  and Hongyu Guo. [Long short-term memory over recursive structures](http://proceedings.mlr.press/v37/zhub15.pdf). ICML 2015.\n",
        "\n",
        "It is good scientific practice to cite all three papers in your report.\n",
        "\n",
        "If you study equations (9) to (14) in the paper, you will find that they are not all too different from the original LSTM that you already have.\n",
        "\n",
        "\n"
      ]
    },
    {
      "cell_type": "markdown",
      "metadata": {
        "id": "1rDzvSos3JFp",
        "colab_type": "text"
      },
      "source": [
        "## Computation\n",
        "\n",
        "Do you remember the `transitions_from_treestring` function all the way in the beginning of this lab? Every example contains a **transition sequence** made by this function. Let's look at it again:\n",
        "\n"
      ]
    },
    {
      "cell_type": "code",
      "metadata": {
        "id": "5pg0Xumc3ZUS",
        "colab_type": "code",
        "outputId": "e90e84b2-1d87-400a-b60a-b2418a324dd6",
        "colab": {
          "base_uri": "https://localhost:8080/",
          "height": 425
        }
      },
      "source": [
        "ex = next(examplereader(\"trees/dev.txt\"))\n",
        "print(TreePrettyPrinter(ex.tree))\n",
        "print(\"Transitions:\")\n",
        "print(ex.transitions)"
      ],
      "execution_count": 93,
      "outputs": [
        {
          "output_type": "stream",
          "text": [
            "              3                                                                     \n",
            "  ____________|____________________                                                  \n",
            " |                                 4                                                \n",
            " |        _________________________|______________________________________________   \n",
            " |       4                                                                        | \n",
            " |    ___|______________                                                          |  \n",
            " |   |                  4                                                         | \n",
            " |   |         _________|__________                                               |  \n",
            " |   |        |                    3                                              | \n",
            " |   |        |               _____|______________________                        |  \n",
            " |   |        |              |                            4                       | \n",
            " |   |        |              |            ________________|_______                |  \n",
            " |   |        |              |           |                        2               | \n",
            " |   |        |              |           |                 _______|___            |  \n",
            " |   |        3              |           |                |           2           | \n",
            " |   |    ____|_____         |           |                |        ___|_____      |  \n",
            " |   |   |          4        |           3                |       2         |     | \n",
            " |   |   |     _____|___     |      _____|_______         |    ___|___      |     |  \n",
            " 2   2   2    3         2    2     3             2        2   2       2     2     2 \n",
            " |   |   |    |         |    |     |             |        |   |       |     |     |  \n",
            " It  's  a  lovely     film with lovely     performances  by Buy     and Accorsi  . \n",
            "\n",
            "Transitions:\n",
            "[0, 0, 0, 0, 0, 1, 1, 0, 0, 0, 1, 0, 0, 0, 1, 0, 1, 1, 1, 1, 1, 1, 0, 1, 1]\n"
          ],
          "name": "stdout"
        }
      ]
    },
    {
      "cell_type": "markdown",
      "metadata": {
        "id": "ceBFe9fU4BI_",
        "colab_type": "text"
      },
      "source": [
        "Note that the tree is **binary**. Every node has two children, except for pre-terminal nodes.\n",
        "\n",
        "A tree like this can be described by a sequence of **SHIFT (0)** and **REDUCE (1)** actions.\n",
        "\n",
        "We can use the transitions like this to construct the tree:\n",
        "- **reverse** the sentence (a list of tokens) and call this the **buffer**\n",
        "   - the first word is now on top (last in the list), and we would get it when calling pop() on the buffer\n",
        "- create an empty list and call it the **stack**\n",
        "- iterate through the transition sequence:\n",
        "  - if it says SHIFT(0), we pop a word from the buffer, and push it to the stack\n",
        "  - if it says REDUCE(1), we pop the **top two items** from the stack, and combine them (e.g. with a tree LSTM!), creating a new node that we push back on the stack\n",
        "  \n",
        "Convince yourself that going through the transition sequence above will result in the tree that you see.\n",
        "For example, we would start by putting the following words on the stack (by shifting 5 times, starting with `It`):\n",
        "\n",
        "```\n",
        "Top of the stack:\n",
        "-----------------\n",
        "film\n",
        "lovely\n",
        "a \n",
        "'s  \n",
        "It\n",
        "```\n",
        "Now we find a REDUCE in the transition sequence, so we get the top two words (film and lovely), and combine them, so our new stack becomes:\n",
        "```\n",
        "Top of the stack:\n",
        "-----------------\n",
        "lovely film\n",
        "a \n",
        "'s  \n",
        "It\n",
        "```\n",
        "\n",
        "We will use this approach when encoding sentences with our Tree LSTM.\n",
        "Now, our sentence is a (reversed) list of word embeddings.\n",
        "When we shift, we move a word embedding to the stack.\n",
        "When we reduce, we apply a Tree LSTM to the top two vectors, and the result is a single vector that we put back on the stack.\n",
        "After going through the whole transition sequence, we will have the root node on our stack! We can use that to classify the sentence.\n",
        "\n"
      ]
    },
    {
      "cell_type": "markdown",
      "metadata": {
        "id": "pDWKShm1AfmR",
        "colab_type": "text"
      },
      "source": [
        "## Obtaining the transition sequence\n"
      ]
    },
    {
      "cell_type": "markdown",
      "metadata": {
        "id": "fO7VKWVpAbWj",
        "colab_type": "text"
      },
      "source": [
        "\n",
        "So what goes on in the `transitions_from_treestring` function?\n",
        "\n",
        "The idea ([explained in this blog post](https://devblogs.nvidia.com/recursive-neural-networks-pytorch/)) is that, if we had a tree, we could traverse through the tree, and every time that we find a node containing only a word, we output a SHIFT.\n",
        "Every time **after** we have finished visiting the children of a node, we output a REDUCE.\n",
        "(What is this tree traversal called?)\n",
        "\n",
        "However, our `transitions_from_treestring` function operates directly on the string representation. It works as follows.\n",
        "\n",
        "We start with the representation:\n",
        "\n",
        "```\n",
        "(3 (2 It) (4 (4 (2 's) (4 (3 (2 a) (4 (3 lovely) (2 film))) (3 (2 with) (4 (3 (3 lovely) (2 performances)) (2 (2 by) (2 (2 (2 Buy) (2 and)) (2 Accorsi))))))) (2 .)))\n",
        "```\n",
        "\n",
        "First we remove pre-terminal nodes (and add spaces before closing brackets):\n",
        "\n",
        "```\n",
        "(3 It (4 (4 's (4 (3 a (4 lovely film ) ) (3 with (4 (3 lovely performances ) (2 by (2 (2 Buy and )  Accorsi ) ) ) ) ) ) . ) )\n",
        "```\n",
        "\n",
        "Then we remove node labels:\n",
        "\n",
        "```\n",
        "( It ( ( 's ( ( a ( lovely film ) ) ( with ( ( lovely performances) ( by ( ( Buy and )  Accorsi ) ) ) ) ) ) . ) )\n",
        "```\n",
        "\n",
        "Then we remove opening brackets:\n",
        "\n",
        "```\n",
        "It 's a lovely film ) ) with lovely performances ) by Buy and ) Accorsi ) ) ) ) ) ) . ) )\n",
        "```\n",
        "\n",
        "Now we replace words by S (for SHIFT), and closing brackets by R (for REDUCE):\n",
        "\n",
        "```\n",
        "S S S S S R R S S S R S S S R S R R R R R R S R R\n",
        "0 0 0 0 0 1 1 0 0 0 1 0 0 0 1 0 1 1 1 1 1 1 0 1 1 \n",
        "```\n",
        "\n",
        "Et voila. We just obtained the transition sequence!"
      ]
    },
    {
      "cell_type": "code",
      "metadata": {
        "id": "1y069gM4_v64",
        "colab_type": "code",
        "outputId": "bf61de3e-2e59-423f-d98a-dfa56accd9e3",
        "colab": {
          "base_uri": "https://localhost:8080/",
          "height": 51
        }
      },
      "source": [
        "# for comparison\n",
        "seq = ex.transitions\n",
        "s = \" \".join([\"S\" if t == 0 else \"R\" for t in seq])\n",
        "print(s)\n",
        "print(\" \".join(map(str, seq)))"
      ],
      "execution_count": 94,
      "outputs": [
        {
          "output_type": "stream",
          "text": [
            "S S S S S R R S S S R S S S R S R R R R R R S R R\n",
            "0 0 0 0 0 1 1 0 0 0 1 0 0 0 1 0 1 1 1 1 1 1 0 1 1\n"
          ],
          "name": "stdout"
        }
      ]
    },
    {
      "cell_type": "markdown",
      "metadata": {
        "id": "d-qOuKbDAiBn",
        "colab_type": "text"
      },
      "source": [
        "## Coding the Tree LSTM\n",
        "\n",
        "The code below contains a Binary Tree LSTM cell.\n",
        "It is used in the TreeLSTM class below it, which in turn is used in the TreeLSTMClassifier.\n",
        "The job of the TreeLSTM class is to encode a complete sentence and return the root node.\n",
        "The job of the TreeLSTMCell is to return a new state when provided with two children (a reduce action). By repeatedly calling the TreeLSTMCell, the TreeLSTM will encode a sentence. This can be done for multiple sentences at the same time.\n",
        "\n",
        "\n",
        "#### Exercise \n",
        "Check the `forward` function and complete the Tree LSTM formulas.\n",
        "You can see that we defined a large linear layer for you, that projects the *concatenation* of the left and right child into the input gate, left forget gate, right forget gate, candidate, and output gate."
      ]
    },
    {
      "cell_type": "code",
      "metadata": {
        "id": "J9b9mjMlN7Pb",
        "colab_type": "code",
        "colab": {}
      },
      "source": [
        "class TreeLSTMCell(nn.Module):\n",
        "  \"\"\"A Binary Tree LSTM cell\"\"\"\n",
        "\n",
        "  def __init__(self, input_size, hidden_size, bias=True):\n",
        "    \"\"\"Creates the weights for this LSTM\"\"\"\n",
        "    super(TreeLSTMCell, self).__init__()\n",
        "\n",
        "    self.input_size = input_size\n",
        "    self.hidden_size = hidden_size\n",
        "    self.bias = bias\n",
        "\n",
        "    self.reduce_layer = nn.Linear(2 * hidden_size, 5 * hidden_size)\n",
        "    self.dropout_layer = nn.Dropout(p=0.25)\n",
        "\n",
        "    self.reset_parameters()\n",
        "\n",
        "  def reset_parameters(self):\n",
        "    \"\"\"This is PyTorch's default initialization method\"\"\"\n",
        "    stdv = 1.0 / math.sqrt(self.hidden_size)\n",
        "    for weight in self.parameters():\n",
        "      weight.data.uniform_(-stdv, stdv)  \n",
        "\n",
        "  def forward(self, hx_l, hx_r, mask=None):\n",
        "    \"\"\"\n",
        "    hx_l is ((batch, hidden_size), (batch, hidden_size))\n",
        "    hx_r is ((batch, hidden_size), (batch, hidden_size))    \n",
        "    \"\"\"\n",
        "    prev_h_l, prev_c_l = hx_l  # left child\n",
        "    prev_h_r, prev_c_r = hx_r  # right child\n",
        "\n",
        "    B = prev_h_l.size(0)\n",
        "\n",
        "    # we concatenate the left and right children\n",
        "    # you can also project from them separately and then sum\n",
        "    children = torch.cat([prev_h_l, prev_h_r], dim=1)\n",
        "    \n",
        "    # project the combined children into a 5D tensor for i,fl,fr,g,o\n",
        "    # this is done for speed, and you could also do it separately\n",
        "    proj = self.reduce_layer(children)  # shape: B x 5D\n",
        "\n",
        "    # each shape: B x D\n",
        "    i, f_l, f_r, g, o = torch.chunk(proj, 5, dim=-1)\n",
        "\n",
        "    # main Tree LSTM computation\n",
        "    \n",
        "    # YOUR CODE HERE\n",
        "    # You only need to complete the commented lines below.\n",
        "\n",
        "    # The shape of each of these is [batch_size, hidden_size]\n",
        "\n",
        "    i = i.sigmoid()\n",
        "    f_l = f_l.sigmoid()    \n",
        "    f_r = f_r.sigmoid()\n",
        "    g = g.tanh()\n",
        "    o = o.sigmoid()\n",
        "\n",
        "    c = f_l * prev_c_l + f_r * prev_c_r +  i * g \n",
        "    h = o * c.tanh()\n",
        "    \n",
        "    return h, c\n",
        "  \n",
        "  def __repr__(self):\n",
        "    return \"{}({:d}, {:d})\".format(\n",
        "        self.__class__.__name__, self.input_size, self.hidden_size)"
      ],
      "execution_count": 0,
      "outputs": []
    },
    {
      "cell_type": "markdown",
      "metadata": {
        "id": "Dj5dYSGh_643",
        "colab_type": "text"
      },
      "source": [
        "## Explanation of the TreeLSTM class\n",
        "\n",
        "\n",
        "The code below contains the TreeLSTM class, which implements everything we need in order to encode a sentence from word embeddings. The calculations are the same as in the paper, implemented such that the class `TreeLSTMCell` above is as general as possible and only takes two children to reduce them into a parent. \n",
        "\n",
        "\n",
        "**Initialize $\\mathbf{h}$ and $\\mathbf{c}$ outside of the cell for the leaves**\n",
        "\n",
        "At the leaves of each tree the children nodes are **empty**, whereas in higher levels the nodes are binary tree nodes that *do* have a left and right child (but no input $x$). By initializing the leaf nodes outside of the cell class (`TreeLSTMCell`), we avoid if-else statements in the forward pass.\n",
        "\n",
        "The `TreeLSTM` class (among other things) pre-calculates an initial $h$ and $c$ for every word in the sentence. Since the initial left and right child are 0, the only calculations we need to do are based on $x$, and we can drop the forget gate calculation (`prev_c_l` and `prev_c_r` are zero). The calculations we do in order to initalize $h$ and $c$ are then:\n",
        "\n",
        "$$\n",
        "c_1 =  W^{(u)}x_1 \\\\\n",
        "o_1 = \\sigma (W^{(i)}x_1) \\\\\n",
        "h_1 = o_1 \\odot \\text{tanh}(c_1)$$\n",
        "*NB: note that these equations are chosen as initializations of $c$ and $h$, other initializations are possible and might work equally well.*\n",
        "\n",
        "**Sentence Representations**\n",
        "\n",
        "All our leaf nodes are now initialized, so we can start processing the sentence in its tree form. Each sentence is represented by a buffer (initially a list with a concatenation of $[h_1, c_1]$ for every word in the reversed sentence), a stack (initially an empty list) and a transition sequence. To encode our sentence, we construct the tree from its transition sequence as explained earlier. \n",
        "\n",
        "*A short example that constructs a tree:*\n",
        "\n",
        "We loop over the time dimension of the batched transition sequences (i.e. row by row), which contain values of 0's, 1's and 2's (representing SHIFT, REDUCE and padding respectively). If we have a batch of size 2 where the first example has a transition sequence given by [0, 0, 1, 0, 0, 0, 1] and the second by [0, 0, 1, 0, 0, 1], our transition batch will be given by the following two-dimensional numpy array:\n",
        "\n",
        "$$\n",
        "\\text{transitions} = \n",
        "\\begin{pmatrix}\n",
        "0 & 0\\\\ \n",
        "0 & 0\\\\ \n",
        "1 & 1\\\\ \n",
        "0 & 0\\\\ \n",
        "0 & 0\\\\ \n",
        "0 & 1\\\\ \n",
        "1 & 2\n",
        "\\end{pmatrix}\n",
        "$$\n",
        "The inner loop (`for transition, buffer, stack in zip(t_batch, buffers, stacks)`) goes over each example in the batch and updates its buffer and stack. The nested loop for this example will then do roughy the following:\n",
        "\n",
        "```\n",
        "Time = 0:  t_batch = [0, 0], the inner loop performs 2 SHIFTs. \n",
        "\n",
        "Time = 1:  t_batch = [0, 0], \"..\"\n",
        "\n",
        "Time = 2:  t_batch = [1, 1], causing the inner loop to fill the list child_l and child_r for both examples in the batch. Now the statement if child_l will return True, triggering a REDUCE action to be performed by our Tree LSTM cell with a batch size of 2. \n",
        "\n",
        "Time = 3:  t_batch = [0, 0], \"..\".\n",
        "\n",
        "Time = 4:  t_batch = [0, 0], \"..\"\n",
        "\n",
        "Time = 5:  t_batch = [0, 1], one SHIFT will be done and another REDUCE action will be performed by our Tree LSTM, this time of batch size 1.  \n",
        "\n",
        "Time = 6:  t_batch = [1, 2], triggering another REDUCE action with batch size 1.\n",
        "```\n",
        "*NB: note that this was an artificial example for the purpose of demonstrating parts of the code, the transition sequences do not necessarily represent actual trees.*\n",
        "\n",
        "**Batching and Unbatching**\n",
        "\n",
        "Within the body of the outer loop over time, we use the functions for batching and unbatching. \n",
        "\n",
        "*Batching*\n",
        "\n",
        "Before passing two lists of children to the reduce layer (an instance of `TreeLSTMCell`), we batch the children as they are at this point a list of tensors of variable length based on how many REDUCE actions there are to perform at a certain time step across the batch (let's call the length `L`). To do an efficient forward pass we want to transform the list to a pair of tensors of shape `([L, D], [L, D])`, which the function `batch` achieves. \n",
        "\n",
        "*Unbatching*\n",
        "\n",
        "In the same line where we batched the children, we unbatch the output of the forward pass to become a list of states of length `L` again. We do this because we need to loop over each example's transition at the current time step and push the children that are reduced into a parent to the stack.\n",
        "\n",
        "*The batch and unbatch functions let us switch between the \"PyTorch world\" (Tensors) and the Python world (easy to manipulate lists).*\n"
      ]
    },
    {
      "cell_type": "code",
      "metadata": {
        "id": "5PixvTd4AqsQ",
        "colab_type": "code",
        "colab": {}
      },
      "source": [
        "# Helper functions for batching and unbatching states\n",
        "# For speed we want to combine computations by batching, but \n",
        "# for processing logic we want to turn the output into lists again\n",
        "# to easily manipulate.\n",
        "\n",
        "def batch(states):\n",
        "  \"\"\"\n",
        "  Turns a list of states into a single tensor for fast processing. \n",
        "  This function also chunks (splits) each state into a (h, c) pair\"\"\"\n",
        "  return torch.cat(states, 0).chunk(2, 1)\n",
        "\n",
        "def unbatch(state):\n",
        "  \"\"\"\n",
        "  Turns a tensor back into a list of states.\n",
        "  First, (h, c) are merged into a single state.\n",
        "  Then the result is split into a list of sentences.\n",
        "  \"\"\"\n",
        "  return torch.split(torch.cat(state, 1), 1, 0)"
      ],
      "execution_count": 0,
      "outputs": []
    },
    {
      "cell_type": "markdown",
      "metadata": {
        "id": "CynltDasaLPt",
        "colab_type": "text"
      },
      "source": [
        "Take some time to understand the class below, having read the explanation above."
      ]
    },
    {
      "cell_type": "code",
      "metadata": {
        "id": "rQOqMXG4gX5G",
        "colab_type": "code",
        "colab": {}
      },
      "source": [
        "class TreeLSTM(nn.Module):\n",
        "  \"\"\"Encodes a sentence using a TreeLSTMCell\"\"\"\n",
        "\n",
        "  def __init__(self, input_size, hidden_size, bias=True):\n",
        "    \"\"\"Creates the weights for this LSTM\"\"\"\n",
        "    super(TreeLSTM, self).__init__()\n",
        "\n",
        "    self.input_size = input_size\n",
        "    self.hidden_size = hidden_size\n",
        "    self.bias = bias\n",
        "    self.reduce = TreeLSTMCell(input_size, hidden_size)\n",
        "\n",
        "    # project word to initial c\n",
        "    self.proj_x = nn.Linear(input_size, hidden_size)\n",
        "    self.proj_x_gate = nn.Linear(input_size, hidden_size)\n",
        "    \n",
        "    self.buffers_dropout = nn.Dropout(p=0.5)\n",
        "\n",
        "  def forward(self, x, transitions):\n",
        "    \"\"\"\n",
        "    WARNING: assuming x is reversed!\n",
        "    :param x: word embeddings [B, T, E]\n",
        "    :param transitions: [2T-1, B]\n",
        "    :return: root states\n",
        "    \"\"\"\n",
        "\n",
        "    B = x.size(0)  # batch size\n",
        "    T = x.size(1)  # time\n",
        "\n",
        "    # compute an initial c and h for each word\n",
        "    # Note: this corresponds to input x in the Tai et al. Tree LSTM paper.\n",
        "    # We do not handle input x in the TreeLSTMCell itself.\n",
        "    buffers_c = self.proj_x(x)\n",
        "    buffers_h = buffers_c.tanh()\n",
        "    buffers_h_gate = self.proj_x_gate(x).sigmoid()\n",
        "    buffers_h = buffers_h_gate * buffers_h\n",
        "    \n",
        "    # concatenate h and c for each word\n",
        "    buffers = torch.cat([buffers_h, buffers_c], dim=-1)\n",
        "\n",
        "    D = buffers.size(-1) // 2\n",
        "\n",
        "    # we turn buffers into a list of stacks (1 stack for each sentence)\n",
        "    # first we split buffers so that it is a list of sentences (length B)\n",
        "    # then we split each sentence to be a list of word vectors\n",
        "    buffers = buffers.split(1, dim=0)  # Bx[T, 2D]\n",
        "    buffers = [list(b.squeeze(0).split(1, dim=0)) for b in buffers]  # BxTx[2D]\n",
        "\n",
        "    # create B empty stacks\n",
        "    stacks = [[] for _ in buffers]\n",
        "\n",
        "    # t_batch holds 1 transition for each sentence\n",
        "    for t_batch in transitions:\n",
        "\n",
        "      child_l = []  # contains the left child for each sentence with reduce action\n",
        "      child_r = []  # contains the corresponding right child\n",
        "\n",
        "      # iterate over sentences in the batch\n",
        "      # each has a transition t, a buffer and a stack\n",
        "      for transition, buffer, stack in zip(t_batch, buffers, stacks):\n",
        "        if transition == SHIFT:\n",
        "          stack.append(buffer.pop())\n",
        "        elif transition == REDUCE:\n",
        "          assert len(stack) >= 2, \\\n",
        "            \"Stack too small! Should not happen with valid transition sequences\"\n",
        "          child_r.append(stack.pop())  # right child is on top\n",
        "          child_l.append(stack.pop())\n",
        "\n",
        "      # if there are sentences with reduce transition, perform them batched\n",
        "      if child_l:\n",
        "        reduced = iter(unbatch(self.reduce(batch(child_l), batch(child_r))))\n",
        "        for transition, stack in zip(t_batch, stacks):\n",
        "          if transition == REDUCE:\n",
        "            stack.append(next(reduced))\n",
        "\n",
        "    final = [stack.pop().chunk(2, -1)[0] for stack in stacks]\n",
        "    final = torch.cat(final, dim=0)  # tensor [B, D]\n",
        "\n",
        "    return final"
      ],
      "execution_count": 0,
      "outputs": []
    },
    {
      "cell_type": "markdown",
      "metadata": {
        "id": "s4EzbVzqaXkw",
        "colab_type": "text"
      },
      "source": [
        "Just like the LSTM before, we will need an extra class that does the classifications."
      ]
    },
    {
      "cell_type": "code",
      "metadata": {
        "id": "nLxpYRvtQKge",
        "colab_type": "code",
        "colab": {}
      },
      "source": [
        "class TreeLSTMClassifier(nn.Module):\n",
        "  \"\"\"Encodes sentence with a TreeLSTM and projects final hidden state\"\"\"\n",
        "\n",
        "  def __init__(self, vocab_size, embedding_dim, hidden_dim, output_dim, vocab):\n",
        "    super(TreeLSTMClassifier, self).__init__()\n",
        "    self.vocab = vocab\n",
        "    self.hidden_dim = hidden_dim\n",
        "    self.embed = nn.Embedding(vocab_size, embedding_dim, padding_idx=1)\n",
        "    self.treelstm = TreeLSTM(embedding_dim, hidden_dim)\n",
        "    self.output_layer = nn.Sequential(     \n",
        "        nn.Dropout(p=0.5),\n",
        "        nn.Linear(hidden_dim, output_dim, bias=True)\n",
        "    )\n",
        "\n",
        "  def forward(self, x):\n",
        "    \n",
        "    # x is a pair here of words and transitions; we unpack it here.\n",
        "    # x is batch-major: [B, T], transitions is time major [2T-1, B]\n",
        "    x, transitions = x\n",
        "    emb = self.embed(x)\n",
        "    \n",
        "    # we use the root/top state of the Tree LSTM to classify the sentence\n",
        "    root_states = self.treelstm(emb, transitions)\n",
        "\n",
        "    # we use the last hidden state to classify the sentence\n",
        "    logits = self.output_layer(root_states)\n",
        "    return logits"
      ],
      "execution_count": 0,
      "outputs": []
    },
    {
      "cell_type": "markdown",
      "metadata": {
        "id": "gh9RbhGwaiLg",
        "colab_type": "text"
      },
      "source": [
        "## Special prepare function for Tree LSTM\n",
        "\n",
        "We need yet another prepare function. For our implementation our sentences to be *reversed*. We will do that here."
      ]
    },
    {
      "cell_type": "code",
      "metadata": {
        "id": "DiqH-_2xdm9H",
        "colab_type": "code",
        "colab": {}
      },
      "source": [
        "def prepare_treelstm_minibatch(mb, vocab):\n",
        "  \"\"\"\n",
        "  Returns sentences reversed (last word first)\n",
        "  Returns transitions together with the sentences.  \n",
        "  \"\"\"\n",
        "  batch_size = len(mb)\n",
        "  maxlen = max([len(ex.tokens) for ex in mb])\n",
        "    \n",
        "  # vocab returns 0 if the word is not there\n",
        "  # NOTE: reversed sequence!\n",
        "  x = [pad([vocab.w2i.get(t, 0) for t in ex.tokens], maxlen)[::-1] for ex in mb]\n",
        "  \n",
        "  x = torch.LongTensor(x)\n",
        "  x = x.to(device)\n",
        "  \n",
        "  y = [ex.label for ex in mb]\n",
        "  y = torch.LongTensor(y)\n",
        "  y = y.to(device)\n",
        "  \n",
        "  maxlen_t = max([len(ex.transitions) for ex in mb])\n",
        "  transitions = [pad(ex.transitions, maxlen_t, pad_value=2) for ex in mb]\n",
        "  transitions = np.array(transitions)\n",
        "  transitions = transitions.T  # time-major\n",
        "  \n",
        "  return (x, transitions), y"
      ],
      "execution_count": 0,
      "outputs": []
    },
    {
      "cell_type": "markdown",
      "metadata": {
        "id": "IMUsrlL9ayVe",
        "colab_type": "text"
      },
      "source": [
        "## Training"
      ]
    },
    {
      "cell_type": "code",
      "metadata": {
        "id": "IpOYUdg2D3v0",
        "colab_type": "code",
        "outputId": "af797f8a-1cd1-474e-d863-6e39a426e76f",
        "colab": {
          "base_uri": "https://localhost:8080/",
          "height": 1000
        }
      },
      "source": [
        "# Now let's train the Tree LSTM!\n",
        "\n",
        "tree_model = TreeLSTMClassifier(\n",
        "    len(v.w2i), 300, 150, len(t2i), v)\n",
        "\n",
        "with torch.no_grad():\n",
        "  tree_model.embed.weight.data.copy_(torch.from_numpy(vectors))\n",
        "  tree_model.embed.weight.requires_grad = False\n",
        "  \n",
        "def do_train(model):\n",
        "  \n",
        "  print(model)\n",
        "  print_parameters(model)\n",
        "\n",
        "  model = model.to(device)\n",
        "\n",
        "  optimizer = optim.Adam(model.parameters(), lr=2e-4)\n",
        "  \n",
        "  return train_model(\n",
        "      model, optimizer, num_iterations=15000, \n",
        "      print_every=125, eval_every=125,\n",
        "      prep_fn=prepare_treelstm_minibatch,\n",
        "      eval_fn=evaluate,\n",
        "      batch_fn=get_minibatch,\n",
        "      batch_size=25, eval_batch_size=25)\n",
        "  \n",
        "results = do_train(tree_model)\n",
        "loss, acc = results\n",
        "\n",
        "print(acc)\n",
        "print(loss)"
      ],
      "execution_count": 101,
      "outputs": [
        {
          "output_type": "stream",
          "text": [
            "TreeLSTMClassifier(\n",
            "  (embed): Embedding(20727, 300, padding_idx=1)\n",
            "  (treelstm): TreeLSTM(\n",
            "    (reduce): TreeLSTMCell(300, 150)\n",
            "    (proj_x): Linear(in_features=300, out_features=150, bias=True)\n",
            "    (proj_x_gate): Linear(in_features=300, out_features=150, bias=True)\n",
            "    (buffers_dropout): Dropout(p=0.5, inplace=False)\n",
            "  )\n",
            "  (output_layer): Sequential(\n",
            "    (0): Dropout(p=0.5, inplace=False)\n",
            "    (1): Linear(in_features=150, out_features=5, bias=True)\n",
            "  )\n",
            ")\n",
            "embed.weight             [20727, 300] requires_grad=False\n",
            "treelstm.reduce.reduce_layer.weight [750, 300]   requires_grad=True\n",
            "treelstm.reduce.reduce_layer.bias [750]        requires_grad=True\n",
            "treelstm.proj_x.weight   [150, 300]   requires_grad=True\n",
            "treelstm.proj_x.bias     [150]        requires_grad=True\n",
            "treelstm.proj_x_gate.weight [150, 300]   requires_grad=True\n",
            "treelstm.proj_x_gate.bias [150]        requires_grad=True\n",
            "output_layer.1.weight    [5, 150]     requires_grad=True\n",
            "output_layer.1.bias      [5]          requires_grad=True\n",
            "\n",
            "Total parameters: 6534905\n",
            "\n",
            "Shuffling training data\n",
            "Iter 125: loss=196.5018, time=4.19s\n",
            "iter 125: dev acc=0.2956\n",
            "new highscore\n",
            "Shuffling training data\n",
            "Iter 250: loss=182.9432, time=8.67s\n",
            "iter 250: dev acc=0.4266\n",
            "new highscore\n",
            "Shuffling training data\n",
            "Iter 375: loss=163.1782, time=13.15s\n",
            "iter 375: dev acc=0.4048\n",
            "Shuffling training data\n",
            "Iter 500: loss=157.7547, time=17.64s\n",
            "iter 500: dev acc=0.4226\n",
            "Iter 625: loss=153.1704, time=22.06s\n",
            "iter 625: dev acc=0.4425\n",
            "new highscore\n",
            "Shuffling training data\n",
            "Iter 750: loss=151.1752, time=26.63s\n",
            "iter 750: dev acc=0.4425\n",
            "Shuffling training data\n",
            "Iter 875: loss=146.4963, time=31.12s\n",
            "iter 875: dev acc=0.4563\n",
            "new highscore\n",
            "Shuffling training data\n",
            "Iter 1000: loss=145.1205, time=35.65s\n",
            "iter 1000: dev acc=0.4583\n",
            "new highscore\n",
            "Shuffling training data\n",
            "Iter 1125: loss=142.9943, time=40.27s\n",
            "iter 1125: dev acc=0.4603\n",
            "new highscore\n",
            "Iter 1250: loss=138.8376, time=44.83s\n",
            "iter 1250: dev acc=0.4425\n",
            "Shuffling training data\n",
            "Iter 1375: loss=135.0683, time=49.28s\n",
            "iter 1375: dev acc=0.4504\n",
            "Shuffling training data\n",
            "Iter 1500: loss=136.4355, time=53.76s\n",
            "iter 1500: dev acc=0.4425\n",
            "Shuffling training data\n",
            "Iter 1625: loss=134.7957, time=58.24s\n",
            "iter 1625: dev acc=0.4405\n",
            "Shuffling training data\n",
            "Iter 1750: loss=129.4118, time=62.67s\n",
            "iter 1750: dev acc=0.4464\n",
            "Iter 1875: loss=127.0368, time=67.11s\n",
            "iter 1875: dev acc=0.4266\n",
            "Shuffling training data\n",
            "Iter 2000: loss=125.7123, time=71.53s\n",
            "iter 2000: dev acc=0.4563\n",
            "Shuffling training data\n",
            "Iter 2125: loss=120.6164, time=76.01s\n",
            "iter 2125: dev acc=0.4246\n",
            "Shuffling training data\n",
            "Iter 2250: loss=123.5333, time=80.41s\n",
            "iter 2250: dev acc=0.4444\n",
            "Iter 2375: loss=118.7372, time=84.82s\n",
            "iter 2375: dev acc=0.4504\n",
            "Shuffling training data\n",
            "Iter 2500: loss=115.7734, time=89.34s\n",
            "iter 2500: dev acc=0.4345\n",
            "Shuffling training data\n",
            "Iter 2625: loss=109.7160, time=93.79s\n",
            "iter 2625: dev acc=0.4702\n",
            "new highscore\n",
            "Shuffling training data\n",
            "Iter 2750: loss=110.1738, time=98.28s\n",
            "iter 2750: dev acc=0.4544\n",
            "Shuffling training data\n",
            "Iter 2875: loss=106.8179, time=102.75s\n",
            "iter 2875: dev acc=0.4286\n",
            "Iter 3000: loss=102.3504, time=107.19s\n",
            "iter 3000: dev acc=0.4544\n",
            "Shuffling training data\n",
            "Iter 3125: loss=101.8242, time=111.61s\n",
            "iter 3125: dev acc=0.4206\n",
            "Shuffling training data\n",
            "Iter 3250: loss=97.5506, time=116.07s\n",
            "iter 3250: dev acc=0.4365\n",
            "Shuffling training data\n",
            "Iter 3375: loss=94.7417, time=120.57s\n",
            "iter 3375: dev acc=0.4444\n",
            "Shuffling training data\n",
            "Iter 3500: loss=94.1792, time=125.04s\n",
            "iter 3500: dev acc=0.4504\n",
            "Iter 3625: loss=88.7186, time=129.47s\n",
            "iter 3625: dev acc=0.4464\n",
            "Shuffling training data\n",
            "Iter 3750: loss=82.7457, time=133.89s\n",
            "iter 3750: dev acc=0.4544\n",
            "Shuffling training data\n",
            "Iter 3875: loss=82.0253, time=138.33s\n",
            "iter 3875: dev acc=0.4246\n",
            "Shuffling training data\n",
            "Iter 4000: loss=77.3307, time=142.73s\n",
            "iter 4000: dev acc=0.4246\n",
            "Iter 4125: loss=77.0280, time=147.17s\n",
            "iter 4125: dev acc=0.4048\n",
            "Shuffling training data\n",
            "Iter 4250: loss=72.4135, time=151.72s\n",
            "iter 4250: dev acc=0.4187\n",
            "Shuffling training data\n",
            "Iter 4375: loss=69.4569, time=156.19s\n",
            "iter 4375: dev acc=0.4266\n",
            "Shuffling training data\n",
            "Iter 4500: loss=68.3008, time=160.65s\n",
            "iter 4500: dev acc=0.4187\n",
            "Shuffling training data\n",
            "Iter 4625: loss=64.1212, time=165.08s\n",
            "iter 4625: dev acc=0.4087\n",
            "Iter 4750: loss=59.9156, time=169.49s\n",
            "iter 4750: dev acc=0.4048\n",
            "Shuffling training data\n",
            "Iter 4875: loss=54.8985, time=173.94s\n",
            "iter 4875: dev acc=0.4286\n",
            "Shuffling training data\n",
            "Iter 5000: loss=55.8640, time=178.37s\n",
            "iter 5000: dev acc=0.4067\n",
            "Shuffling training data\n",
            "Iter 5125: loss=51.6571, time=182.96s\n",
            "iter 5125: dev acc=0.4028\n",
            "Shuffling training data\n",
            "Iter 5250: loss=48.6288, time=187.52s\n",
            "iter 5250: dev acc=0.4147\n",
            "Iter 5375: loss=42.8070, time=192.12s\n",
            "iter 5375: dev acc=0.4246\n",
            "Shuffling training data\n",
            "Iter 5500: loss=44.3587, time=196.92s\n",
            "iter 5500: dev acc=0.4306\n",
            "Shuffling training data\n",
            "Iter 5625: loss=40.3107, time=201.46s\n",
            "iter 5625: dev acc=0.4087\n",
            "Shuffling training data\n",
            "Iter 5750: loss=36.8473, time=206.03s\n",
            "iter 5750: dev acc=0.4206\n",
            "Iter 5875: loss=35.5268, time=210.83s\n",
            "iter 5875: dev acc=0.4067\n",
            "Shuffling training data\n",
            "Iter 6000: loss=33.1592, time=215.48s\n",
            "iter 6000: dev acc=0.4306\n",
            "Shuffling training data\n",
            "Iter 6125: loss=34.5771, time=220.04s\n",
            "iter 6125: dev acc=0.4167\n",
            "Shuffling training data\n",
            "Iter 6250: loss=31.3475, time=224.45s\n",
            "iter 6250: dev acc=0.4008\n",
            "Shuffling training data\n",
            "Iter 6375: loss=29.7288, time=228.86s\n",
            "iter 6375: dev acc=0.4067\n",
            "Iter 6500: loss=27.9030, time=233.31s\n",
            "iter 6500: dev acc=0.4226\n",
            "Shuffling training data\n",
            "Iter 6625: loss=24.2990, time=237.71s\n",
            "iter 6625: dev acc=0.4306\n",
            "Shuffling training data\n",
            "Iter 6750: loss=23.1342, time=242.14s\n",
            "iter 6750: dev acc=0.3968\n",
            "Shuffling training data\n",
            "Iter 6875: loss=25.0871, time=246.58s\n",
            "iter 6875: dev acc=0.4107\n",
            "Shuffling training data\n",
            "Iter 7000: loss=23.0825, time=250.98s\n",
            "iter 7000: dev acc=0.4048\n",
            "Iter 7125: loss=19.7105, time=255.41s\n",
            "iter 7125: dev acc=0.4008\n",
            "Shuffling training data\n",
            "Iter 7250: loss=18.4177, time=259.81s\n",
            "iter 7250: dev acc=0.4048\n",
            "Shuffling training data\n",
            "Iter 7375: loss=19.6108, time=264.22s\n",
            "iter 7375: dev acc=0.4187\n",
            "Shuffling training data\n",
            "Iter 7500: loss=16.2418, time=268.61s\n",
            "iter 7500: dev acc=0.3988\n",
            "Iter 7625: loss=14.2422, time=273.03s\n",
            "iter 7625: dev acc=0.3909\n",
            "Shuffling training data\n",
            "Iter 7750: loss=16.7253, time=277.47s\n",
            "iter 7750: dev acc=0.4226\n",
            "Shuffling training data\n",
            "Iter 7875: loss=18.2089, time=282.00s\n",
            "iter 7875: dev acc=0.4067\n",
            "Shuffling training data\n",
            "Iter 8000: loss=16.7933, time=286.45s\n",
            "iter 8000: dev acc=0.4107\n",
            "Shuffling training data\n",
            "Iter 8125: loss=14.9195, time=290.86s\n",
            "iter 8125: dev acc=0.4246\n",
            "Iter 8250: loss=11.4074, time=295.26s\n",
            "iter 8250: dev acc=0.3869\n",
            "Shuffling training data\n",
            "Iter 8375: loss=16.5098, time=299.79s\n",
            "iter 8375: dev acc=0.4127\n",
            "Shuffling training data\n",
            "Iter 8500: loss=14.7666, time=304.20s\n",
            "iter 8500: dev acc=0.3988\n",
            "Shuffling training data\n",
            "Iter 8625: loss=9.8629, time=308.56s\n",
            "iter 8625: dev acc=0.4008\n",
            "Shuffling training data\n",
            "Iter 8750: loss=8.2878, time=313.07s\n",
            "iter 8750: dev acc=0.4048\n",
            "Iter 8875: loss=8.0598, time=317.64s\n",
            "iter 8875: dev acc=0.3790\n",
            "Shuffling training data\n",
            "Iter 9000: loss=8.7020, time=322.14s\n",
            "iter 9000: dev acc=0.3948\n",
            "Shuffling training data\n",
            "Iter 9125: loss=12.6425, time=326.89s\n",
            "iter 9125: dev acc=0.4087\n",
            "Shuffling training data\n",
            "Iter 9250: loss=10.7103, time=331.36s\n",
            "iter 9250: dev acc=0.4107\n",
            "Iter 9375: loss=11.8138, time=335.81s\n",
            "iter 9375: dev acc=0.4306\n",
            "Shuffling training data\n",
            "Iter 9500: loss=8.4048, time=340.49s\n",
            "iter 9500: dev acc=0.3948\n",
            "Shuffling training data\n",
            "Iter 9625: loss=11.1280, time=345.03s\n",
            "iter 9625: dev acc=0.3968\n",
            "Shuffling training data\n",
            "Iter 9750: loss=6.6032, time=349.52s\n",
            "iter 9750: dev acc=0.3929\n",
            "Shuffling training data\n",
            "Iter 9875: loss=5.9762, time=354.01s\n",
            "iter 9875: dev acc=0.4008\n",
            "Iter 10000: loss=5.7487, time=358.41s\n",
            "iter 10000: dev acc=0.4048\n",
            "Shuffling training data\n",
            "Iter 10125: loss=4.2382, time=362.89s\n",
            "iter 10125: dev acc=0.4087\n",
            "Shuffling training data\n",
            "Iter 10250: loss=4.7867, time=367.40s\n",
            "iter 10250: dev acc=0.3988\n",
            "Shuffling training data\n",
            "Iter 10375: loss=4.4841, time=371.84s\n",
            "iter 10375: dev acc=0.3988\n",
            "Shuffling training data\n",
            "Iter 10500: loss=6.8519, time=376.24s\n",
            "iter 10500: dev acc=0.4028\n",
            "Iter 10625: loss=5.2649, time=380.68s\n",
            "iter 10625: dev acc=0.4008\n",
            "Shuffling training data\n",
            "Iter 10750: loss=3.7539, time=385.09s\n",
            "iter 10750: dev acc=0.4167\n",
            "Shuffling training data\n",
            "Iter 10875: loss=3.1938, time=389.51s\n",
            "iter 10875: dev acc=0.4048\n",
            "Shuffling training data\n",
            "Iter 11000: loss=6.6396, time=393.88s\n",
            "iter 11000: dev acc=0.3690\n",
            "Iter 11125: loss=21.6807, time=398.27s\n",
            "iter 11125: dev acc=0.4048\n",
            "Shuffling training data\n",
            "Iter 11250: loss=16.5190, time=402.80s\n",
            "iter 11250: dev acc=0.4147\n",
            "Shuffling training data\n",
            "Iter 11375: loss=6.0310, time=407.35s\n",
            "iter 11375: dev acc=0.4087\n",
            "Shuffling training data\n",
            "Iter 11500: loss=3.8600, time=411.79s\n",
            "iter 11500: dev acc=0.4008\n",
            "Shuffling training data\n",
            "Iter 11625: loss=3.3729, time=416.27s\n",
            "iter 11625: dev acc=0.4087\n",
            "Iter 11750: loss=2.5753, time=420.66s\n",
            "iter 11750: dev acc=0.4107\n",
            "Shuffling training data\n",
            "Iter 11875: loss=2.5759, time=425.05s\n",
            "iter 11875: dev acc=0.3988\n",
            "Shuffling training data\n",
            "Iter 12000: loss=1.9958, time=429.51s\n",
            "iter 12000: dev acc=0.4127\n",
            "Shuffling training data\n",
            "Iter 12125: loss=1.7537, time=433.96s\n",
            "iter 12125: dev acc=0.4028\n",
            "Shuffling training data\n",
            "Iter 12250: loss=2.1991, time=438.40s\n",
            "iter 12250: dev acc=0.4028\n",
            "Iter 12375: loss=1.7908, time=442.88s\n",
            "iter 12375: dev acc=0.4147\n",
            "Shuffling training data\n",
            "Iter 12500: loss=1.6398, time=447.38s\n",
            "iter 12500: dev acc=0.4107\n",
            "Shuffling training data\n",
            "Iter 12625: loss=2.1505, time=451.82s\n",
            "iter 12625: dev acc=0.4028\n",
            "Shuffling training data\n",
            "Iter 12750: loss=4.2967, time=456.22s\n",
            "iter 12750: dev acc=0.3988\n",
            "Iter 12875: loss=25.3079, time=460.69s\n",
            "iter 12875: dev acc=0.4246\n",
            "Shuffling training data\n",
            "Iter 13000: loss=15.1857, time=465.20s\n",
            "iter 13000: dev acc=0.4147\n",
            "Shuffling training data\n",
            "Iter 13125: loss=7.2838, time=469.59s\n",
            "iter 13125: dev acc=0.4226\n",
            "Shuffling training data\n",
            "Iter 13250: loss=5.9591, time=474.02s\n",
            "iter 13250: dev acc=0.4345\n",
            "Shuffling training data\n",
            "Iter 13375: loss=3.7570, time=478.42s\n",
            "iter 13375: dev acc=0.4286\n",
            "Iter 13500: loss=2.2702, time=482.87s\n",
            "iter 13500: dev acc=0.4206\n",
            "Shuffling training data\n",
            "Iter 13625: loss=1.8556, time=487.26s\n",
            "iter 13625: dev acc=0.4246\n",
            "Shuffling training data\n",
            "Iter 13750: loss=1.7039, time=491.66s\n",
            "iter 13750: dev acc=0.4206\n",
            "Shuffling training data\n",
            "Iter 13875: loss=1.7868, time=496.09s\n",
            "iter 13875: dev acc=0.4206\n",
            "Shuffling training data\n",
            "Iter 14000: loss=1.2712, time=500.49s\n",
            "iter 14000: dev acc=0.4187\n",
            "Iter 14125: loss=1.1575, time=504.91s\n",
            "iter 14125: dev acc=0.4167\n",
            "Shuffling training data\n",
            "Iter 14250: loss=1.1766, time=509.31s\n",
            "iter 14250: dev acc=0.4167\n",
            "Shuffling training data\n",
            "Iter 14375: loss=1.0883, time=513.75s\n",
            "iter 14375: dev acc=0.4187\n",
            "Shuffling training data\n",
            "Iter 14500: loss=1.0640, time=518.24s\n",
            "iter 14500: dev acc=0.4087\n",
            "Iter 14625: loss=1.1417, time=522.86s\n",
            "iter 14625: dev acc=0.4206\n",
            "Shuffling training data\n",
            "Iter 14750: loss=0.9535, time=527.44s\n",
            "iter 14750: dev acc=0.4127\n",
            "Shuffling training data\n",
            "Iter 14875: loss=0.9993, time=531.91s\n",
            "iter 14875: dev acc=0.4226\n",
            "Shuffling training data\n",
            "Iter 15000: loss=0.9652, time=536.31s\n",
            "iter 15000: dev acc=0.4226\n",
            "Done training\n",
            "Loading best model\n",
            "best model iter 2625: train acc=0.6779, dev acc=0.4702, test acc=0.4716\n",
            "[0.29563492063492064, 0.42658730158730157, 0.40476190476190477, 0.4226190476190476, 0.44246031746031744, 0.44246031746031744, 0.45634920634920634, 0.4583333333333333, 0.4603174603174603, 0.44246031746031744, 0.4503968253968254, 0.44246031746031744, 0.44047619047619047, 0.44642857142857145, 0.42658730158730157, 0.45634920634920634, 0.4246031746031746, 0.4444444444444444, 0.4503968253968254, 0.43452380952380953, 0.47023809523809523, 0.45436507936507936, 0.42857142857142855, 0.45436507936507936, 0.42063492063492064, 0.4365079365079365, 0.4444444444444444, 0.4503968253968254, 0.44642857142857145, 0.45436507936507936, 0.4246031746031746, 0.4246031746031746, 0.40476190476190477, 0.41865079365079366, 0.42658730158730157, 0.41865079365079366, 0.4087301587301587, 0.40476190476190477, 0.42857142857142855, 0.40674603174603174, 0.4027777777777778, 0.4146825396825397, 0.4246031746031746, 0.4305555555555556, 0.4087301587301587, 0.42063492063492064, 0.40674603174603174, 0.4305555555555556, 0.4166666666666667, 0.4007936507936508, 0.40674603174603174, 0.4226190476190476, 0.4305555555555556, 0.3968253968253968, 0.4107142857142857, 0.40476190476190477, 0.4007936507936508, 0.40476190476190477, 0.41865079365079366, 0.39880952380952384, 0.39087301587301587, 0.4226190476190476, 0.40674603174603174, 0.4107142857142857, 0.4246031746031746, 0.3869047619047619, 0.4126984126984127, 0.39880952380952384, 0.4007936507936508, 0.40476190476190477, 0.37896825396825395, 0.3948412698412698, 0.4087301587301587, 0.4107142857142857, 0.4305555555555556, 0.3948412698412698, 0.3968253968253968, 0.39285714285714285, 0.4007936507936508, 0.40476190476190477, 0.4087301587301587, 0.39880952380952384, 0.39880952380952384, 0.4027777777777778, 0.4007936507936508, 0.4166666666666667, 0.40476190476190477, 0.36904761904761907, 0.40476190476190477, 0.4146825396825397, 0.4087301587301587, 0.4007936507936508, 0.4087301587301587, 0.4107142857142857, 0.39880952380952384, 0.4126984126984127, 0.4027777777777778, 0.4027777777777778, 0.4146825396825397, 0.4107142857142857, 0.4027777777777778, 0.39880952380952384, 0.4246031746031746, 0.4146825396825397, 0.4226190476190476, 0.43452380952380953, 0.42857142857142855, 0.42063492063492064, 0.4246031746031746, 0.42063492063492064, 0.42063492063492064, 0.41865079365079366, 0.4166666666666667, 0.4166666666666667, 0.41865079365079366, 0.4087301587301587, 0.42063492063492064, 0.4126984126984127, 0.4226190476190476, 0.4226190476190476]\n",
            "[196.50183999538422, 182.9431849718094, 163.17820858955383, 157.75465619564056, 153.17039686441422, 151.17515689134598, 146.49626511335373, 145.12049543857574, 142.99432319402695, 138.8375682234764, 135.06831473112106, 136.43550777435303, 134.7956621646881, 129.4117540717125, 127.03679203987122, 125.7122545838356, 120.6163882613182, 123.53334361314774, 118.73723649978638, 115.7734454870224, 109.71602874994278, 110.17375063896179, 106.81789886951447, 102.3503939807415, 101.824154317379, 97.55061635375023, 94.741658359766, 94.17920193076134, 88.71857213973999, 82.74573281407356, 82.02525800466537, 77.33065962791443, 77.02797293663025, 72.41353514790535, 69.45688192546368, 68.30080281198025, 64.12118110060692, 59.915584430098534, 54.898540034890175, 55.86403255164623, 51.65706332027912, 48.628838047385216, 42.80696702003479, 44.35873721912503, 40.310740023851395, 36.847295336425304, 35.52683265507221, 33.15922059863806, 34.577123530209064, 31.347450383007526, 29.728761439211667, 27.903029676526785, 24.299023170024157, 23.134158320724964, 25.087082162499428, 23.08254790492356, 19.710452631115913, 18.417718447744846, 19.610805083066225, 16.2417826782912, 14.242186037823558, 16.725282536819577, 18.208932403475046, 16.793256344273686, 14.919485155493021, 11.407448288984597, 16.509755823761225, 14.766620471142232, 9.862934444565326, 8.287750650197268, 8.059814692474902, 8.701952901668847, 12.642467959783971, 10.710345217958093, 11.81379115395248, 8.40480062412098, 11.127962136175483, 6.603160227183253, 5.97624653019011, 5.748695992864668, 4.238221242791042, 4.786721186246723, 4.484107679920271, 6.851930269505829, 5.264890284975991, 3.7539043130818754, 3.1938074505887926, 6.6396209937520325, 21.68065234553069, 16.518968266434968, 6.030973690212704, 3.860001612920314, 3.372918549925089, 2.575290709035471, 2.5759486275492236, 1.9958108976716176, 1.7537187994457781, 2.1990629822248593, 1.7907748540164903, 1.639764804043807, 2.1505339848808944, 4.296650243224576, 25.30793724441901, 15.185675920918584, 7.283771520014852, 5.959099990170216, 3.7569712141994387, 2.270167403621599, 1.8556308913975954, 1.7038922171341255, 1.78677097952459, 1.2711914982064627, 1.157548903429415, 1.1766260041040368, 1.0883030244731344, 1.064040205325, 1.14169809903251, 0.9534601824707352, 0.9992940835654736, 0.9652454738679808]\n"
          ],
          "name": "stdout"
        }
      ]
    },
    {
      "cell_type": "code",
      "metadata": {
        "id": "DHcHHaLtguUg",
        "colab_type": "code",
        "outputId": "fe4304a2-03ae-4d8f-f9b3-49206c3d1273",
        "colab": {
          "base_uri": "https://localhost:8080/",
          "height": 452
        }
      },
      "source": [
        "# plot\n",
        "loss, acc = results\n",
        "plt.plot(acc)"
      ],
      "execution_count": 0,
      "outputs": [
        {
          "output_type": "execute_result",
          "data": {
            "text/plain": [
              "[<matplotlib.lines.Line2D at 0x7fb7c05985c0>]"
            ]
          },
          "metadata": {
            "tags": []
          },
          "execution_count": 81
        },
        {
          "output_type": "display_data",
          "data": {
            "image/png": "[encoded data removed]",
            "text/plain": [
              "<Figure size 640x480 with 1 Axes>"
            ]
          },
          "metadata": {
            "tags": []
          }
        }
      ]
    },
    {
      "cell_type": "code",
      "metadata": {
        "id": "SOryeu6i_n-1",
        "colab_type": "code",
        "outputId": "ac7af532-8782-4f8e-be97-3558a65eb377",
        "colab": {
          "base_uri": "https://localhost:8080/",
          "height": 450
        }
      },
      "source": [
        "plt.plot(loss)"
      ],
      "execution_count": 0,
      "outputs": [
        {
          "output_type": "execute_result",
          "data": {
            "text/plain": [
              "[<matplotlib.lines.Line2D at 0x7fb7c0579f28>]"
            ]
          },
          "metadata": {
            "tags": []
          },
          "execution_count": 82
        },
        {
          "output_type": "display_data",
          "data": {
            "image/png": "[encoded data removed]",
            "text/plain": [
              "<Figure size 640x480 with 1 Axes>"
            ]
          },
          "metadata": {
            "tags": []
          }
        }
      ]
    },
    {
      "cell_type": "code",
      "metadata": {
        "id": "yreMLQwhvEbk",
        "colab_type": "code",
        "colab": {}
      },
      "source": [
        "## TODO : COLLECT DATA OF ALL MODELS. PLOT ALL MODELS TOGETHER. MAKE RELEVANT PLOTS FOR REPORT"
      ],
      "execution_count": 0,
      "outputs": []
    },
    {
      "cell_type": "markdown",
      "metadata": {
        "id": "f7QZZH86eHqu",
        "colab_type": "text"
      },
      "source": [
        "# Further experiments and report\n",
        "\n",
        "For your report, you are expected to answer research questions by doing further experiments.\n",
        "\n",
        "## Research Questions\n",
        "\n",
        "Make sure you cover at least the following:\n",
        "\n",
        "- How important is word order for this task?\n",
        "- Does the tree structure help to get a better accuracy?\n",
        "- How does performance depend on the sentence length? Compare the various models. Is there a model that does better on longer sentences? If so, why?\n",
        "- Do you get better performance if you supervise the sentiment **at each node in the tree**? You can extract more training examples by treating every node in each tree as a separate tree. You will need to write a function that extracts all subtrees given a treestring. \n",
        "    - Warning: NLTK's Tree function seems to result in invalid trees in some cases, so be careful if you want to parse the string to a tree structure before extraction the phrases.\n",
        "\n",
        "Optionally, you can also investigate the following:\n",
        "\n",
        "- When making a wrong prediction, can you figure out at what point in the tree (sentence) the model fails? You can make a prediction at each node to investigate.\n",
        "- How does N-ary Tree LSTM compare to the Child-Sum Tree LSTM? \n",
        "- How do the Tai et al. Tree LSTMs compare to Le & Zuidema's formulation?\n",
        "- Or.. your own research question!\n",
        "\n",
        "In general:\n",
        "\n",
        "- ***When you report numbers, please report the mean accuracy across 3 (or more) runs with different random seed, together with the standard deviation.*** This is because the final performance may vary per random seed.\n",
        "\n",
        "## Report instructions\n",
        "\n",
        "Your report needs to be written in LaTeX. You are required to use the ACL 2018 template [(zip)](https://acl2018.org/downloads/acl18-latex.zip) which you can edit directly on [Overleaf](https://www.overleaf.com/latex/templates/instructions-for-acl-2018-proceedings/xzmhqgnmkppc). Make sure your names and student numbers are visible at the top. (Tip: you need to uncomment `/aclfinalcopy`).\n",
        "You can find some general tips about writing a research paper [here](https://www.microsoft.com/en-us/research/academic-program/write-great-research-paper/), but note that you need to make your own judgment about what is appropriate for this project. \n",
        "\n",
        "We expect you to use the following structure:\n",
        "1. Introduction (~1 page) - describe the problem, your research questions and goals, a summary of your findings and contributions. Please cite related work (models, data set) as part of your introduction here, since this is a short paper.\n",
        "    - Introduce the task and the main goal\n",
        "    - Clear research questions\n",
        "    - Motivating the importance of the questions and explaining the expectations\n",
        "    - How are these addressed or not addressed in the literature\n",
        "    - What is your approach\n",
        "    - Short summary of your findings\n",
        "2. Background (~1/2-1 page) -\n",
        "cover the main techniques (\"building blocks\") used in your project (e.g. word embeddings, LSTM, Tree LSTM) and intuitions behind them. Be accurate and concise.\n",
        "    - How each technique that you use works (don't just copy the formulas)\n",
        "    - The relation between the techniques\n",
        "3. Models (~1/2 page) - Cover the models that you used.\n",
        "    - The architecture of the final models (how do you use LSTM or Tree LSTM for the sentiment classification task. what layers you have, how do you do classification? What is your loss function?)\n",
        "4. Experiments (~1/2 page) - Describe your experimental setup. The information here should allow someone else to re-create your experiments. Describe how you evaluate the models.\n",
        "    - Explain the task and the data\n",
        "    - Training the models (model, data, parameters and hyper parameters if the models, training algorithms, what supervision signals you use, etc.)\n",
        "    - Evaluation (e.g. metrics)\n",
        "5. Results and Analysis (~1 page). Go over the results and analyse your findings.\n",
        "    - Answer each of the research questions you raised in the introduction.\n",
        "    - Plots and figures highlighting interesting patterns\n",
        "    - What are the factors that makes model A  better than model B in task C? investigate to prove their effect!\n",
        "6. Conclusion (~1/4 page). The main conclusions of your experiments.\n",
        "    - What you learned from you experiments? how does it relate to what is already known in the literature?\n",
        "    - Where the results as expected ? any surprising results? why?\n",
        "    - Based on what you learned what would you suggest to do next?\n",
        "\n",
        "\n",
        "General Tips:\n",
        "\n",
        "- Math notation – define each variable (either in running text, or in a pseudo-legenda after or before the equation)\n",
        "- Define technical terminology you need\n",
        "- Avoid colloquial language – everything can be said in a scientific-sounding way\n",
        "- Avoid lengthy sentences, stay to the point!\n",
        "- Do not spend space on \"obvious\" things!\n",
        "\n",
        "\n",
        "An ideal report:\n",
        "- Precise, scientific-sounding, technical, to the point \n",
        "  - Little general “waffle”/chit-chat\n",
        "- Not boring – because you don’t explain obvious things too much\n",
        "- Efficient delivery of (only) the facts that we need to know to understand/reimplement\n",
        "- Results visually well-presented and described with the correct priority of importance of sub-results\n",
        "- Insightful analysis – speculation should connect to something interesting and not be too much; the reader “learns something new”\n",
        "- No typos, no colloquialisms – well-considered language\n",
        "- This normally means several re-draftings (re-orderings of information)"
      ]
    },
    {
      "cell_type": "code",
      "metadata": {
        "id": "uCINIXV1q1oe",
        "colab_type": "code",
        "colab": {}
      },
      "source": [
        ""
      ],
      "execution_count": 0,
      "outputs": []
    }
  ]
}